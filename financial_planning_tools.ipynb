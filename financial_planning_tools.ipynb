{
 "cells": [
  {
   "cell_type": "markdown",
   "metadata": {},
   "source": [
    "# Financial Planning with APIs and Simulations\n",
    "\n",
    "In this Challenge, you’ll create two financial analysis tools by using a single Jupyter notebook:\n",
    "\n",
    "Part 1: A financial planner for emergencies. The members will be able to use this tool to visualize their current savings. The members can then determine if they have enough reserves for an emergency fund.\n",
    "\n",
    "Part 2: A financial planner for retirement. This tool will forecast the performance of their retirement portfolio in 30 years. To do this, the tool will make an Alpaca API call via the Alpaca SDK to get historical price data for use in Monte Carlo simulations.\n",
    "\n",
    "You’ll use the information from the Monte Carlo simulation to answer questions about the portfolio in your Jupyter notebook.\n",
    "\n"
   ]
  },
  {
   "cell_type": "code",
   "execution_count": 1,
   "metadata": {},
   "outputs": [],
   "source": [
    "# Import the required libraries and dependencies\n",
    "import os\n",
    "import requests\n",
    "import json\n",
    "import pandas as pd\n",
    "from dotenv import load_dotenv\n",
    "import alpaca_trade_api as tradeapi\n",
    "from MCForecastTools import MCSimulation\n",
    "\n",
    "%matplotlib inline"
   ]
  },
  {
   "cell_type": "code",
   "execution_count": 2,
   "metadata": {},
   "outputs": [
    {
     "data": {
      "text/plain": [
       "True"
      ]
     },
     "execution_count": 2,
     "metadata": {},
     "output_type": "execute_result"
    }
   ],
   "source": [
    "# Load the environment variables from the .env file\n",
    "#by calling the load_dotenv function\n",
    "load_dotenv()"
   ]
  },
  {
   "cell_type": "markdown",
   "metadata": {},
   "source": [
    "## Part 1: Create a Financial Planner for Emergencies"
   ]
  },
  {
   "cell_type": "markdown",
   "metadata": {},
   "source": [
    "### Evaluate the Cryptocurrency Wallet by Using the Requests Library\n",
    "\n",
    "In this section, you’ll determine the current value of a member’s cryptocurrency wallet. You’ll collect the current prices for the Bitcoin and Ethereum cryptocurrencies by using the Python Requests library. For the prototype, you’ll assume that the member holds the 1.2 Bitcoins (BTC) and 5.3 Ethereum coins (ETH). To do all this, complete the following steps:\n",
    "\n",
    "1. Create a variable named `monthly_income`, and set its value to `12000`.\n",
    "\n",
    "2. Use the Requests library to get the current price (in US dollars) of Bitcoin (BTC) and Ethereum (ETH) by using the API endpoints that the starter code supplies.\n",
    "\n",
    "3. Navigate the JSON response object to access the current price of each coin, and store each in a variable.\n",
    "\n",
    "    > **Hint** Note the specific identifier for each cryptocurrency in the API JSON response. The Bitcoin identifier is `1`, and the Ethereum identifier is `1027`.\n",
    "\n",
    "4. Calculate the value, in US dollars, of the current amount of each cryptocurrency and of the entire cryptocurrency wallet.\n",
    "\n"
   ]
  },
  {
   "cell_type": "code",
   "execution_count": 3,
   "metadata": {},
   "outputs": [],
   "source": [
    "# The current number of coins for each cryptocurrency asset held in the portfolio.\n",
    "btc_coins = 1.2\n",
    "eth_coins = 5.3"
   ]
  },
  {
   "cell_type": "markdown",
   "metadata": {},
   "source": [
    "#### Step 1: Create a variable named `monthly_income`, and set its value to `12000`."
   ]
  },
  {
   "cell_type": "code",
   "execution_count": 4,
   "metadata": {},
   "outputs": [],
   "source": [
    "# The monthly amount for the member's household income\n",
    "monthly_income = 12000\n"
   ]
  },
  {
   "cell_type": "markdown",
   "metadata": {},
   "source": [
    "#### Review the endpoint URLs for the API calls to Free Crypto API in order to get the current pricing information for both BTC and ETH."
   ]
  },
  {
   "cell_type": "code",
   "execution_count": 5,
   "metadata": {},
   "outputs": [],
   "source": [
    "# The Free Crypto API Call endpoint URLs for the held cryptocurrency assets\n",
    "btc_url = \"https://api.alternative.me/v2/ticker/Bitcoin/?convert=USD\"\n",
    "eth_url = \"https://api.alternative.me/v2/ticker/Ethereum/?convert=USD\""
   ]
  },
  {
   "cell_type": "markdown",
   "metadata": {},
   "source": [
    "#### Step 2. Use the Requests library to get the current price (in US dollars) of Bitcoin (BTC) and Ethereum (ETH) by using the API endpoints that the starter code supplied."
   ]
  },
  {
   "cell_type": "code",
   "execution_count": 6,
   "metadata": {},
   "outputs": [
    {
     "name": "stdout",
     "output_type": "stream",
     "text": [
      "{\n",
      "  \"data\": {\n",
      "    \"1\": {\n",
      "      \"circulating_supply\": 18950812,\n",
      "      \"id\": 1,\n",
      "      \"last_updated\": 1644199164,\n",
      "      \"max_supply\": 21000000,\n",
      "      \"name\": \"Bitcoin\",\n",
      "      \"quotes\": {\n",
      "        \"USD\": {\n",
      "          \"market_cap\": 800290578885,\n",
      "          \"percent_change_1h\": 0.810336305186693,\n",
      "          \"percent_change_24h\": 1.35503779312648,\n",
      "          \"percent_change_7d\": 11.1728332935548,\n",
      "          \"percentage_change_1h\": 0.810336305186693,\n",
      "          \"percentage_change_24h\": 1.35503779312648,\n",
      "          \"percentage_change_7d\": 11.1728332935548,\n",
      "          \"price\": 42227.0,\n",
      "          \"volume_24h\": 14141441611\n",
      "        }\n",
      "      },\n",
      "      \"rank\": 1,\n",
      "      \"symbol\": \"BTC\",\n",
      "      \"total_supply\": 18950812,\n",
      "      \"website_slug\": \"bitcoin\"\n",
      "    }\n",
      "  },\n",
      "  \"metadata\": {\n",
      "    \"error\": null,\n",
      "    \"num_cryptocurrencies\": 3105,\n",
      "    \"timestamp\": 1644199164\n",
      "  }\n",
      "}\n"
     ]
    }
   ],
   "source": [
    "# Using the Python requests library, make an API call to access the current price of BTC\n",
    "btc_response = requests.get(btc_url).json()\n",
    "\n",
    "# Use the json.dumps function to review the response data from the API call\n",
    "# Use the indent and sort_keys parameters to make the response object readable\n",
    "print(json.dumps(btc_response, indent=2, sort_keys=True))\n"
   ]
  },
  {
   "cell_type": "code",
   "execution_count": 7,
   "metadata": {},
   "outputs": [
    {
     "name": "stdout",
     "output_type": "stream",
     "text": [
      "{\n",
      "  \"data\": {\n",
      "    \"1027\": {\n",
      "      \"circulating_supply\": 119475782,\n",
      "      \"id\": 1027,\n",
      "      \"last_updated\": 1644199064,\n",
      "      \"max_supply\": 0,\n",
      "      \"name\": \"Ethereum\",\n",
      "      \"quotes\": {\n",
      "        \"USD\": {\n",
      "          \"market_cap\": 362129362406,\n",
      "          \"percent_change_1h\": 0.525725725215483,\n",
      "          \"percent_change_24h\": -0.262696912076847,\n",
      "          \"percent_change_7d\": 16.0824090151043,\n",
      "          \"percentage_change_1h\": 0.525725725215483,\n",
      "          \"percentage_change_24h\": -0.262696912076847,\n",
      "          \"percentage_change_7d\": 16.0824090151043,\n",
      "          \"price\": 3029.96,\n",
      "          \"volume_24h\": 9568744477\n",
      "        }\n",
      "      },\n",
      "      \"rank\": 2,\n",
      "      \"symbol\": \"ETH\",\n",
      "      \"total_supply\": 119475782,\n",
      "      \"website_slug\": \"ethereum\"\n",
      "    }\n",
      "  },\n",
      "  \"metadata\": {\n",
      "    \"error\": null,\n",
      "    \"num_cryptocurrencies\": 3105,\n",
      "    \"timestamp\": 1644199064\n",
      "  }\n",
      "}\n"
     ]
    }
   ],
   "source": [
    "# Using the Python requests library, make an API call to access the current price ETH\n",
    "eth_response = requests.get(eth_url).json()\n",
    "\n",
    "# Use the json.dumps function to review the response data from the API call\n",
    "# Use the indent and sort_keys parameters to make the response object readable\n",
    "print(json.dumps(eth_response, indent=2, sort_keys=True))\n"
   ]
  },
  {
   "cell_type": "markdown",
   "metadata": {},
   "source": [
    "#### Step 3: Navigate the JSON response object to access the current price of each coin, and store each in a variable."
   ]
  },
  {
   "cell_type": "code",
   "execution_count": 8,
   "metadata": {},
   "outputs": [
    {
     "name": "stdout",
     "output_type": "stream",
     "text": [
      "The current price of BTC is $42227.0 USD.\n"
     ]
    }
   ],
   "source": [
    "# Navigate the BTC response object to access the current price of BTC\n",
    "btc_price = btc_response[\"data\"][\"1\"][\"quotes\"][\"USD\"][\"price\"]\n",
    "\n",
    "# Print the current price of BTC\n",
    "print(f\"The current price of BTC is ${btc_price} USD.\")\n"
   ]
  },
  {
   "cell_type": "code",
   "execution_count": 9,
   "metadata": {},
   "outputs": [
    {
     "name": "stdout",
     "output_type": "stream",
     "text": [
      "The current price of ETH is $3029.96 USD.\n"
     ]
    }
   ],
   "source": [
    "# Navigate the BTC response object to access the current price of ETH\n",
    "eth_price = eth_response[\"data\"][\"1027\"][\"quotes\"][\"USD\"][\"price\"]\n",
    "\n",
    "# Print the current price of ETH\n",
    "print(f\"The current price of ETH is ${eth_price} USD.\")\n"
   ]
  },
  {
   "cell_type": "markdown",
   "metadata": {},
   "source": [
    "### Step 4: Calculate the value, in US dollars, of the current amount of each cryptocurrency and of the entire cryptocurrency wallet."
   ]
  },
  {
   "cell_type": "code",
   "execution_count": 10,
   "metadata": {},
   "outputs": [
    {
     "name": "stdout",
     "output_type": "stream",
     "text": [
      "The current value of your BTC holdings is $ 50672.40 USD.\n"
     ]
    }
   ],
   "source": [
    "# Compute the current value of the BTC holding \n",
    "btc_value = btc_coins * btc_price\n",
    "\n",
    "# Print current value of your holding in BTC\n",
    "print(f\"The current value of your BTC holdings is ${btc_value: .2f} USD.\")\n"
   ]
  },
  {
   "cell_type": "code",
   "execution_count": 11,
   "metadata": {},
   "outputs": [
    {
     "name": "stdout",
     "output_type": "stream",
     "text": [
      "The current value of your ETH holdings is $ 16058.79 USD.\n"
     ]
    }
   ],
   "source": [
    "# Compute the current value of the ETH holding \n",
    "eth_value = eth_coins * eth_price\n",
    "\n",
    "# Print current value of your holding in ETH\n",
    "print(f\"The current value of your ETH holdings is ${eth_value: .2f} USD.\")\n"
   ]
  },
  {
   "cell_type": "code",
   "execution_count": 12,
   "metadata": {},
   "outputs": [
    {
     "name": "stdout",
     "output_type": "stream",
     "text": [
      "The current cryptocurrency wallet balance is $ 66731.19 USD.\n"
     ]
    }
   ],
   "source": [
    "# Compute the total value of the cryptocurrency wallet\n",
    "# Add the value of the BTC holding to the value of the ETH holding\n",
    "total_crypto_wallet = btc_value + eth_value\n",
    "\n",
    "# Print current cryptocurrency wallet balance\n",
    "print(f\"The current cryptocurrency wallet balance is ${total_crypto_wallet: .2f} USD.\")\n"
   ]
  },
  {
   "cell_type": "markdown",
   "metadata": {},
   "source": [
    "### Evaluate the Stock and Bond Holdings by Using the Alpaca SDK\n",
    "\n",
    "In this section, you’ll determine the current value of a member’s stock and bond holdings. You’ll make an API call to Alpaca via the Alpaca SDK to get the current closing prices of the SPDR S&P 500 ETF Trust (ticker: SPY) and of the iShares Core US Aggregate Bond ETF (ticker: AGG). For the prototype, assume that the member holds 110 shares of SPY, which represents the stock portion of their portfolio, and 200 shares of AGG, which represents the bond portion. To do all this, complete the following steps:\n",
    "\n",
    "1. In the `Starter_Code` folder, create an environment file (`.env`) to store the values of your Alpaca API key and Alpaca secret key.\n",
    "\n",
    "2. Set the variables for the Alpaca API and secret keys. Using the Alpaca SDK, create the Alpaca `tradeapi.REST` object. In this object, include the parameters for the Alpaca API key, the secret key, and the version number.\n",
    "\n",
    "3. Set the following parameters for the Alpaca API call:\n",
    "\n",
    "    - `tickers`: Use the tickers for the member’s stock and bond holdings.\n",
    "\n",
    "    - `timeframe`: Use a time frame of one day.\n",
    "\n",
    "    - `start_date` and `end_date`: Use the same date for these parameters, and format them with the date of the previous weekday (or `2020-08-07`). This is because you want the one closing price for the most-recent trading day.\n",
    "\n",
    "4. Get the current closing prices for `SPY` and `AGG` by using the Alpaca `get_barset` function. Format the response as a Pandas DataFrame by including the `df` property at the end of the `get_barset` function.\n",
    "\n",
    "5. Navigating the Alpaca response DataFrame, select the `SPY` and `AGG` closing prices, and store them as variables.\n",
    "\n",
    "6. Calculate the value, in US dollars, of the current amount of shares in each of the stock and bond portions of the portfolio, and print the results.\n"
   ]
  },
  {
   "cell_type": "markdown",
   "metadata": {},
   "source": [
    "#### Review the total number of shares held in both (SPY) and (AGG)."
   ]
  },
  {
   "cell_type": "code",
   "execution_count": 13,
   "metadata": {},
   "outputs": [],
   "source": [
    "# Current amount of shares held in both the stock (SPY) and bond (AGG) portion of the portfolio.\n",
    "spy_shares = 110\n",
    "agg_shares = 200\n"
   ]
  },
  {
   "cell_type": "markdown",
   "metadata": {},
   "source": [
    "#### Step 1: In the `Starter_Code` folder, create an environment file (`.env`) to store the values of your Alpaca API key and Alpaca secret key."
   ]
  },
  {
   "cell_type": "markdown",
   "metadata": {},
   "source": [
    "#### Step 2: Set the variables for the Alpaca API and secret keys. Using the Alpaca SDK, create the Alpaca `tradeapi.REST` object. In this object, include the parameters for the Alpaca API key, the secret key, and the version number."
   ]
  },
  {
   "cell_type": "code",
   "execution_count": 14,
   "metadata": {},
   "outputs": [
    {
     "data": {
      "text/plain": [
       "str"
      ]
     },
     "metadata": {},
     "output_type": "display_data"
    },
    {
     "data": {
      "text/plain": [
       "str"
      ]
     },
     "metadata": {},
     "output_type": "display_data"
    }
   ],
   "source": [
    "# Set the variables for the Alpaca API and secret keys\n",
    "alpaca_api_key = os.getenv(\"ALPACA_API_KEY\")\n",
    "alpaca_secret_key = os.getenv(\"ALPACA_SECRET_KEY\")\n",
    "\n",
    "# Create the Alpaca tradeapi.REST object\n",
    "alpaca = tradeapi.REST(\n",
    "    alpaca_api_key,\n",
    "    alpaca_secret_key,\n",
    "    api_version = \"v2\"\n",
    "    )\n",
    "\n",
    "display(type(alpaca_api_key))\n",
    "display(type(alpaca_secret_key))\n"
   ]
  },
  {
   "cell_type": "markdown",
   "metadata": {},
   "source": [
    "#### Step 3: Set the following parameters for the Alpaca API call:\n",
    "\n",
    "- `tickers`: Use the tickers for the member’s stock and bond holdings.\n",
    "\n",
    "- `timeframe`: Use a time frame of one day.\n",
    "\n",
    "- `start_date` and `end_date`: Use the same date for these parameters, and format them with the date of the previous weekday (or `2020-08-07`). This is because you want the one closing price for the most-recent trading day.\n"
   ]
  },
  {
   "cell_type": "code",
   "execution_count": 15,
   "metadata": {},
   "outputs": [],
   "source": [
    "# Set the tickers for both the bond and stock portion of the portfolio\n",
    "tickers = [\"SPY\", \"AGG\"]\n",
    "\n",
    "# Set timeframe to 1D \n",
    "timeframe = \"1D\"\n",
    "\n",
    "# Format current date as ISO format\n",
    "# Set both the start and end date at the date of your prior weekday \n",
    "# This will give you the closing price of the previous trading day\n",
    "# Alternatively you can use a start and end date of 2020-08-07\n",
    "start_date = pd.Timestamp(\"2022-02-02\", tz=\"America/New_York\").isoformat()\n",
    "end_date = pd.Timestamp(\"2022-02-02\", tz=\"America/New_York\").isoformat()"
   ]
  },
  {
   "cell_type": "markdown",
   "metadata": {},
   "source": [
    "#### Step 4: Get the current closing prices for `SPY` and `AGG` by using the Alpaca `get_barset` function. Format the response as a Pandas DataFrame by including the `df` property at the end of the `get_barset` function."
   ]
  },
  {
   "cell_type": "code",
   "execution_count": 16,
   "metadata": {},
   "outputs": [
    {
     "name": "stderr",
     "output_type": "stream",
     "text": [
      "/var/folders/26/kgl4kmyd0h189pf049s58nwh0000gn/T/ipykernel_10782/3895972734.py:3: DeprecatedWarning: get_barset is deprecated as of v1.0.0. Use get_bars instead\n",
      "  portfolio_df = alpaca.get_barset(\n"
     ]
    },
    {
     "data": {
      "text/html": [
       "<div>\n",
       "<style scoped>\n",
       "    .dataframe tbody tr th:only-of-type {\n",
       "        vertical-align: middle;\n",
       "    }\n",
       "\n",
       "    .dataframe tbody tr th {\n",
       "        vertical-align: top;\n",
       "    }\n",
       "\n",
       "    .dataframe thead tr th {\n",
       "        text-align: left;\n",
       "    }\n",
       "\n",
       "    .dataframe thead tr:last-of-type th {\n",
       "        text-align: right;\n",
       "    }\n",
       "</style>\n",
       "<table border=\"1\" class=\"dataframe\">\n",
       "  <thead>\n",
       "    <tr>\n",
       "      <th></th>\n",
       "      <th colspan=\"5\" halign=\"left\">AGG</th>\n",
       "      <th colspan=\"5\" halign=\"left\">SPY</th>\n",
       "    </tr>\n",
       "    <tr>\n",
       "      <th></th>\n",
       "      <th>open</th>\n",
       "      <th>high</th>\n",
       "      <th>low</th>\n",
       "      <th>close</th>\n",
       "      <th>volume</th>\n",
       "      <th>open</th>\n",
       "      <th>high</th>\n",
       "      <th>low</th>\n",
       "      <th>close</th>\n",
       "      <th>volume</th>\n",
       "    </tr>\n",
       "    <tr>\n",
       "      <th>time</th>\n",
       "      <th></th>\n",
       "      <th></th>\n",
       "      <th></th>\n",
       "      <th></th>\n",
       "      <th></th>\n",
       "      <th></th>\n",
       "      <th></th>\n",
       "      <th></th>\n",
       "      <th></th>\n",
       "      <th></th>\n",
       "    </tr>\n",
       "  </thead>\n",
       "  <tbody>\n",
       "    <tr>\n",
       "      <th>2022-02-02 00:00:00-05:00</th>\n",
       "      <td>111.7</td>\n",
       "      <td>111.97</td>\n",
       "      <td>111.6744</td>\n",
       "      <td>111.72</td>\n",
       "      <td>7424696</td>\n",
       "      <td>455.5</td>\n",
       "      <td>458.12</td>\n",
       "      <td>453.05</td>\n",
       "      <td>457.3</td>\n",
       "      <td>97807976</td>\n",
       "    </tr>\n",
       "  </tbody>\n",
       "</table>\n",
       "</div>"
      ],
      "text/plain": [
       "                             AGG                                       SPY  \\\n",
       "                            open    high       low   close   volume   open   \n",
       "time                                                                         \n",
       "2022-02-02 00:00:00-05:00  111.7  111.97  111.6744  111.72  7424696  455.5   \n",
       "\n",
       "                                                            \n",
       "                             high     low  close    volume  \n",
       "time                                                        \n",
       "2022-02-02 00:00:00-05:00  458.12  453.05  457.3  97807976  "
      ]
     },
     "execution_count": 16,
     "metadata": {},
     "output_type": "execute_result"
    }
   ],
   "source": [
    "# Use the Alpaca get_barset function to get current closing prices the portfolio\n",
    "# Be sure to set the `df` property after the function to format the response object as a DataFrame\n",
    "portfolio_df = alpaca.get_barset(\n",
    "    tickers,\n",
    "    timeframe,\n",
    "    start = start_date, \n",
    "    end = end_date,\n",
    "    ).df\n",
    "\n",
    "# Review the first 5 rows of the Alpaca DataFrame\n",
    "portfolio_df.head()\n"
   ]
  },
  {
   "cell_type": "markdown",
   "metadata": {},
   "source": [
    "#### Step 5: Navigating the Alpaca response DataFrame, select the `SPY` and `AGG` closing prices, and store them as variables."
   ]
  },
  {
   "cell_type": "code",
   "execution_count": 17,
   "metadata": {},
   "outputs": [
    {
     "name": "stdout",
     "output_type": "stream",
     "text": [
      "The AGG closing price is $111.72 USD.\n"
     ]
    }
   ],
   "source": [
    "# Access the closing price for AGG from the Alpaca DataFrame\n",
    "# Converting the value to a floating point number\n",
    "agg_close_price = float(portfolio_df[\"AGG\"][\"close\"])\n",
    "\n",
    "# Print the AGG closing price\n",
    "print(f\"The AGG closing price is ${agg_close_price} USD.\")\n"
   ]
  },
  {
   "cell_type": "code",
   "execution_count": 18,
   "metadata": {},
   "outputs": [
    {
     "name": "stdout",
     "output_type": "stream",
     "text": [
      "The SPY closing price is $457.3 USD.\n"
     ]
    }
   ],
   "source": [
    "# Access the closing price for SPY from the Alpaca DataFrame\n",
    "# Converting the value to a floating point number\n",
    "spy_close_price = float(portfolio_df[\"SPY\"][\"close\"])\n",
    "\n",
    "# Print the SPY closing price\n",
    "print(f\"The SPY closing price is ${spy_close_price} USD.\")\n"
   ]
  },
  {
   "cell_type": "markdown",
   "metadata": {},
   "source": [
    "#### Step 6: Calculate the value, in US dollars, of the current amount of shares in each of the stock and bond portions of the portfolio, and print the results."
   ]
  },
  {
   "cell_type": "code",
   "execution_count": 19,
   "metadata": {},
   "outputs": [
    {
     "name": "stdout",
     "output_type": "stream",
     "text": [
      "The current value of the bond portfolio is $22344.0 USD.\n"
     ]
    }
   ],
   "source": [
    "# Calculate the current value of the bond portion of the portfolio\n",
    "agg_value = agg_close_price * agg_shares\n",
    "\n",
    "# Print the current value of the bond portfolio\n",
    "print(f\"The current value of the bond portfolio is ${agg_value} USD.\")\n"
   ]
  },
  {
   "cell_type": "code",
   "execution_count": 20,
   "metadata": {},
   "outputs": [
    {
     "name": "stdout",
     "output_type": "stream",
     "text": [
      "The current value of the stock portfolio is $50303.0 USD.\n"
     ]
    }
   ],
   "source": [
    "# Calculate the current value of the stock portion of the portfolio\n",
    "spy_value = spy_close_price * spy_shares\n",
    "\n",
    "# Print the current value of the stock portfolio\n",
    "print(f\"The current value of the stock portfolio is ${spy_value} USD.\")\n"
   ]
  },
  {
   "cell_type": "code",
   "execution_count": 21,
   "metadata": {},
   "outputs": [
    {
     "name": "stdout",
     "output_type": "stream",
     "text": [
      "The current balance of the stock and bond portion of the portfolio is $72647.0 USD.\n"
     ]
    }
   ],
   "source": [
    "# Calculate the total value of the stock and bond portion of the portfolio\n",
    "total_stocks_bonds = agg_value + spy_value\n",
    "\n",
    "# Print the current balance of the stock and bond portion of the portfolio\n",
    "print(f\"The current balance of the stock and bond portion of the portfolio is ${total_stocks_bonds} USD.\")\n"
   ]
  },
  {
   "cell_type": "code",
   "execution_count": 22,
   "metadata": {},
   "outputs": [
    {
     "name": "stdout",
     "output_type": "stream",
     "text": [
      "The total value of the entire savings portfolio is $ 139378.19 USD.\n"
     ]
    }
   ],
   "source": [
    "# Calculate the total value of the member's entire savings portfolio\n",
    "# Add the value of the cryptocurrency walled to the value of the total stocks and bonds\n",
    "total_portfolio = total_crypto_wallet + total_stocks_bonds\n",
    "\n",
    "# Print current cryptocurrency wallet balance\n",
    "print(f\"The total value of the entire savings portfolio is ${total_portfolio: .2f} USD.\")\n"
   ]
  },
  {
   "cell_type": "markdown",
   "metadata": {},
   "source": [
    "### Evaluate the Emergency Fund\n",
    "\n",
    "In this section, you’ll use the valuations for the cryptocurrency wallet and for the stock and bond portions of the portfolio to determine if the credit union member has enough savings to build an emergency fund into their financial plan. To do this, complete the following steps:\n",
    "\n",
    "1. Create a Python list named `savings_data` that has two elements. The first element contains the total value of the cryptocurrency wallet. The second element contains the total value of the stock and bond portions of the portfolio.\n",
    "\n",
    "2. Use the `savings_data` list to create a Pandas DataFrame named `savings_df`, and then display this DataFrame. The function to create the DataFrame should take the following three parameters:\n",
    "\n",
    "    - `savings_data`: Use the list that you just created.\n",
    "\n",
    "    - `columns`: Set this parameter equal to a Python list with a single value called `amount`.\n",
    "\n",
    "    - `index`: Set this parameter equal to a Python list with the values of `crypto` and `stock/bond`.\n",
    "\n",
    "3. Use the `savings_df` DataFrame to plot a pie chart that visualizes the composition of the member’s portfolio. The y-axis of the pie chart uses `amount`. Be sure to add a title.\n",
    "\n",
    "4. Using Python, determine if the current portfolio has enough to create an emergency fund as part of the member’s financial plan. Ideally, an emergency fund should equal to three times the member’s monthly income. To do this, implement the following steps:\n",
    "\n",
    "    1. Create a variable named `emergency_fund_value`, and set it equal to three times the value of the member’s `monthly_income` of $12000. (You set this earlier in Part 1).\n",
    "\n",
    "    2. Create a series of three if statements to determine if the member’s total portfolio is large enough to fund the emergency portfolio:\n",
    "\n",
    "        1. If the total portfolio value is greater than the emergency fund value, display a message congratulating the member for having enough money in this fund.\n",
    "\n",
    "        2. Else if the total portfolio value is equal to the emergency fund value, display a message congratulating the member on reaching this important financial goal.\n",
    "\n",
    "        3. Else the total portfolio is less than the emergency fund value, so display a message showing how many dollars away the member is from reaching the goal. (Subtract the total portfolio value from the emergency fund value.)\n"
   ]
  },
  {
   "cell_type": "markdown",
   "metadata": {},
   "source": [
    "#### Step 1: Create a Python list named `savings_data` that has two elements. The first element contains the total value of the cryptocurrency wallet. The second element contains the total value of the stock and bond portions of the portfolio."
   ]
  },
  {
   "cell_type": "code",
   "execution_count": 23,
   "metadata": {},
   "outputs": [
    {
     "data": {
      "text/plain": [
       "[66731.188, 72647.0]"
      ]
     },
     "execution_count": 23,
     "metadata": {},
     "output_type": "execute_result"
    }
   ],
   "source": [
    "# Consolidate financial assets data into a Python list\n",
    "savings_data = [total_crypto_wallet, total_stocks_bonds]\n",
    "\n",
    "# Review the Python list savings_data\n",
    "savings_data\n",
    "    "
   ]
  },
  {
   "cell_type": "markdown",
   "metadata": {},
   "source": [
    "#### Step 2: Use the `savings_data` list to create a Pandas DataFrame named `savings_df`, and then display this DataFrame. The function to create the DataFrame should take the following three parameters:\n",
    "\n",
    "- `savings_data`: Use the list that you just created.\n",
    "\n",
    "- `columns`: Set this parameter equal to a Python list with a single value called `amount`.\n",
    "\n",
    "- `index`: Set this parameter equal to a Python list with the values of `crypto` and `stock/bond`.\n"
   ]
  },
  {
   "cell_type": "code",
   "execution_count": 24,
   "metadata": {},
   "outputs": [
    {
     "data": {
      "text/html": [
       "<div>\n",
       "<style scoped>\n",
       "    .dataframe tbody tr th:only-of-type {\n",
       "        vertical-align: middle;\n",
       "    }\n",
       "\n",
       "    .dataframe tbody tr th {\n",
       "        vertical-align: top;\n",
       "    }\n",
       "\n",
       "    .dataframe thead th {\n",
       "        text-align: right;\n",
       "    }\n",
       "</style>\n",
       "<table border=\"1\" class=\"dataframe\">\n",
       "  <thead>\n",
       "    <tr style=\"text-align: right;\">\n",
       "      <th></th>\n",
       "      <th>amount</th>\n",
       "    </tr>\n",
       "  </thead>\n",
       "  <tbody>\n",
       "    <tr>\n",
       "      <th>crypto</th>\n",
       "      <td>66731.188</td>\n",
       "    </tr>\n",
       "    <tr>\n",
       "      <th>stock/bond</th>\n",
       "      <td>72647.000</td>\n",
       "    </tr>\n",
       "  </tbody>\n",
       "</table>\n",
       "</div>"
      ],
      "text/plain": [
       "               amount\n",
       "crypto      66731.188\n",
       "stock/bond  72647.000"
      ]
     },
     "execution_count": 24,
     "metadata": {},
     "output_type": "execute_result"
    }
   ],
   "source": [
    "# Create a Pandas DataFrame called savings_df \n",
    "savings_df = pd.DataFrame(savings_data, columns=[\"amount\"], index=[\"crypto\",\"stock/bond\"])\n",
    "\n",
    "# Display the savings_df DataFrame\n",
    "savings_df\n"
   ]
  },
  {
   "cell_type": "markdown",
   "metadata": {},
   "source": [
    "#### Step 3: Use the `savings_df` DataFrame to plot a pie chart that visualizes the composition of the member’s portfolio. The y-axis of the pie chart uses `amount`. Be sure to add a title."
   ]
  },
  {
   "cell_type": "code",
   "execution_count": 25,
   "metadata": {},
   "outputs": [
    {
     "data": {
      "text/plain": [
       "<AxesSubplot:title={'center':'Total Portfolio Value - Crypto, Stocks, & Bonds'}, ylabel='amount'>"
      ]
     },
     "execution_count": 25,
     "metadata": {},
     "output_type": "execute_result"
    },
    {
     "data": {
      "image/png": "[encoded data removed]",
      "text/plain": [
       "<Figure size 504x504 with 1 Axes>"
      ]
     },
     "metadata": {},
     "output_type": "display_data"
    }
   ],
   "source": [
    "# Plot the total value of the member's portfolio (crypto and stock/bond) in a pie chart\n",
    "savings_df.plot.pie(y = 'amount', title = \"Total Portfolio Value - Crypto, Stocks, & Bonds\", figsize = (7, 7))"
   ]
  },
  {
   "cell_type": "markdown",
   "metadata": {},
   "source": [
    "#### Step 4: Using Python, determine if the current portfolio has enough to create an emergency fund as part of the member’s financial plan. Ideally, an emergency fund should equal to three times the member’s monthly income. To do this, implement the following steps:\n",
    "\n",
    "Step 1. Create a variable named `emergency_fund_value`, and set it equal to three times the value of the member’s `monthly_income` of 12000. (You set this earlier in Part 1).\n",
    "\n",
    "Step 2. Create a series of three if statements to determine if the member’s total portfolio is large enough to fund the emergency portfolio:\n",
    "\n",
    "* If the total portfolio value is greater than the emergency fund value, display a message congratulating the member for having enough money in this fund.\n",
    "\n",
    "* Else if the total portfolio value is equal to the emergency fund value, display a message congratulating the member on reaching this important financial goal.\n",
    "\n",
    "* Else the total portfolio is less than the emergency fund value, so display a message showing how many dollars away the member is from reaching the goal. (Subtract the total portfolio value from the emergency fund value.)\n"
   ]
  },
  {
   "cell_type": "markdown",
   "metadata": {},
   "source": [
    "##### Step 4-1: Create a variable named `emergency_fund_value`, and set it equal to three times the value of the member’s `monthly_income` of 12000. (You set this earlier in Part 1)."
   ]
  },
  {
   "cell_type": "code",
   "execution_count": 26,
   "metadata": {},
   "outputs": [
    {
     "name": "stdout",
     "output_type": "stream",
     "text": [
      "The value of the emergency fund should be at least $36000 USD.\n"
     ]
    }
   ],
   "source": [
    "# Create a variable named emergency_fund_value\n",
    "emergency_fund_value = 3 * monthly_income\n",
    "\n",
    "# Print the emergency_fund_value\n",
    "print(f\"The value of the emergency fund should be at least ${emergency_fund_value} USD.\")\n"
   ]
  },
  {
   "cell_type": "markdown",
   "metadata": {},
   "source": [
    "##### Step 4-2: Create a series of three if statements to determine if the member’s total portfolio is large enough to fund the emergency portfolio:\n",
    "\n",
    "* If the total portfolio value is greater than the emergency fund value, display a message congratulating the member for having enough money in this fund.\n",
    "\n",
    "* Else if the total portfolio value is equal to the emergency fund value, display a message congratulating the member on reaching this important financial goal.\n",
    "\n",
    "* Else the total portfolio is less than the emergency fund value, so display a message showing how many dollars away the member is from reaching the goal. (Subtract the total portfolio value from the emergency fund value.)"
   ]
  },
  {
   "cell_type": "code",
   "execution_count": 27,
   "metadata": {},
   "outputs": [
    {
     "name": "stdout",
     "output_type": "stream",
     "text": [
      "Congratulations, you have enough money in this portfolio to fund your emergency portfolio!\n"
     ]
    }
   ],
   "source": [
    "# Evaluate the possibility of creating an emergency fund with 3 conditions:\n",
    "if total_portfolio > emergency_fund_value:\n",
    "    print(\"Congratulations, you have enough money in this portfolio to fund your emergency portfolio!\")\n",
    "elif total_portfolio == emergency_fund_value:\n",
    "    print(\"Congratulations! You have reached an important financial goal of having a 3-month emergency fund reserve.\")\n",
    "else:\n",
    "    print(f\"You are ${emergency_fund_value - total_portfolio} away from reaching the goal of having 3-month emergency fund reserve.\") "
   ]
  },
  {
   "cell_type": "markdown",
   "metadata": {},
   "source": [
    "## Part 2: Create a Financial Planner for Retirement"
   ]
  },
  {
   "cell_type": "markdown",
   "metadata": {},
   "source": [
    "### Create the Monte Carlo Simulation\n",
    "\n",
    "In this section, you’ll use the MCForecastTools library to create a Monte Carlo simulation for the member’s savings portfolio. To do this, complete the following steps:\n",
    "\n",
    "1. Make an API call via the Alpaca SDK to get 3 years of historical closing prices for a traditional 60/40 portfolio split: 60% stocks (SPY) and 40% bonds (AGG).\n",
    "\n",
    "2. Run a Monte Carlo simulation of 500 samples and 30 years for the 60/40 portfolio, and then plot the results.The following image shows the overlay line plot resulting from a simulation with these characteristics. However, because a random number generator is used to run each live Monte Carlo simulation, your image will differ slightly from this exact image:\n",
    "\n",
    "![A screenshot depicts the resulting plot.](Images/5-4-monte-carlo-line-plot.png)\n",
    "\n",
    "3. Plot the probability distribution of the Monte Carlo simulation. Plot the probability distribution of the Monte Carlo simulation. The following image shows the histogram plot resulting from a simulation with these characteristics. However, because a random number generator is used to run each live Monte Carlo simulation, your image will differ slightly from this exact image:\n",
    "\n",
    "![A screenshot depicts the histogram plot.](Images/5-4-monte-carlo-histogram.png)\n",
    "\n",
    "4. Generate the summary statistics for the Monte Carlo simulation.\n",
    "\n"
   ]
  },
  {
   "cell_type": "markdown",
   "metadata": {},
   "source": [
    "#### Step 1: Make an API call via the Alpaca SDK to get 3 years of historical closing prices for a traditional 60/40 portfolio split: 60% stocks (SPY) and 40% bonds (AGG)."
   ]
  },
  {
   "cell_type": "code",
   "execution_count": 28,
   "metadata": {},
   "outputs": [],
   "source": [
    "# Set start and end dates of 3 years back from your current date\n",
    "# Alternatively, you can use an end date of 2020-08-07 and work 3 years back from that date \n",
    "start_date_3yrs_back = pd.Timestamp(\"2019-02-02\", tz=\"America/New_York\").isoformat()\n",
    "end_date = pd.Timestamp(\"2022-02-02\", tz=\"America/New_York\").isoformat()\n",
    "\n",
    "# Set number of rows to 1000 to retrieve the maximum amount of rows\n",
    "limit_rows = 1000"
   ]
  },
  {
   "cell_type": "code",
   "execution_count": 29,
   "metadata": {},
   "outputs": [
    {
     "name": "stderr",
     "output_type": "stream",
     "text": [
      "/var/folders/26/kgl4kmyd0h189pf049s58nwh0000gn/T/ipykernel_10782/1180840155.py:5: DeprecatedWarning: get_barset is deprecated as of v1.0.0. Use get_bars instead\n",
      "  prices_3_years_df = alpaca.get_barset(\n"
     ]
    },
    {
     "data": {
      "text/html": [
       "<div>\n",
       "<style scoped>\n",
       "    .dataframe tbody tr th:only-of-type {\n",
       "        vertical-align: middle;\n",
       "    }\n",
       "\n",
       "    .dataframe tbody tr th {\n",
       "        vertical-align: top;\n",
       "    }\n",
       "\n",
       "    .dataframe thead tr th {\n",
       "        text-align: left;\n",
       "    }\n",
       "\n",
       "    .dataframe thead tr:last-of-type th {\n",
       "        text-align: right;\n",
       "    }\n",
       "</style>\n",
       "<table border=\"1\" class=\"dataframe\">\n",
       "  <thead>\n",
       "    <tr>\n",
       "      <th></th>\n",
       "      <th colspan=\"5\" halign=\"left\">AGG</th>\n",
       "      <th colspan=\"5\" halign=\"left\">SPY</th>\n",
       "    </tr>\n",
       "    <tr>\n",
       "      <th></th>\n",
       "      <th>open</th>\n",
       "      <th>high</th>\n",
       "      <th>low</th>\n",
       "      <th>close</th>\n",
       "      <th>volume</th>\n",
       "      <th>open</th>\n",
       "      <th>high</th>\n",
       "      <th>low</th>\n",
       "      <th>close</th>\n",
       "      <th>volume</th>\n",
       "    </tr>\n",
       "    <tr>\n",
       "      <th>time</th>\n",
       "      <th></th>\n",
       "      <th></th>\n",
       "      <th></th>\n",
       "      <th></th>\n",
       "      <th></th>\n",
       "      <th></th>\n",
       "      <th></th>\n",
       "      <th></th>\n",
       "      <th></th>\n",
       "      <th></th>\n",
       "    </tr>\n",
       "  </thead>\n",
       "  <tbody>\n",
       "    <tr>\n",
       "      <th>2019-02-04 00:00:00-05:00</th>\n",
       "      <td>106.83</td>\n",
       "      <td>106.9000</td>\n",
       "      <td>106.770</td>\n",
       "      <td>106.8950</td>\n",
       "      <td>9790488.0</td>\n",
       "      <td>270.11</td>\n",
       "      <td>271.8000</td>\n",
       "      <td>269.36</td>\n",
       "      <td>271.78</td>\n",
       "      <td>46985797</td>\n",
       "    </tr>\n",
       "    <tr>\n",
       "      <th>2019-02-05 00:00:00-05:00</th>\n",
       "      <td>106.95</td>\n",
       "      <td>107.1400</td>\n",
       "      <td>106.950</td>\n",
       "      <td>107.0900</td>\n",
       "      <td>4918385.0</td>\n",
       "      <td>272.44</td>\n",
       "      <td>273.4400</td>\n",
       "      <td>271.88</td>\n",
       "      <td>273.13</td>\n",
       "      <td>61540042</td>\n",
       "    </tr>\n",
       "    <tr>\n",
       "      <th>2019-02-06 00:00:00-05:00</th>\n",
       "      <td>107.20</td>\n",
       "      <td>107.2200</td>\n",
       "      <td>106.985</td>\n",
       "      <td>107.0441</td>\n",
       "      <td>6022187.0</td>\n",
       "      <td>272.79</td>\n",
       "      <td>273.3400</td>\n",
       "      <td>271.92</td>\n",
       "      <td>272.70</td>\n",
       "      <td>43446324</td>\n",
       "    </tr>\n",
       "    <tr>\n",
       "      <th>2019-02-07 00:00:00-05:00</th>\n",
       "      <td>107.15</td>\n",
       "      <td>107.1983</td>\n",
       "      <td>107.030</td>\n",
       "      <td>107.1500</td>\n",
       "      <td>3080898.0</td>\n",
       "      <td>270.94</td>\n",
       "      <td>271.5500</td>\n",
       "      <td>268.29</td>\n",
       "      <td>269.97</td>\n",
       "      <td>83380785</td>\n",
       "    </tr>\n",
       "    <tr>\n",
       "      <th>2019-02-08 00:00:00-05:00</th>\n",
       "      <td>107.17</td>\n",
       "      <td>107.3800</td>\n",
       "      <td>107.170</td>\n",
       "      <td>107.3550</td>\n",
       "      <td>2988674.0</td>\n",
       "      <td>268.75</td>\n",
       "      <td>270.2874</td>\n",
       "      <td>267.83</td>\n",
       "      <td>270.08</td>\n",
       "      <td>63409417</td>\n",
       "    </tr>\n",
       "  </tbody>\n",
       "</table>\n",
       "</div>"
      ],
      "text/plain": [
       "                              AGG                                          \\\n",
       "                             open      high      low     close     volume   \n",
       "time                                                                        \n",
       "2019-02-04 00:00:00-05:00  106.83  106.9000  106.770  106.8950  9790488.0   \n",
       "2019-02-05 00:00:00-05:00  106.95  107.1400  106.950  107.0900  4918385.0   \n",
       "2019-02-06 00:00:00-05:00  107.20  107.2200  106.985  107.0441  6022187.0   \n",
       "2019-02-07 00:00:00-05:00  107.15  107.1983  107.030  107.1500  3080898.0   \n",
       "2019-02-08 00:00:00-05:00  107.17  107.3800  107.170  107.3550  2988674.0   \n",
       "\n",
       "                              SPY                                      \n",
       "                             open      high     low   close    volume  \n",
       "time                                                                   \n",
       "2019-02-04 00:00:00-05:00  270.11  271.8000  269.36  271.78  46985797  \n",
       "2019-02-05 00:00:00-05:00  272.44  273.4400  271.88  273.13  61540042  \n",
       "2019-02-06 00:00:00-05:00  272.79  273.3400  271.92  272.70  43446324  \n",
       "2019-02-07 00:00:00-05:00  270.94  271.5500  268.29  269.97  83380785  \n",
       "2019-02-08 00:00:00-05:00  268.75  270.2874  267.83  270.08  63409417  "
      ]
     },
     "metadata": {},
     "output_type": "display_data"
    },
    {
     "data": {
      "text/html": [
       "<div>\n",
       "<style scoped>\n",
       "    .dataframe tbody tr th:only-of-type {\n",
       "        vertical-align: middle;\n",
       "    }\n",
       "\n",
       "    .dataframe tbody tr th {\n",
       "        vertical-align: top;\n",
       "    }\n",
       "\n",
       "    .dataframe thead tr th {\n",
       "        text-align: left;\n",
       "    }\n",
       "\n",
       "    .dataframe thead tr:last-of-type th {\n",
       "        text-align: right;\n",
       "    }\n",
       "</style>\n",
       "<table border=\"1\" class=\"dataframe\">\n",
       "  <thead>\n",
       "    <tr>\n",
       "      <th></th>\n",
       "      <th colspan=\"5\" halign=\"left\">AGG</th>\n",
       "      <th colspan=\"5\" halign=\"left\">SPY</th>\n",
       "    </tr>\n",
       "    <tr>\n",
       "      <th></th>\n",
       "      <th>open</th>\n",
       "      <th>high</th>\n",
       "      <th>low</th>\n",
       "      <th>close</th>\n",
       "      <th>volume</th>\n",
       "      <th>open</th>\n",
       "      <th>high</th>\n",
       "      <th>low</th>\n",
       "      <th>close</th>\n",
       "      <th>volume</th>\n",
       "    </tr>\n",
       "    <tr>\n",
       "      <th>time</th>\n",
       "      <th></th>\n",
       "      <th></th>\n",
       "      <th></th>\n",
       "      <th></th>\n",
       "      <th></th>\n",
       "      <th></th>\n",
       "      <th></th>\n",
       "      <th></th>\n",
       "      <th></th>\n",
       "      <th></th>\n",
       "    </tr>\n",
       "  </thead>\n",
       "  <tbody>\n",
       "    <tr>\n",
       "      <th>2022-01-27 00:00:00-05:00</th>\n",
       "      <td>111.62</td>\n",
       "      <td>111.8800</td>\n",
       "      <td>111.6200</td>\n",
       "      <td>111.72</td>\n",
       "      <td>5836124.0</td>\n",
       "      <td>438.26</td>\n",
       "      <td>441.58</td>\n",
       "      <td>429.4500</td>\n",
       "      <td>431.270</td>\n",
       "      <td>136251597</td>\n",
       "    </tr>\n",
       "    <tr>\n",
       "      <th>2022-01-28 00:00:00-05:00</th>\n",
       "      <td>111.46</td>\n",
       "      <td>111.8600</td>\n",
       "      <td>111.4400</td>\n",
       "      <td>111.81</td>\n",
       "      <td>10400422.0</td>\n",
       "      <td>432.70</td>\n",
       "      <td>442.00</td>\n",
       "      <td>427.8200</td>\n",
       "      <td>441.920</td>\n",
       "      <td>142062305</td>\n",
       "    </tr>\n",
       "    <tr>\n",
       "      <th>2022-01-31 00:00:00-05:00</th>\n",
       "      <td>111.64</td>\n",
       "      <td>111.8900</td>\n",
       "      <td>111.6000</td>\n",
       "      <td>111.78</td>\n",
       "      <td>11437834.0</td>\n",
       "      <td>441.24</td>\n",
       "      <td>450.28</td>\n",
       "      <td>439.8100</td>\n",
       "      <td>449.815</td>\n",
       "      <td>128202383</td>\n",
       "    </tr>\n",
       "    <tr>\n",
       "      <th>2022-02-01 00:00:00-05:00</th>\n",
       "      <td>111.66</td>\n",
       "      <td>111.6764</td>\n",
       "      <td>111.3800</td>\n",
       "      <td>111.59</td>\n",
       "      <td>9477222.0</td>\n",
       "      <td>450.72</td>\n",
       "      <td>453.63</td>\n",
       "      <td>446.9384</td>\n",
       "      <td>452.960</td>\n",
       "      <td>106515279</td>\n",
       "    </tr>\n",
       "    <tr>\n",
       "      <th>2022-02-02 00:00:00-05:00</th>\n",
       "      <td>111.70</td>\n",
       "      <td>111.9700</td>\n",
       "      <td>111.6744</td>\n",
       "      <td>111.72</td>\n",
       "      <td>7424696.0</td>\n",
       "      <td>455.50</td>\n",
       "      <td>458.12</td>\n",
       "      <td>453.0500</td>\n",
       "      <td>457.300</td>\n",
       "      <td>97807976</td>\n",
       "    </tr>\n",
       "  </tbody>\n",
       "</table>\n",
       "</div>"
      ],
      "text/plain": [
       "                              AGG                                          \\\n",
       "                             open      high       low   close      volume   \n",
       "time                                                                        \n",
       "2022-01-27 00:00:00-05:00  111.62  111.8800  111.6200  111.72   5836124.0   \n",
       "2022-01-28 00:00:00-05:00  111.46  111.8600  111.4400  111.81  10400422.0   \n",
       "2022-01-31 00:00:00-05:00  111.64  111.8900  111.6000  111.78  11437834.0   \n",
       "2022-02-01 00:00:00-05:00  111.66  111.6764  111.3800  111.59   9477222.0   \n",
       "2022-02-02 00:00:00-05:00  111.70  111.9700  111.6744  111.72   7424696.0   \n",
       "\n",
       "                              SPY                                        \n",
       "                             open    high       low    close     volume  \n",
       "time                                                                     \n",
       "2022-01-27 00:00:00-05:00  438.26  441.58  429.4500  431.270  136251597  \n",
       "2022-01-28 00:00:00-05:00  432.70  442.00  427.8200  441.920  142062305  \n",
       "2022-01-31 00:00:00-05:00  441.24  450.28  439.8100  449.815  128202383  \n",
       "2022-02-01 00:00:00-05:00  450.72  453.63  446.9384  452.960  106515279  \n",
       "2022-02-02 00:00:00-05:00  455.50  458.12  453.0500  457.300   97807976  "
      ]
     },
     "metadata": {},
     "output_type": "display_data"
    }
   ],
   "source": [
    "# Use the Alpaca get_barset function to make the API call to get the 3 years worth of pricing data\n",
    "# The tickers and timeframe parameters should have been set in Part 1 of this activity \n",
    "# The start and end dates should be updated with the information set above\n",
    "# Remember to add the df property to the end of the call so the response is returned as a DataFrame\n",
    "prices_3_years_df = alpaca.get_barset(\n",
    "    tickers, \n",
    "    timeframe,\n",
    "    start=start_date_3yrs_back,\n",
    "    end=end_date,\n",
    "    limit=limit_rows\n",
    "    ).df\n",
    "\n",
    "\n",
    "# Display both the first and last five rows of the DataFrame\n",
    "display(prices_3_years_df.head())\n",
    "display(prices_3_years_df.tail())\n"
   ]
  },
  {
   "cell_type": "markdown",
   "metadata": {},
   "source": [
    "#### Step 2: Run a Monte Carlo simulation of 500 samples and 30 years for the 60/40 portfolio, and then plot the results."
   ]
  },
  {
   "cell_type": "code",
   "execution_count": 30,
   "metadata": {},
   "outputs": [
    {
     "data": {
      "text/html": [
       "<div>\n",
       "<style scoped>\n",
       "    .dataframe tbody tr th:only-of-type {\n",
       "        vertical-align: middle;\n",
       "    }\n",
       "\n",
       "    .dataframe tbody tr th {\n",
       "        vertical-align: top;\n",
       "    }\n",
       "\n",
       "    .dataframe thead tr th {\n",
       "        text-align: left;\n",
       "    }\n",
       "\n",
       "    .dataframe thead tr:last-of-type th {\n",
       "        text-align: right;\n",
       "    }\n",
       "</style>\n",
       "<table border=\"1\" class=\"dataframe\">\n",
       "  <thead>\n",
       "    <tr>\n",
       "      <th></th>\n",
       "      <th colspan=\"6\" halign=\"left\">AGG</th>\n",
       "      <th colspan=\"6\" halign=\"left\">SPY</th>\n",
       "    </tr>\n",
       "    <tr>\n",
       "      <th></th>\n",
       "      <th>open</th>\n",
       "      <th>high</th>\n",
       "      <th>low</th>\n",
       "      <th>close</th>\n",
       "      <th>volume</th>\n",
       "      <th>daily_return</th>\n",
       "      <th>open</th>\n",
       "      <th>high</th>\n",
       "      <th>low</th>\n",
       "      <th>close</th>\n",
       "      <th>volume</th>\n",
       "      <th>daily_return</th>\n",
       "    </tr>\n",
       "    <tr>\n",
       "      <th>time</th>\n",
       "      <th></th>\n",
       "      <th></th>\n",
       "      <th></th>\n",
       "      <th></th>\n",
       "      <th></th>\n",
       "      <th></th>\n",
       "      <th></th>\n",
       "      <th></th>\n",
       "      <th></th>\n",
       "      <th></th>\n",
       "      <th></th>\n",
       "      <th></th>\n",
       "    </tr>\n",
       "  </thead>\n",
       "  <tbody>\n",
       "    <tr>\n",
       "      <th>2019-02-04 00:00:00-05:00</th>\n",
       "      <td>106.83</td>\n",
       "      <td>106.9000</td>\n",
       "      <td>106.770</td>\n",
       "      <td>106.8950</td>\n",
       "      <td>9790488.0</td>\n",
       "      <td>NaN</td>\n",
       "      <td>270.11</td>\n",
       "      <td>271.8000</td>\n",
       "      <td>269.36</td>\n",
       "      <td>271.78</td>\n",
       "      <td>46985797</td>\n",
       "      <td>NaN</td>\n",
       "    </tr>\n",
       "    <tr>\n",
       "      <th>2019-02-05 00:00:00-05:00</th>\n",
       "      <td>106.95</td>\n",
       "      <td>107.1400</td>\n",
       "      <td>106.950</td>\n",
       "      <td>107.0900</td>\n",
       "      <td>4918385.0</td>\n",
       "      <td>0.001824</td>\n",
       "      <td>272.44</td>\n",
       "      <td>273.4400</td>\n",
       "      <td>271.88</td>\n",
       "      <td>273.13</td>\n",
       "      <td>61540042</td>\n",
       "      <td>0.004967</td>\n",
       "    </tr>\n",
       "    <tr>\n",
       "      <th>2019-02-06 00:00:00-05:00</th>\n",
       "      <td>107.20</td>\n",
       "      <td>107.2200</td>\n",
       "      <td>106.985</td>\n",
       "      <td>107.0441</td>\n",
       "      <td>6022187.0</td>\n",
       "      <td>-0.000429</td>\n",
       "      <td>272.79</td>\n",
       "      <td>273.3400</td>\n",
       "      <td>271.92</td>\n",
       "      <td>272.70</td>\n",
       "      <td>43446324</td>\n",
       "      <td>-0.001574</td>\n",
       "    </tr>\n",
       "    <tr>\n",
       "      <th>2019-02-07 00:00:00-05:00</th>\n",
       "      <td>107.15</td>\n",
       "      <td>107.1983</td>\n",
       "      <td>107.030</td>\n",
       "      <td>107.1500</td>\n",
       "      <td>3080898.0</td>\n",
       "      <td>0.000989</td>\n",
       "      <td>270.94</td>\n",
       "      <td>271.5500</td>\n",
       "      <td>268.29</td>\n",
       "      <td>269.97</td>\n",
       "      <td>83380785</td>\n",
       "      <td>-0.010011</td>\n",
       "    </tr>\n",
       "    <tr>\n",
       "      <th>2019-02-08 00:00:00-05:00</th>\n",
       "      <td>107.17</td>\n",
       "      <td>107.3800</td>\n",
       "      <td>107.170</td>\n",
       "      <td>107.3550</td>\n",
       "      <td>2988674.0</td>\n",
       "      <td>0.001913</td>\n",
       "      <td>268.75</td>\n",
       "      <td>270.2874</td>\n",
       "      <td>267.83</td>\n",
       "      <td>270.08</td>\n",
       "      <td>63409417</td>\n",
       "      <td>0.000407</td>\n",
       "    </tr>\n",
       "  </tbody>\n",
       "</table>\n",
       "</div>"
      ],
      "text/plain": [
       "                              AGG                                          \\\n",
       "                             open      high      low     close     volume   \n",
       "time                                                                        \n",
       "2019-02-04 00:00:00-05:00  106.83  106.9000  106.770  106.8950  9790488.0   \n",
       "2019-02-05 00:00:00-05:00  106.95  107.1400  106.950  107.0900  4918385.0   \n",
       "2019-02-06 00:00:00-05:00  107.20  107.2200  106.985  107.0441  6022187.0   \n",
       "2019-02-07 00:00:00-05:00  107.15  107.1983  107.030  107.1500  3080898.0   \n",
       "2019-02-08 00:00:00-05:00  107.17  107.3800  107.170  107.3550  2988674.0   \n",
       "\n",
       "                                           SPY                            \\\n",
       "                          daily_return    open      high     low   close   \n",
       "time                                                                       \n",
       "2019-02-04 00:00:00-05:00          NaN  270.11  271.8000  269.36  271.78   \n",
       "2019-02-05 00:00:00-05:00     0.001824  272.44  273.4400  271.88  273.13   \n",
       "2019-02-06 00:00:00-05:00    -0.000429  272.79  273.3400  271.92  272.70   \n",
       "2019-02-07 00:00:00-05:00     0.000989  270.94  271.5500  268.29  269.97   \n",
       "2019-02-08 00:00:00-05:00     0.001913  268.75  270.2874  267.83  270.08   \n",
       "\n",
       "                                                  \n",
       "                             volume daily_return  \n",
       "time                                              \n",
       "2019-02-04 00:00:00-05:00  46985797          NaN  \n",
       "2019-02-05 00:00:00-05:00  61540042     0.004967  \n",
       "2019-02-06 00:00:00-05:00  43446324    -0.001574  \n",
       "2019-02-07 00:00:00-05:00  83380785    -0.010011  \n",
       "2019-02-08 00:00:00-05:00  63409417     0.000407  "
      ]
     },
     "execution_count": 30,
     "metadata": {},
     "output_type": "execute_result"
    }
   ],
   "source": [
    "# Configure the Monte Carlo simulation to forecast 30 years cumulative returns\n",
    "# The weights should be split 40% to AGG and 60% to SPY.\n",
    "# Run 500 samples.\n",
    "MC_30_year_sim=MCSimulation(\n",
    "    portfolio_data=prices_3_years_df,\n",
    "    weights=[.40, .60],\n",
    "    num_simulation=500,\n",
    "    num_trading_days=252*30)\n",
    "\n",
    "# Review the simulation input data\n",
    "MC_30_year_sim.portfolio_data.head()"
   ]
  },
  {
   "cell_type": "code",
   "execution_count": 31,
   "metadata": {},
   "outputs": [
    {
     "name": "stdout",
     "output_type": "stream",
     "text": [
      "Running Monte Carlo simulation number 0.\n",
      "Running Monte Carlo simulation number 10.\n",
      "Running Monte Carlo simulation number 20.\n",
      "Running Monte Carlo simulation number 30.\n",
      "Running Monte Carlo simulation number 40.\n",
      "Running Monte Carlo simulation number 50.\n",
      "Running Monte Carlo simulation number 60.\n",
      "Running Monte Carlo simulation number 70.\n",
      "Running Monte Carlo simulation number 80.\n",
      "Running Monte Carlo simulation number 90.\n",
      "Running Monte Carlo simulation number 100.\n"
     ]
    },
    {
     "name": "stderr",
     "output_type": "stream",
     "text": [
      "/Users/thomasbrierton/Desktop/Financial_Planning_Simulation/MCForecastTools.py:117: PerformanceWarning: DataFrame is highly fragmented.  This is usually the result of calling `frame.insert` many times, which has poor performance.  Consider joining all columns at once using pd.concat(axis=1) instead.  To get a de-fragmented frame, use `newframe = frame.copy()`\n",
      "  portfolio_cumulative_returns[n] = (1 + sim_df.fillna(0)).cumprod()\n"
     ]
    },
    {
     "name": "stdout",
     "output_type": "stream",
     "text": [
      "Running Monte Carlo simulation number 110.\n",
      "Running Monte Carlo simulation number 120.\n",
      "Running Monte Carlo simulation number 130.\n",
      "Running Monte Carlo simulation number 140.\n",
      "Running Monte Carlo simulation number 150.\n",
      "Running Monte Carlo simulation number 160.\n",
      "Running Monte Carlo simulation number 170.\n",
      "Running Monte Carlo simulation number 180.\n",
      "Running Monte Carlo simulation number 190.\n",
      "Running Monte Carlo simulation number 200.\n",
      "Running Monte Carlo simulation number 210.\n",
      "Running Monte Carlo simulation number 220.\n",
      "Running Monte Carlo simulation number 230.\n",
      "Running Monte Carlo simulation number 240.\n",
      "Running Monte Carlo simulation number 250.\n",
      "Running Monte Carlo simulation number 260.\n",
      "Running Monte Carlo simulation number 270.\n",
      "Running Monte Carlo simulation number 280.\n",
      "Running Monte Carlo simulation number 290.\n",
      "Running Monte Carlo simulation number 300.\n",
      "Running Monte Carlo simulation number 310.\n",
      "Running Monte Carlo simulation number 320.\n",
      "Running Monte Carlo simulation number 330.\n",
      "Running Monte Carlo simulation number 340.\n",
      "Running Monte Carlo simulation number 350.\n",
      "Running Monte Carlo simulation number 360.\n",
      "Running Monte Carlo simulation number 370.\n",
      "Running Monte Carlo simulation number 380.\n",
      "Running Monte Carlo simulation number 390.\n",
      "Running Monte Carlo simulation number 400.\n",
      "Running Monte Carlo simulation number 410.\n",
      "Running Monte Carlo simulation number 420.\n",
      "Running Monte Carlo simulation number 430.\n",
      "Running Monte Carlo simulation number 440.\n",
      "Running Monte Carlo simulation number 450.\n",
      "Running Monte Carlo simulation number 460.\n",
      "Running Monte Carlo simulation number 470.\n",
      "Running Monte Carlo simulation number 480.\n",
      "Running Monte Carlo simulation number 490.\n"
     ]
    },
    {
     "data": {
      "text/html": [
       "<div>\n",
       "<style scoped>\n",
       "    .dataframe tbody tr th:only-of-type {\n",
       "        vertical-align: middle;\n",
       "    }\n",
       "\n",
       "    .dataframe tbody tr th {\n",
       "        vertical-align: top;\n",
       "    }\n",
       "\n",
       "    .dataframe thead th {\n",
       "        text-align: right;\n",
       "    }\n",
       "</style>\n",
       "<table border=\"1\" class=\"dataframe\">\n",
       "  <thead>\n",
       "    <tr style=\"text-align: right;\">\n",
       "      <th></th>\n",
       "      <th>0</th>\n",
       "      <th>1</th>\n",
       "      <th>2</th>\n",
       "      <th>3</th>\n",
       "      <th>4</th>\n",
       "      <th>5</th>\n",
       "      <th>6</th>\n",
       "      <th>7</th>\n",
       "      <th>8</th>\n",
       "      <th>9</th>\n",
       "      <th>...</th>\n",
       "      <th>490</th>\n",
       "      <th>491</th>\n",
       "      <th>492</th>\n",
       "      <th>493</th>\n",
       "      <th>494</th>\n",
       "      <th>495</th>\n",
       "      <th>496</th>\n",
       "      <th>497</th>\n",
       "      <th>498</th>\n",
       "      <th>499</th>\n",
       "    </tr>\n",
       "  </thead>\n",
       "  <tbody>\n",
       "    <tr>\n",
       "      <th>0</th>\n",
       "      <td>1.000000</td>\n",
       "      <td>1.000000</td>\n",
       "      <td>1.000000</td>\n",
       "      <td>1.000000</td>\n",
       "      <td>1.000000</td>\n",
       "      <td>1.000000</td>\n",
       "      <td>1.000000</td>\n",
       "      <td>1.000000</td>\n",
       "      <td>1.000000</td>\n",
       "      <td>1.000000</td>\n",
       "      <td>...</td>\n",
       "      <td>1.000000</td>\n",
       "      <td>1.000000</td>\n",
       "      <td>1.000000</td>\n",
       "      <td>1.000000</td>\n",
       "      <td>1.000000</td>\n",
       "      <td>1.000000</td>\n",
       "      <td>1.000000</td>\n",
       "      <td>1.000000</td>\n",
       "      <td>1.000000</td>\n",
       "      <td>1.000000</td>\n",
       "    </tr>\n",
       "    <tr>\n",
       "      <th>1</th>\n",
       "      <td>0.998078</td>\n",
       "      <td>0.991778</td>\n",
       "      <td>1.011522</td>\n",
       "      <td>0.997773</td>\n",
       "      <td>0.997133</td>\n",
       "      <td>1.005589</td>\n",
       "      <td>0.993998</td>\n",
       "      <td>0.998735</td>\n",
       "      <td>0.987864</td>\n",
       "      <td>1.007506</td>\n",
       "      <td>...</td>\n",
       "      <td>0.994594</td>\n",
       "      <td>0.989944</td>\n",
       "      <td>0.991148</td>\n",
       "      <td>0.998607</td>\n",
       "      <td>1.020031</td>\n",
       "      <td>1.001161</td>\n",
       "      <td>1.006750</td>\n",
       "      <td>1.009502</td>\n",
       "      <td>0.995826</td>\n",
       "      <td>0.999233</td>\n",
       "    </tr>\n",
       "    <tr>\n",
       "      <th>2</th>\n",
       "      <td>0.995965</td>\n",
       "      <td>0.989615</td>\n",
       "      <td>1.012968</td>\n",
       "      <td>0.989855</td>\n",
       "      <td>0.985873</td>\n",
       "      <td>0.997595</td>\n",
       "      <td>0.990773</td>\n",
       "      <td>1.013037</td>\n",
       "      <td>0.977649</td>\n",
       "      <td>0.997340</td>\n",
       "      <td>...</td>\n",
       "      <td>0.995443</td>\n",
       "      <td>0.990239</td>\n",
       "      <td>0.988804</td>\n",
       "      <td>0.995320</td>\n",
       "      <td>1.016570</td>\n",
       "      <td>0.997652</td>\n",
       "      <td>1.009037</td>\n",
       "      <td>1.005610</td>\n",
       "      <td>1.000534</td>\n",
       "      <td>1.006237</td>\n",
       "    </tr>\n",
       "    <tr>\n",
       "      <th>3</th>\n",
       "      <td>0.995453</td>\n",
       "      <td>0.991088</td>\n",
       "      <td>1.016973</td>\n",
       "      <td>1.011233</td>\n",
       "      <td>0.979752</td>\n",
       "      <td>1.009151</td>\n",
       "      <td>0.991098</td>\n",
       "      <td>1.008945</td>\n",
       "      <td>0.968480</td>\n",
       "      <td>0.992219</td>\n",
       "      <td>...</td>\n",
       "      <td>0.993343</td>\n",
       "      <td>0.999162</td>\n",
       "      <td>0.991889</td>\n",
       "      <td>0.979917</td>\n",
       "      <td>1.018746</td>\n",
       "      <td>0.994820</td>\n",
       "      <td>1.005771</td>\n",
       "      <td>1.014867</td>\n",
       "      <td>0.991624</td>\n",
       "      <td>1.000465</td>\n",
       "    </tr>\n",
       "    <tr>\n",
       "      <th>4</th>\n",
       "      <td>1.003662</td>\n",
       "      <td>0.992881</td>\n",
       "      <td>1.021842</td>\n",
       "      <td>1.023683</td>\n",
       "      <td>0.970728</td>\n",
       "      <td>1.024775</td>\n",
       "      <td>0.989454</td>\n",
       "      <td>1.019332</td>\n",
       "      <td>0.973322</td>\n",
       "      <td>0.998577</td>\n",
       "      <td>...</td>\n",
       "      <td>0.987896</td>\n",
       "      <td>0.995357</td>\n",
       "      <td>0.988302</td>\n",
       "      <td>0.987054</td>\n",
       "      <td>1.022411</td>\n",
       "      <td>1.000425</td>\n",
       "      <td>1.005973</td>\n",
       "      <td>1.026727</td>\n",
       "      <td>0.977868</td>\n",
       "      <td>0.999467</td>\n",
       "    </tr>\n",
       "    <tr>\n",
       "      <th>...</th>\n",
       "      <td>...</td>\n",
       "      <td>...</td>\n",
       "      <td>...</td>\n",
       "      <td>...</td>\n",
       "      <td>...</td>\n",
       "      <td>...</td>\n",
       "      <td>...</td>\n",
       "      <td>...</td>\n",
       "      <td>...</td>\n",
       "      <td>...</td>\n",
       "      <td>...</td>\n",
       "      <td>...</td>\n",
       "      <td>...</td>\n",
       "      <td>...</td>\n",
       "      <td>...</td>\n",
       "      <td>...</td>\n",
       "      <td>...</td>\n",
       "      <td>...</td>\n",
       "      <td>...</td>\n",
       "      <td>...</td>\n",
       "      <td>...</td>\n",
       "    </tr>\n",
       "    <tr>\n",
       "      <th>7556</th>\n",
       "      <td>37.902210</td>\n",
       "      <td>36.367618</td>\n",
       "      <td>25.259999</td>\n",
       "      <td>31.890334</td>\n",
       "      <td>126.772324</td>\n",
       "      <td>42.566113</td>\n",
       "      <td>47.371640</td>\n",
       "      <td>8.018985</td>\n",
       "      <td>7.102433</td>\n",
       "      <td>10.242286</td>\n",
       "      <td>...</td>\n",
       "      <td>81.362596</td>\n",
       "      <td>51.593079</td>\n",
       "      <td>31.056714</td>\n",
       "      <td>31.067385</td>\n",
       "      <td>24.483463</td>\n",
       "      <td>36.969976</td>\n",
       "      <td>127.666700</td>\n",
       "      <td>88.050838</td>\n",
       "      <td>27.482423</td>\n",
       "      <td>23.831851</td>\n",
       "    </tr>\n",
       "    <tr>\n",
       "      <th>7557</th>\n",
       "      <td>38.085468</td>\n",
       "      <td>36.875689</td>\n",
       "      <td>25.080721</td>\n",
       "      <td>32.025128</td>\n",
       "      <td>126.833882</td>\n",
       "      <td>42.140783</td>\n",
       "      <td>46.887601</td>\n",
       "      <td>8.114623</td>\n",
       "      <td>7.081491</td>\n",
       "      <td>10.169280</td>\n",
       "      <td>...</td>\n",
       "      <td>81.997616</td>\n",
       "      <td>51.725448</td>\n",
       "      <td>31.013403</td>\n",
       "      <td>31.094599</td>\n",
       "      <td>24.541689</td>\n",
       "      <td>37.623069</td>\n",
       "      <td>128.792712</td>\n",
       "      <td>87.548319</td>\n",
       "      <td>27.470053</td>\n",
       "      <td>23.463209</td>\n",
       "    </tr>\n",
       "    <tr>\n",
       "      <th>7558</th>\n",
       "      <td>37.353238</td>\n",
       "      <td>36.337069</td>\n",
       "      <td>25.232793</td>\n",
       "      <td>32.026748</td>\n",
       "      <td>127.819131</td>\n",
       "      <td>42.669102</td>\n",
       "      <td>47.101544</td>\n",
       "      <td>8.150861</td>\n",
       "      <td>7.089136</td>\n",
       "      <td>10.042504</td>\n",
       "      <td>...</td>\n",
       "      <td>81.439831</td>\n",
       "      <td>51.777667</td>\n",
       "      <td>31.293871</td>\n",
       "      <td>31.476792</td>\n",
       "      <td>24.442702</td>\n",
       "      <td>38.527075</td>\n",
       "      <td>128.650131</td>\n",
       "      <td>88.699962</td>\n",
       "      <td>27.458885</td>\n",
       "      <td>23.685930</td>\n",
       "    </tr>\n",
       "    <tr>\n",
       "      <th>7559</th>\n",
       "      <td>37.366400</td>\n",
       "      <td>37.137875</td>\n",
       "      <td>25.370605</td>\n",
       "      <td>32.191946</td>\n",
       "      <td>126.274794</td>\n",
       "      <td>42.224148</td>\n",
       "      <td>47.118622</td>\n",
       "      <td>8.027719</td>\n",
       "      <td>7.256873</td>\n",
       "      <td>10.025807</td>\n",
       "      <td>...</td>\n",
       "      <td>80.505461</td>\n",
       "      <td>52.300808</td>\n",
       "      <td>31.481574</td>\n",
       "      <td>31.711758</td>\n",
       "      <td>24.610813</td>\n",
       "      <td>38.971584</td>\n",
       "      <td>130.359664</td>\n",
       "      <td>88.409876</td>\n",
       "      <td>27.702224</td>\n",
       "      <td>23.679398</td>\n",
       "    </tr>\n",
       "    <tr>\n",
       "      <th>7560</th>\n",
       "      <td>37.239172</td>\n",
       "      <td>37.132728</td>\n",
       "      <td>25.183763</td>\n",
       "      <td>32.277118</td>\n",
       "      <td>128.076373</td>\n",
       "      <td>42.083752</td>\n",
       "      <td>47.273578</td>\n",
       "      <td>7.956252</td>\n",
       "      <td>7.236960</td>\n",
       "      <td>10.129118</td>\n",
       "      <td>...</td>\n",
       "      <td>80.747303</td>\n",
       "      <td>52.756120</td>\n",
       "      <td>31.841890</td>\n",
       "      <td>32.332776</td>\n",
       "      <td>24.673685</td>\n",
       "      <td>39.223455</td>\n",
       "      <td>132.255235</td>\n",
       "      <td>88.123744</td>\n",
       "      <td>27.687690</td>\n",
       "      <td>23.676656</td>\n",
       "    </tr>\n",
       "  </tbody>\n",
       "</table>\n",
       "<p>7561 rows × 500 columns</p>\n",
       "</div>"
      ],
      "text/plain": [
       "            0          1          2          3           4          5    \\\n",
       "0      1.000000   1.000000   1.000000   1.000000    1.000000   1.000000   \n",
       "1      0.998078   0.991778   1.011522   0.997773    0.997133   1.005589   \n",
       "2      0.995965   0.989615   1.012968   0.989855    0.985873   0.997595   \n",
       "3      0.995453   0.991088   1.016973   1.011233    0.979752   1.009151   \n",
       "4      1.003662   0.992881   1.021842   1.023683    0.970728   1.024775   \n",
       "...         ...        ...        ...        ...         ...        ...   \n",
       "7556  37.902210  36.367618  25.259999  31.890334  126.772324  42.566113   \n",
       "7557  38.085468  36.875689  25.080721  32.025128  126.833882  42.140783   \n",
       "7558  37.353238  36.337069  25.232793  32.026748  127.819131  42.669102   \n",
       "7559  37.366400  37.137875  25.370605  32.191946  126.274794  42.224148   \n",
       "7560  37.239172  37.132728  25.183763  32.277118  128.076373  42.083752   \n",
       "\n",
       "            6         7         8          9    ...        490        491  \\\n",
       "0      1.000000  1.000000  1.000000   1.000000  ...   1.000000   1.000000   \n",
       "1      0.993998  0.998735  0.987864   1.007506  ...   0.994594   0.989944   \n",
       "2      0.990773  1.013037  0.977649   0.997340  ...   0.995443   0.990239   \n",
       "3      0.991098  1.008945  0.968480   0.992219  ...   0.993343   0.999162   \n",
       "4      0.989454  1.019332  0.973322   0.998577  ...   0.987896   0.995357   \n",
       "...         ...       ...       ...        ...  ...        ...        ...   \n",
       "7556  47.371640  8.018985  7.102433  10.242286  ...  81.362596  51.593079   \n",
       "7557  46.887601  8.114623  7.081491  10.169280  ...  81.997616  51.725448   \n",
       "7558  47.101544  8.150861  7.089136  10.042504  ...  81.439831  51.777667   \n",
       "7559  47.118622  8.027719  7.256873  10.025807  ...  80.505461  52.300808   \n",
       "7560  47.273578  7.956252  7.236960  10.129118  ...  80.747303  52.756120   \n",
       "\n",
       "            492        493        494        495         496        497  \\\n",
       "0      1.000000   1.000000   1.000000   1.000000    1.000000   1.000000   \n",
       "1      0.991148   0.998607   1.020031   1.001161    1.006750   1.009502   \n",
       "2      0.988804   0.995320   1.016570   0.997652    1.009037   1.005610   \n",
       "3      0.991889   0.979917   1.018746   0.994820    1.005771   1.014867   \n",
       "4      0.988302   0.987054   1.022411   1.000425    1.005973   1.026727   \n",
       "...         ...        ...        ...        ...         ...        ...   \n",
       "7556  31.056714  31.067385  24.483463  36.969976  127.666700  88.050838   \n",
       "7557  31.013403  31.094599  24.541689  37.623069  128.792712  87.548319   \n",
       "7558  31.293871  31.476792  24.442702  38.527075  128.650131  88.699962   \n",
       "7559  31.481574  31.711758  24.610813  38.971584  130.359664  88.409876   \n",
       "7560  31.841890  32.332776  24.673685  39.223455  132.255235  88.123744   \n",
       "\n",
       "            498        499  \n",
       "0      1.000000   1.000000  \n",
       "1      0.995826   0.999233  \n",
       "2      1.000534   1.006237  \n",
       "3      0.991624   1.000465  \n",
       "4      0.977868   0.999467  \n",
       "...         ...        ...  \n",
       "7556  27.482423  23.831851  \n",
       "7557  27.470053  23.463209  \n",
       "7558  27.458885  23.685930  \n",
       "7559  27.702224  23.679398  \n",
       "7560  27.687690  23.676656  \n",
       "\n",
       "[7561 rows x 500 columns]"
      ]
     },
     "execution_count": 31,
     "metadata": {},
     "output_type": "execute_result"
    }
   ],
   "source": [
    "# Run the Monte Carlo simulation to forecast 30 years cumulative returns\n",
    "MC_30_year_sim.calc_cumulative_return()\n"
   ]
  },
  {
   "cell_type": "code",
   "execution_count": null,
   "metadata": {},
   "outputs": [
    {
     "data": {
      "image/png": "[encoded data removed]",
      "text/plain": [
       "<Figure size 432x288 with 1 Axes>"
      ]
     },
     "metadata": {
      "needs_background": "light"
     },
     "output_type": "display_data"
    }
   ],
   "source": [
    "# Visualize the 30-year Monte Carlo simulation by creating an\n",
    "# overlay line plot\n",
    "MC_30_year_sim_line_plot = MC_30_year_sim.plot_simulation()\n"
   ]
  },
  {
   "cell_type": "markdown",
   "metadata": {},
   "source": [
    "#### Step 3: Plot the probability distribution of the Monte Carlo simulation."
   ]
  },
  {
   "cell_type": "code",
   "execution_count": null,
   "metadata": {},
   "outputs": [
    {
     "data": {
      "image/png": "[encoded data removed]",
      "text/plain": [
       "<Figure size 432x288 with 1 Axes>"
      ]
     },
     "metadata": {
      "needs_background": "light"
     },
     "output_type": "display_data"
    }
   ],
   "source": [
    "# Visualize the probability distribution of the 30-year Monte Carlo simulation \n",
    "# by plotting a histogram\n",
    "MC_30_year_sim_hist_plot = MC_30_year_sim.plot_distribution()\n"
   ]
  },
  {
   "cell_type": "markdown",
   "metadata": {},
   "source": [
    "#### Step 4: Generate the summary statistics for the Monte Carlo simulation."
   ]
  },
  {
   "cell_type": "code",
   "execution_count": null,
   "metadata": {},
   "outputs": [
    {
     "data": {
      "text/plain": [
       "count           500.000000\n",
       "mean             43.679379\n",
       "std              36.275627\n",
       "min               4.852614\n",
       "25%              19.778236\n",
       "50%              34.069858\n",
       "75%              54.527833\n",
       "max             280.606141\n",
       "95% CI Lower      7.428376\n",
       "95% CI Upper    140.094291\n",
       "Name: 7560, dtype: float64"
      ]
     },
     "execution_count": 34,
     "metadata": {},
     "output_type": "execute_result"
    }
   ],
   "source": [
    "# Generate summary statistics from the 30-year Monte Carlo simulation results\n",
    "# Save the results as a variable\n",
    "MC_30_year_sim_stats = MC_30_year_sim.summarize_cumulative_return()\n",
    "\n",
    "\n",
    "# Review the 30-year Monte Carlo summary statistics\n",
    "MC_30_year_sim_stats"
   ]
  },
  {
   "cell_type": "markdown",
   "metadata": {},
   "source": [
    "### Analyze the Retirement Portfolio Forecasts\n",
    "\n",
    "Using the current value of only the stock and bond portion of the member's portfolio and the summary statistics that you generated from the Monte Carlo simulation, answer the following question in your Jupyter notebook:\n",
    "\n",
    "-  What are the lower and upper bounds for the expected value of the portfolio with a 95% confidence interval?\n"
   ]
  },
  {
   "cell_type": "code",
   "execution_count": null,
   "metadata": {},
   "outputs": [
    {
     "name": "stdout",
     "output_type": "stream",
     "text": [
      "The current balance of the stock and bond portion of the portfolio is $ 72647.00 USD.\n"
     ]
    }
   ],
   "source": [
    "# Print the current balance of the stock and bond portion of the members portfolio\n",
    "print(f\"The current balance of the stock and bond portion of the portfolio is ${total_stocks_bonds: .2f} USD.\")\n"
   ]
  },
  {
   "cell_type": "code",
   "execution_count": null,
   "metadata": {},
   "outputs": [
    {
     "name": "stdout",
     "output_type": "stream",
     "text": [
      "There is a 95% chance that the current value of the stock/bond portion of the portfolio ($72,647), weighted 60% in SPY and 40% in AGG, will be in the range of $539,649.20 and $10,177,429.99 over the next 30 years.\n"
     ]
    }
   ],
   "source": [
    "# Use the lower and upper `95%` confidence intervals to calculate the range of the possible outcomes for the current stock/bond portfolio\n",
    "ci_lower_thirty_cumulative_return = round(MC_30_year_sim_stats[8] * total_stocks_bonds, 2)\n",
    "ci_upper_thirty_cumulative_return = round(MC_30_year_sim_stats[9] * total_stocks_bonds, 2)\n",
    "\n",
    "# Print the result of your calculations\n",
    "print(f\"There is a 95% chance that the current value of the stock/bond portion of the portfolio ($72,647),\"\n",
    "      f\" weighted 60% in SPY and 40% in AGG, will be in the range of\"\n",
    "      f\" ${ci_lower_thirty_cumulative_return:,.2f} and ${ci_upper_thirty_cumulative_return:,.2f}\"\n",
    "      f\" over the next 30 years.\")\n"
   ]
  },
  {
   "cell_type": "markdown",
   "metadata": {},
   "source": [
    "### Forecast Cumulative Returns in 10 Years\n",
    "\n",
    "The CTO of the credit union is impressed with your work on these planning tools but wonders if 30 years is a long time to wait until retirement. So, your next task is to adjust the retirement portfolio and run a new Monte Carlo simulation to find out if the changes will allow members to retire earlier.\n",
    "\n",
    "For this new Monte Carlo simulation, do the following: \n",
    "\n",
    "- Forecast the cumulative returns for 10 years from now. Because of the shortened investment horizon (30 years to 10 years), the portfolio needs to invest more heavily in the riskier asset&mdash;that is, stock&mdash;to help accumulate wealth for retirement. \n",
    "\n",
    "- Adjust the weights of the retirement portfolio so that the composition for the Monte Carlo simulation consists of 20% bonds and 80% stocks. \n",
    "\n",
    "- Run the simulation over 500 samples, and use the same data that the API call to Alpaca generated.\n",
    "\n",
    "- Based on the new Monte Carlo simulation, answer the following questions in your Jupyter notebook:\n",
    "\n",
    "    - Using the current value of only the stock and bond portion of the member's portfolio and the summary statistics that you generated from the new Monte Carlo simulation, what are the lower and upper bounds for the expected value of the portfolio (with the new weights) with a 95% confidence interval?\n",
    "\n",
    "    - Will weighting the portfolio more heavily toward stocks allow the credit union members to retire after only 10 years?\n"
   ]
  },
  {
   "cell_type": "code",
   "execution_count": null,
   "metadata": {},
   "outputs": [
    {
     "data": {
      "text/html": [
       "<div>\n",
       "<style scoped>\n",
       "    .dataframe tbody tr th:only-of-type {\n",
       "        vertical-align: middle;\n",
       "    }\n",
       "\n",
       "    .dataframe tbody tr th {\n",
       "        vertical-align: top;\n",
       "    }\n",
       "\n",
       "    .dataframe thead tr th {\n",
       "        text-align: left;\n",
       "    }\n",
       "\n",
       "    .dataframe thead tr:last-of-type th {\n",
       "        text-align: right;\n",
       "    }\n",
       "</style>\n",
       "<table border=\"1\" class=\"dataframe\">\n",
       "  <thead>\n",
       "    <tr>\n",
       "      <th></th>\n",
       "      <th colspan=\"6\" halign=\"left\">AGG</th>\n",
       "      <th colspan=\"6\" halign=\"left\">SPY</th>\n",
       "    </tr>\n",
       "    <tr>\n",
       "      <th></th>\n",
       "      <th>open</th>\n",
       "      <th>high</th>\n",
       "      <th>low</th>\n",
       "      <th>close</th>\n",
       "      <th>volume</th>\n",
       "      <th>daily_return</th>\n",
       "      <th>open</th>\n",
       "      <th>high</th>\n",
       "      <th>low</th>\n",
       "      <th>close</th>\n",
       "      <th>volume</th>\n",
       "      <th>daily_return</th>\n",
       "    </tr>\n",
       "    <tr>\n",
       "      <th>time</th>\n",
       "      <th></th>\n",
       "      <th></th>\n",
       "      <th></th>\n",
       "      <th></th>\n",
       "      <th></th>\n",
       "      <th></th>\n",
       "      <th></th>\n",
       "      <th></th>\n",
       "      <th></th>\n",
       "      <th></th>\n",
       "      <th></th>\n",
       "      <th></th>\n",
       "    </tr>\n",
       "  </thead>\n",
       "  <tbody>\n",
       "    <tr>\n",
       "      <th>2019-02-04 00:00:00-05:00</th>\n",
       "      <td>106.83</td>\n",
       "      <td>106.9000</td>\n",
       "      <td>106.770</td>\n",
       "      <td>106.8950</td>\n",
       "      <td>9790488.0</td>\n",
       "      <td>NaN</td>\n",
       "      <td>270.11</td>\n",
       "      <td>271.8000</td>\n",
       "      <td>269.36</td>\n",
       "      <td>271.78</td>\n",
       "      <td>46985797</td>\n",
       "      <td>NaN</td>\n",
       "    </tr>\n",
       "    <tr>\n",
       "      <th>2019-02-05 00:00:00-05:00</th>\n",
       "      <td>106.95</td>\n",
       "      <td>107.1400</td>\n",
       "      <td>106.950</td>\n",
       "      <td>107.0900</td>\n",
       "      <td>4918385.0</td>\n",
       "      <td>0.001824</td>\n",
       "      <td>272.44</td>\n",
       "      <td>273.4400</td>\n",
       "      <td>271.88</td>\n",
       "      <td>273.13</td>\n",
       "      <td>61540042</td>\n",
       "      <td>0.004967</td>\n",
       "    </tr>\n",
       "    <tr>\n",
       "      <th>2019-02-06 00:00:00-05:00</th>\n",
       "      <td>107.20</td>\n",
       "      <td>107.2200</td>\n",
       "      <td>106.985</td>\n",
       "      <td>107.0441</td>\n",
       "      <td>6022187.0</td>\n",
       "      <td>-0.000429</td>\n",
       "      <td>272.79</td>\n",
       "      <td>273.3400</td>\n",
       "      <td>271.92</td>\n",
       "      <td>272.70</td>\n",
       "      <td>43446324</td>\n",
       "      <td>-0.001574</td>\n",
       "    </tr>\n",
       "    <tr>\n",
       "      <th>2019-02-07 00:00:00-05:00</th>\n",
       "      <td>107.15</td>\n",
       "      <td>107.1983</td>\n",
       "      <td>107.030</td>\n",
       "      <td>107.1500</td>\n",
       "      <td>3080898.0</td>\n",
       "      <td>0.000989</td>\n",
       "      <td>270.94</td>\n",
       "      <td>271.5500</td>\n",
       "      <td>268.29</td>\n",
       "      <td>269.97</td>\n",
       "      <td>83380785</td>\n",
       "      <td>-0.010011</td>\n",
       "    </tr>\n",
       "    <tr>\n",
       "      <th>2019-02-08 00:00:00-05:00</th>\n",
       "      <td>107.17</td>\n",
       "      <td>107.3800</td>\n",
       "      <td>107.170</td>\n",
       "      <td>107.3550</td>\n",
       "      <td>2988674.0</td>\n",
       "      <td>0.001913</td>\n",
       "      <td>268.75</td>\n",
       "      <td>270.2874</td>\n",
       "      <td>267.83</td>\n",
       "      <td>270.08</td>\n",
       "      <td>63409417</td>\n",
       "      <td>0.000407</td>\n",
       "    </tr>\n",
       "  </tbody>\n",
       "</table>\n",
       "</div>"
      ],
      "text/plain": [
       "                              AGG                                          \\\n",
       "                             open      high      low     close     volume   \n",
       "time                                                                        \n",
       "2019-02-04 00:00:00-05:00  106.83  106.9000  106.770  106.8950  9790488.0   \n",
       "2019-02-05 00:00:00-05:00  106.95  107.1400  106.950  107.0900  4918385.0   \n",
       "2019-02-06 00:00:00-05:00  107.20  107.2200  106.985  107.0441  6022187.0   \n",
       "2019-02-07 00:00:00-05:00  107.15  107.1983  107.030  107.1500  3080898.0   \n",
       "2019-02-08 00:00:00-05:00  107.17  107.3800  107.170  107.3550  2988674.0   \n",
       "\n",
       "                                           SPY                            \\\n",
       "                          daily_return    open      high     low   close   \n",
       "time                                                                       \n",
       "2019-02-04 00:00:00-05:00          NaN  270.11  271.8000  269.36  271.78   \n",
       "2019-02-05 00:00:00-05:00     0.001824  272.44  273.4400  271.88  273.13   \n",
       "2019-02-06 00:00:00-05:00    -0.000429  272.79  273.3400  271.92  272.70   \n",
       "2019-02-07 00:00:00-05:00     0.000989  270.94  271.5500  268.29  269.97   \n",
       "2019-02-08 00:00:00-05:00     0.001913  268.75  270.2874  267.83  270.08   \n",
       "\n",
       "                                                  \n",
       "                             volume daily_return  \n",
       "time                                              \n",
       "2019-02-04 00:00:00-05:00  46985797          NaN  \n",
       "2019-02-05 00:00:00-05:00  61540042     0.004967  \n",
       "2019-02-06 00:00:00-05:00  43446324    -0.001574  \n",
       "2019-02-07 00:00:00-05:00  83380785    -0.010011  \n",
       "2019-02-08 00:00:00-05:00  63409417     0.000407  "
      ]
     },
     "execution_count": 37,
     "metadata": {},
     "output_type": "execute_result"
    }
   ],
   "source": [
    "# Configure a Monte Carlo simulation to forecast 10 years cumulative returns\n",
    "# The weights should be split 20% to AGG and 80% to SPY.\n",
    "# Run 500 samples.\n",
    "MC_10_year_sim=MCSimulation(\n",
    "    portfolio_data=prices_3_years_df,\n",
    "    weights=[.20, .80],\n",
    "    num_simulation=500,\n",
    "    num_trading_days=252*10)\n",
    "\n",
    "# Review the simulation input data\n",
    "MC_10_year_sim.portfolio_data.head()\n"
   ]
  },
  {
   "cell_type": "code",
   "execution_count": 38,
   "metadata": {},
   "outputs": [
    {
     "name": "stdout",
     "output_type": "stream",
     "text": [
      "Running Monte Carlo simulation number 0.\n",
      "Running Monte Carlo simulation number 10.\n",
      "Running Monte Carlo simulation number 20.\n",
      "Running Monte Carlo simulation number 30.\n",
      "Running Monte Carlo simulation number 40.\n",
      "Running Monte Carlo simulation number 50.\n",
      "Running Monte Carlo simulation number 60.\n",
      "Running Monte Carlo simulation number 70.\n",
      "Running Monte Carlo simulation number 80.\n",
      "Running Monte Carlo simulation number 90.\n",
      "Running Monte Carlo simulation number 100.\n"
     ]
    },
    {
     "name": "stderr",
     "output_type": "stream",
     "text": [
      "/Users/thomasbrierton/Desktop/Financial_Planning_Simulation/MCForecastTools.py:117: PerformanceWarning: DataFrame is highly fragmented.  This is usually the result of calling `frame.insert` many times, which has poor performance.  Consider joining all columns at once using pd.concat(axis=1) instead.  To get a de-fragmented frame, use `newframe = frame.copy()`\n",
      "  portfolio_cumulative_returns[n] = (1 + sim_df.fillna(0)).cumprod()\n"
     ]
    },
    {
     "name": "stdout",
     "output_type": "stream",
     "text": [
      "Running Monte Carlo simulation number 110.\n",
      "Running Monte Carlo simulation number 120.\n",
      "Running Monte Carlo simulation number 130.\n",
      "Running Monte Carlo simulation number 140.\n",
      "Running Monte Carlo simulation number 150.\n",
      "Running Monte Carlo simulation number 160.\n",
      "Running Monte Carlo simulation number 170.\n",
      "Running Monte Carlo simulation number 180.\n",
      "Running Monte Carlo simulation number 190.\n",
      "Running Monte Carlo simulation number 200.\n",
      "Running Monte Carlo simulation number 210.\n",
      "Running Monte Carlo simulation number 220.\n",
      "Running Monte Carlo simulation number 230.\n",
      "Running Monte Carlo simulation number 240.\n",
      "Running Monte Carlo simulation number 250.\n",
      "Running Monte Carlo simulation number 260.\n",
      "Running Monte Carlo simulation number 270.\n",
      "Running Monte Carlo simulation number 280.\n",
      "Running Monte Carlo simulation number 290.\n",
      "Running Monte Carlo simulation number 300.\n",
      "Running Monte Carlo simulation number 310.\n",
      "Running Monte Carlo simulation number 320.\n",
      "Running Monte Carlo simulation number 330.\n",
      "Running Monte Carlo simulation number 340.\n",
      "Running Monte Carlo simulation number 350.\n",
      "Running Monte Carlo simulation number 360.\n",
      "Running Monte Carlo simulation number 370.\n",
      "Running Monte Carlo simulation number 380.\n",
      "Running Monte Carlo simulation number 390.\n",
      "Running Monte Carlo simulation number 400.\n",
      "Running Monte Carlo simulation number 410.\n",
      "Running Monte Carlo simulation number 420.\n",
      "Running Monte Carlo simulation number 430.\n",
      "Running Monte Carlo simulation number 440.\n",
      "Running Monte Carlo simulation number 450.\n",
      "Running Monte Carlo simulation number 460.\n",
      "Running Monte Carlo simulation number 470.\n",
      "Running Monte Carlo simulation number 480.\n",
      "Running Monte Carlo simulation number 490.\n"
     ]
    },
    {
     "data": {
      "text/html": [
       "<div>\n",
       "<style scoped>\n",
       "    .dataframe tbody tr th:only-of-type {\n",
       "        vertical-align: middle;\n",
       "    }\n",
       "\n",
       "    .dataframe tbody tr th {\n",
       "        vertical-align: top;\n",
       "    }\n",
       "\n",
       "    .dataframe thead th {\n",
       "        text-align: right;\n",
       "    }\n",
       "</style>\n",
       "<table border=\"1\" class=\"dataframe\">\n",
       "  <thead>\n",
       "    <tr style=\"text-align: right;\">\n",
       "      <th></th>\n",
       "      <th>0</th>\n",
       "      <th>1</th>\n",
       "      <th>2</th>\n",
       "      <th>3</th>\n",
       "      <th>4</th>\n",
       "      <th>5</th>\n",
       "      <th>6</th>\n",
       "      <th>7</th>\n",
       "      <th>8</th>\n",
       "      <th>9</th>\n",
       "      <th>...</th>\n",
       "      <th>490</th>\n",
       "      <th>491</th>\n",
       "      <th>492</th>\n",
       "      <th>493</th>\n",
       "      <th>494</th>\n",
       "      <th>495</th>\n",
       "      <th>496</th>\n",
       "      <th>497</th>\n",
       "      <th>498</th>\n",
       "      <th>499</th>\n",
       "    </tr>\n",
       "  </thead>\n",
       "  <tbody>\n",
       "    <tr>\n",
       "      <th>0</th>\n",
       "      <td>1.000000</td>\n",
       "      <td>1.000000</td>\n",
       "      <td>1.000000</td>\n",
       "      <td>1.000000</td>\n",
       "      <td>1.000000</td>\n",
       "      <td>1.000000</td>\n",
       "      <td>1.000000</td>\n",
       "      <td>1.000000</td>\n",
       "      <td>1.000000</td>\n",
       "      <td>1.000000</td>\n",
       "      <td>...</td>\n",
       "      <td>1.000000</td>\n",
       "      <td>1.000000</td>\n",
       "      <td>1.000000</td>\n",
       "      <td>1.000000</td>\n",
       "      <td>1.000000</td>\n",
       "      <td>1.000000</td>\n",
       "      <td>1.000000</td>\n",
       "      <td>1.000000</td>\n",
       "      <td>1.000000</td>\n",
       "      <td>1.000000</td>\n",
       "    </tr>\n",
       "    <tr>\n",
       "      <th>1</th>\n",
       "      <td>1.007554</td>\n",
       "      <td>1.017227</td>\n",
       "      <td>1.002054</td>\n",
       "      <td>1.011304</td>\n",
       "      <td>0.995101</td>\n",
       "      <td>1.020057</td>\n",
       "      <td>0.990416</td>\n",
       "      <td>1.004016</td>\n",
       "      <td>0.996765</td>\n",
       "      <td>1.007258</td>\n",
       "      <td>...</td>\n",
       "      <td>0.994452</td>\n",
       "      <td>0.993175</td>\n",
       "      <td>0.994636</td>\n",
       "      <td>1.001026</td>\n",
       "      <td>0.980834</td>\n",
       "      <td>0.995186</td>\n",
       "      <td>1.019273</td>\n",
       "      <td>1.001202</td>\n",
       "      <td>1.002830</td>\n",
       "      <td>1.000969</td>\n",
       "    </tr>\n",
       "    <tr>\n",
       "      <th>2</th>\n",
       "      <td>1.027627</td>\n",
       "      <td>1.030795</td>\n",
       "      <td>1.002622</td>\n",
       "      <td>1.006617</td>\n",
       "      <td>0.984327</td>\n",
       "      <td>1.014185</td>\n",
       "      <td>0.997826</td>\n",
       "      <td>1.007718</td>\n",
       "      <td>1.005843</td>\n",
       "      <td>1.011919</td>\n",
       "      <td>...</td>\n",
       "      <td>0.995568</td>\n",
       "      <td>1.008561</td>\n",
       "      <td>0.994530</td>\n",
       "      <td>0.994878</td>\n",
       "      <td>0.984334</td>\n",
       "      <td>1.005453</td>\n",
       "      <td>1.025017</td>\n",
       "      <td>0.994603</td>\n",
       "      <td>1.006925</td>\n",
       "      <td>0.997647</td>\n",
       "    </tr>\n",
       "    <tr>\n",
       "      <th>3</th>\n",
       "      <td>1.025724</td>\n",
       "      <td>1.043564</td>\n",
       "      <td>0.996851</td>\n",
       "      <td>0.999576</td>\n",
       "      <td>0.991535</td>\n",
       "      <td>1.002089</td>\n",
       "      <td>1.013901</td>\n",
       "      <td>1.008942</td>\n",
       "      <td>1.004719</td>\n",
       "      <td>1.025684</td>\n",
       "      <td>...</td>\n",
       "      <td>0.993116</td>\n",
       "      <td>1.020142</td>\n",
       "      <td>0.981715</td>\n",
       "      <td>1.002879</td>\n",
       "      <td>0.971236</td>\n",
       "      <td>1.007470</td>\n",
       "      <td>1.036039</td>\n",
       "      <td>0.993792</td>\n",
       "      <td>1.008685</td>\n",
       "      <td>1.003355</td>\n",
       "    </tr>\n",
       "    <tr>\n",
       "      <th>4</th>\n",
       "      <td>1.044152</td>\n",
       "      <td>1.051294</td>\n",
       "      <td>0.988653</td>\n",
       "      <td>1.028880</td>\n",
       "      <td>1.008939</td>\n",
       "      <td>1.018370</td>\n",
       "      <td>1.008485</td>\n",
       "      <td>1.009320</td>\n",
       "      <td>1.026803</td>\n",
       "      <td>1.034212</td>\n",
       "      <td>...</td>\n",
       "      <td>1.012192</td>\n",
       "      <td>1.029083</td>\n",
       "      <td>1.006631</td>\n",
       "      <td>0.996681</td>\n",
       "      <td>0.986138</td>\n",
       "      <td>1.004212</td>\n",
       "      <td>1.038122</td>\n",
       "      <td>1.020902</td>\n",
       "      <td>0.996469</td>\n",
       "      <td>1.009712</td>\n",
       "    </tr>\n",
       "    <tr>\n",
       "      <th>...</th>\n",
       "      <td>...</td>\n",
       "      <td>...</td>\n",
       "      <td>...</td>\n",
       "      <td>...</td>\n",
       "      <td>...</td>\n",
       "      <td>...</td>\n",
       "      <td>...</td>\n",
       "      <td>...</td>\n",
       "      <td>...</td>\n",
       "      <td>...</td>\n",
       "      <td>...</td>\n",
       "      <td>...</td>\n",
       "      <td>...</td>\n",
       "      <td>...</td>\n",
       "      <td>...</td>\n",
       "      <td>...</td>\n",
       "      <td>...</td>\n",
       "      <td>...</td>\n",
       "      <td>...</td>\n",
       "      <td>...</td>\n",
       "      <td>...</td>\n",
       "    </tr>\n",
       "    <tr>\n",
       "      <th>2516</th>\n",
       "      <td>2.225632</td>\n",
       "      <td>4.705501</td>\n",
       "      <td>1.326834</td>\n",
       "      <td>9.069086</td>\n",
       "      <td>3.180387</td>\n",
       "      <td>3.170593</td>\n",
       "      <td>3.960336</td>\n",
       "      <td>2.590943</td>\n",
       "      <td>2.764977</td>\n",
       "      <td>4.779864</td>\n",
       "      <td>...</td>\n",
       "      <td>3.364077</td>\n",
       "      <td>4.844396</td>\n",
       "      <td>8.287631</td>\n",
       "      <td>3.688379</td>\n",
       "      <td>4.302705</td>\n",
       "      <td>2.388685</td>\n",
       "      <td>5.275095</td>\n",
       "      <td>6.491173</td>\n",
       "      <td>4.422000</td>\n",
       "      <td>5.343582</td>\n",
       "    </tr>\n",
       "    <tr>\n",
       "      <th>2517</th>\n",
       "      <td>2.211341</td>\n",
       "      <td>4.692163</td>\n",
       "      <td>1.315322</td>\n",
       "      <td>8.937758</td>\n",
       "      <td>3.178854</td>\n",
       "      <td>3.104646</td>\n",
       "      <td>4.062152</td>\n",
       "      <td>2.604279</td>\n",
       "      <td>2.744056</td>\n",
       "      <td>4.785568</td>\n",
       "      <td>...</td>\n",
       "      <td>3.316043</td>\n",
       "      <td>4.835233</td>\n",
       "      <td>8.204141</td>\n",
       "      <td>3.702865</td>\n",
       "      <td>4.318884</td>\n",
       "      <td>2.378616</td>\n",
       "      <td>5.282722</td>\n",
       "      <td>6.485396</td>\n",
       "      <td>4.433228</td>\n",
       "      <td>5.333766</td>\n",
       "    </tr>\n",
       "    <tr>\n",
       "      <th>2518</th>\n",
       "      <td>2.196930</td>\n",
       "      <td>4.669879</td>\n",
       "      <td>1.315544</td>\n",
       "      <td>9.035211</td>\n",
       "      <td>3.152364</td>\n",
       "      <td>3.142465</td>\n",
       "      <td>4.050295</td>\n",
       "      <td>2.604614</td>\n",
       "      <td>2.750556</td>\n",
       "      <td>4.746971</td>\n",
       "      <td>...</td>\n",
       "      <td>3.310810</td>\n",
       "      <td>4.861138</td>\n",
       "      <td>8.078430</td>\n",
       "      <td>3.754961</td>\n",
       "      <td>4.320960</td>\n",
       "      <td>2.390087</td>\n",
       "      <td>5.270091</td>\n",
       "      <td>6.402419</td>\n",
       "      <td>4.418546</td>\n",
       "      <td>5.313726</td>\n",
       "    </tr>\n",
       "    <tr>\n",
       "      <th>2519</th>\n",
       "      <td>2.195604</td>\n",
       "      <td>4.700827</td>\n",
       "      <td>1.316692</td>\n",
       "      <td>9.008139</td>\n",
       "      <td>3.114564</td>\n",
       "      <td>3.128176</td>\n",
       "      <td>4.121172</td>\n",
       "      <td>2.595175</td>\n",
       "      <td>2.691147</td>\n",
       "      <td>4.734818</td>\n",
       "      <td>...</td>\n",
       "      <td>3.280566</td>\n",
       "      <td>4.846250</td>\n",
       "      <td>8.099367</td>\n",
       "      <td>3.802952</td>\n",
       "      <td>4.351234</td>\n",
       "      <td>2.398979</td>\n",
       "      <td>5.345357</td>\n",
       "      <td>6.523542</td>\n",
       "      <td>4.385198</td>\n",
       "      <td>5.282717</td>\n",
       "    </tr>\n",
       "    <tr>\n",
       "      <th>2520</th>\n",
       "      <td>2.215970</td>\n",
       "      <td>4.627450</td>\n",
       "      <td>1.309202</td>\n",
       "      <td>8.835856</td>\n",
       "      <td>3.084588</td>\n",
       "      <td>3.051648</td>\n",
       "      <td>4.167442</td>\n",
       "      <td>2.614174</td>\n",
       "      <td>2.659622</td>\n",
       "      <td>4.710521</td>\n",
       "      <td>...</td>\n",
       "      <td>3.311122</td>\n",
       "      <td>4.769370</td>\n",
       "      <td>8.124056</td>\n",
       "      <td>3.802041</td>\n",
       "      <td>4.322782</td>\n",
       "      <td>2.388354</td>\n",
       "      <td>5.353480</td>\n",
       "      <td>6.379022</td>\n",
       "      <td>4.364322</td>\n",
       "      <td>5.313081</td>\n",
       "    </tr>\n",
       "  </tbody>\n",
       "</table>\n",
       "<p>2521 rows × 500 columns</p>\n",
       "</div>"
      ],
      "text/plain": [
       "           0         1         2         3         4         5         6    \\\n",
       "0     1.000000  1.000000  1.000000  1.000000  1.000000  1.000000  1.000000   \n",
       "1     1.007554  1.017227  1.002054  1.011304  0.995101  1.020057  0.990416   \n",
       "2     1.027627  1.030795  1.002622  1.006617  0.984327  1.014185  0.997826   \n",
       "3     1.025724  1.043564  0.996851  0.999576  0.991535  1.002089  1.013901   \n",
       "4     1.044152  1.051294  0.988653  1.028880  1.008939  1.018370  1.008485   \n",
       "...        ...       ...       ...       ...       ...       ...       ...   \n",
       "2516  2.225632  4.705501  1.326834  9.069086  3.180387  3.170593  3.960336   \n",
       "2517  2.211341  4.692163  1.315322  8.937758  3.178854  3.104646  4.062152   \n",
       "2518  2.196930  4.669879  1.315544  9.035211  3.152364  3.142465  4.050295   \n",
       "2519  2.195604  4.700827  1.316692  9.008139  3.114564  3.128176  4.121172   \n",
       "2520  2.215970  4.627450  1.309202  8.835856  3.084588  3.051648  4.167442   \n",
       "\n",
       "           7         8         9    ...       490       491       492  \\\n",
       "0     1.000000  1.000000  1.000000  ...  1.000000  1.000000  1.000000   \n",
       "1     1.004016  0.996765  1.007258  ...  0.994452  0.993175  0.994636   \n",
       "2     1.007718  1.005843  1.011919  ...  0.995568  1.008561  0.994530   \n",
       "3     1.008942  1.004719  1.025684  ...  0.993116  1.020142  0.981715   \n",
       "4     1.009320  1.026803  1.034212  ...  1.012192  1.029083  1.006631   \n",
       "...        ...       ...       ...  ...       ...       ...       ...   \n",
       "2516  2.590943  2.764977  4.779864  ...  3.364077  4.844396  8.287631   \n",
       "2517  2.604279  2.744056  4.785568  ...  3.316043  4.835233  8.204141   \n",
       "2518  2.604614  2.750556  4.746971  ...  3.310810  4.861138  8.078430   \n",
       "2519  2.595175  2.691147  4.734818  ...  3.280566  4.846250  8.099367   \n",
       "2520  2.614174  2.659622  4.710521  ...  3.311122  4.769370  8.124056   \n",
       "\n",
       "           493       494       495       496       497       498       499  \n",
       "0     1.000000  1.000000  1.000000  1.000000  1.000000  1.000000  1.000000  \n",
       "1     1.001026  0.980834  0.995186  1.019273  1.001202  1.002830  1.000969  \n",
       "2     0.994878  0.984334  1.005453  1.025017  0.994603  1.006925  0.997647  \n",
       "3     1.002879  0.971236  1.007470  1.036039  0.993792  1.008685  1.003355  \n",
       "4     0.996681  0.986138  1.004212  1.038122  1.020902  0.996469  1.009712  \n",
       "...        ...       ...       ...       ...       ...       ...       ...  \n",
       "2516  3.688379  4.302705  2.388685  5.275095  6.491173  4.422000  5.343582  \n",
       "2517  3.702865  4.318884  2.378616  5.282722  6.485396  4.433228  5.333766  \n",
       "2518  3.754961  4.320960  2.390087  5.270091  6.402419  4.418546  5.313726  \n",
       "2519  3.802952  4.351234  2.398979  5.345357  6.523542  4.385198  5.282717  \n",
       "2520  3.802041  4.322782  2.388354  5.353480  6.379022  4.364322  5.313081  \n",
       "\n",
       "[2521 rows x 500 columns]"
      ]
     },
     "execution_count": 38,
     "metadata": {},
     "output_type": "execute_result"
    }
   ],
   "source": [
    "# Run the Monte Carlo simulation to forecast 10 years cumulative returns\n",
    "MC_10_year_sim.calc_cumulative_return()\n"
   ]
  },
  {
   "cell_type": "code",
   "execution_count": 39,
   "metadata": {},
   "outputs": [
    {
     "data": {
      "image/png": "[encoded data removed]",
      "text/plain": [
       "<Figure size 432x288 with 1 Axes>"
      ]
     },
     "metadata": {
      "needs_background": "light"
     },
     "output_type": "display_data"
    }
   ],
   "source": [
    "# Visualize the 10-year Monte Carlo simulation by creating an\n",
    "# overlay line plot\n",
    "MC_10_year_sim_line_plot = MC_10_year_sim.plot_simulation()\n"
   ]
  },
  {
   "cell_type": "code",
   "execution_count": 40,
   "metadata": {},
   "outputs": [
    {
     "data": {
      "image/png": "[encoded data removed]",
      "text/plain": [
       "<Figure size 432x288 with 1 Axes>"
      ]
     },
     "metadata": {
      "needs_background": "light"
     },
     "output_type": "display_data"
    }
   ],
   "source": [
    "# Visualize the probability distribution of the 10-year Monte Carlo simulation \n",
    "# by plotting a histogram\n",
    "MC_10_year_sim_hist_plot = MC_10_year_sim.plot_distribution()\n"
   ]
  },
  {
   "cell_type": "code",
   "execution_count": 41,
   "metadata": {},
   "outputs": [
    {
     "data": {
      "text/plain": [
       "count           500.000000\n",
       "mean              4.864015\n",
       "std               3.337307\n",
       "min               0.792772\n",
       "25%               2.901583\n",
       "50%               4.175240\n",
       "75%               5.831667\n",
       "max              42.303770\n",
       "95% CI Lower      1.454300\n",
       "95% CI Upper     13.697449\n",
       "Name: 2520, dtype: float64"
      ]
     },
     "execution_count": 41,
     "metadata": {},
     "output_type": "execute_result"
    }
   ],
   "source": [
    "# Generate summary statistics from the 10-year Monte Carlo simulation results\n",
    "# Save the results as a variable\n",
    "MC_10_year_sim_stats = MC_10_year_sim.summarize_cumulative_return()\n",
    "\n",
    "\n",
    "# Review the 10-year Monte Carlo summary statistics\n",
    "MC_10_year_sim_stats"
   ]
  },
  {
   "cell_type": "markdown",
   "metadata": {},
   "source": [
    "### Answer the following questions:"
   ]
  },
  {
   "cell_type": "markdown",
   "metadata": {},
   "source": [
    "#### Question: Using the current value of only the stock and bond portion of the member's portfolio and the summary statistics that you generated from the new Monte Carlo simulation, what are the lower and upper bounds for the expected value of the portfolio (with the new weights) with a 95% confidence interval?"
   ]
  },
  {
   "cell_type": "code",
   "execution_count": 42,
   "metadata": {},
   "outputs": [
    {
     "name": "stdout",
     "output_type": "stream",
     "text": [
      "The current balance of the stock and bond portion of the portfolio is $ 72647.00 USD.\n"
     ]
    }
   ],
   "source": [
    "# Print the current balance of the stock and bond portion of the members portfolio\n",
    "print(f\"The current balance of the stock and bond portion of the portfolio is ${total_stocks_bonds: .2f} USD.\")\n"
   ]
  },
  {
   "cell_type": "code",
   "execution_count": 43,
   "metadata": {},
   "outputs": [
    {
     "name": "stdout",
     "output_type": "stream",
     "text": [
      "There is a 95% chance that the current value of the stock/bond portion of the portfolio ($72,647), weighted 80% in SPY and 20% in AGG, will be in the range of $105,650.52 and $995,078.59 over the next 10 years.\n"
     ]
    }
   ],
   "source": [
    "# Use the lower and upper `95%` confidence intervals to calculate the range of the possible outcomes for the current stock/bond portfolio\n",
    "ci_lower_ten_cumulative_return = round(MC_10_year_sim_stats[8] * total_stocks_bonds, 2)\n",
    "ci_upper_ten_cumulative_return = round(MC_10_year_sim_stats[9] * total_stocks_bonds, 2)\n",
    "\n",
    "# Print the result of your calculations\n",
    "print(f\"There is a 95% chance that the current value of the stock/bond portion of the portfolio ($72,647),\"\n",
    "      f\" weighted 80% in SPY and 20% in AGG, will be in the range of\"\n",
    "      f\" ${ci_lower_ten_cumulative_return:,.2f} and ${ci_upper_ten_cumulative_return:,.2f}\"\n",
    "      f\" over the next 10 years.\")\n"
   ]
  },
  {
   "cell_type": "markdown",
   "metadata": {},
   "source": [
    "#### Question: Will weighting the portfolio more heavily to stocks allow the credit union members to retire after only 10 years?"
   ]
  },
  {
   "cell_type": "raw",
   "metadata": {},
   "source": [
    "**Answer**\n",
    "\n",
    "The portfolio weighted heavier towards stocks produced a range of return between $102,191.81 and $973,812.63 with 95% confidence. This is a good return, but other factors need to be taken into consideration to determine if the client is to retire in 10 years. On the low end of the range, retirement would be very difficult. Knowing the client's lifestyle, health benefits, assets etc would be helpful to determine if the 10 year simulation would be realistic for retirement.\n",
    "\n",
    "The 30 year similation produced better reurns, ranging from $523,310.27 and $9,337,080.01 with 95% confidence. These returns would set the client up better for retirement, especially since the length of retirement would be presumeably shorter. An in depth talk with the client outlining their goals would be needed to make a more conclusive decision. \n"
   ]
  }
 ],
 "metadata": {
  "kernelspec": {
   "display_name": "dev",
   "language": "python",
   "name": "dev"
  },
  "language_info": {
   "codemirror_mode": {
    "name": "ipython",
    "version": 3
   },
   "file_extension": ".py",
   "mimetype": "text/x-python",
   "name": "python",
   "nbconvert_exporter": "python",
   "pygments_lexer": "ipython3",
   "version": "3.9.7"
  }
 },
 "nbformat": 4,
 "nbformat_minor": 4
}
