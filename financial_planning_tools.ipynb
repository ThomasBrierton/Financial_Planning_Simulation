{
 "cells": [
  {
   "cell_type": "markdown",
   "metadata": {},
   "source": [
    "# Financial Planning with APIs and Simulations\n",
    "\n",
    "In this Challenge, you’ll create two financial analysis tools by using a single Jupyter notebook:\n",
    "\n",
    "Part 1: A financial planner for emergencies. The members will be able to use this tool to visualize their current savings. The members can then determine if they have enough reserves for an emergency fund.\n",
    "\n",
    "Part 2: A financial planner for retirement. This tool will forecast the performance of their retirement portfolio in 30 years. To do this, the tool will make an Alpaca API call via the Alpaca SDK to get historical price data for use in Monte Carlo simulations.\n",
    "\n",
    "You’ll use the information from the Monte Carlo simulation to answer questions about the portfolio in your Jupyter notebook.\n",
    "\n"
   ]
  },
  {
   "cell_type": "code",
   "execution_count": 1,
   "metadata": {},
   "outputs": [],
   "source": [
    "# Import the required libraries and dependencies\n",
    "import os\n",
    "import requests\n",
    "import json\n",
    "import pandas as pd\n",
    "from dotenv import load_dotenv\n",
    "import alpaca_trade_api as tradeapi\n",
    "from MCForecastTools import MCSimulation\n",
    "\n",
    "%matplotlib inline"
   ]
  },
  {
   "cell_type": "code",
   "execution_count": 2,
   "metadata": {},
   "outputs": [
    {
     "data": {
      "text/plain": [
       "True"
      ]
     },
     "execution_count": 2,
     "metadata": {},
     "output_type": "execute_result"
    }
   ],
   "source": [
    "# Load the environment variables from the .env file\n",
    "#by calling the load_dotenv function\n",
    "load_dotenv()"
   ]
  },
  {
   "cell_type": "markdown",
   "metadata": {},
   "source": [
    "## Part 1: Create a Financial Planner for Emergencies"
   ]
  },
  {
   "cell_type": "markdown",
   "metadata": {},
   "source": [
    "### Evaluate the Cryptocurrency Wallet by Using the Requests Library\n",
    "\n",
    "In this section, you’ll determine the current value of a member’s cryptocurrency wallet. You’ll collect the current prices for the Bitcoin and Ethereum cryptocurrencies by using the Python Requests library. For the prototype, you’ll assume that the member holds the 1.2 Bitcoins (BTC) and 5.3 Ethereum coins (ETH). To do all this, complete the following steps:\n",
    "\n",
    "1. Create a variable named `monthly_income`, and set its value to `12000`.\n",
    "\n",
    "2. Use the Requests library to get the current price (in US dollars) of Bitcoin (BTC) and Ethereum (ETH) by using the API endpoints that the starter code supplies.\n",
    "\n",
    "3. Navigate the JSON response object to access the current price of each coin, and store each in a variable.\n",
    "\n",
    "    > **Hint** Note the specific identifier for each cryptocurrency in the API JSON response. The Bitcoin identifier is `1`, and the Ethereum identifier is `1027`.\n",
    "\n",
    "4. Calculate the value, in US dollars, of the current amount of each cryptocurrency and of the entire cryptocurrency wallet.\n",
    "\n"
   ]
  },
  {
   "cell_type": "code",
   "execution_count": 3,
   "metadata": {},
   "outputs": [],
   "source": [
    "# The current number of coins for each cryptocurrency asset held in the portfolio.\n",
    "btc_coins = 1.2\n",
    "eth_coins = 5.3"
   ]
  },
  {
   "cell_type": "markdown",
   "metadata": {},
   "source": [
    "#### Step 1: Create a variable named `monthly_income`, and set its value to `12000`."
   ]
  },
  {
   "cell_type": "code",
   "execution_count": 4,
   "metadata": {},
   "outputs": [],
   "source": [
    "# The monthly amount for the member's household income\n",
    "monthly_income = 12000\n"
   ]
  },
  {
   "cell_type": "markdown",
   "metadata": {},
   "source": [
    "#### Review the endpoint URLs for the API calls to Free Crypto API in order to get the current pricing information for both BTC and ETH."
   ]
  },
  {
   "cell_type": "code",
   "execution_count": 5,
   "metadata": {},
   "outputs": [],
   "source": [
    "# The Free Crypto API Call endpoint URLs for the held cryptocurrency assets\n",
    "btc_url = \"https://api.alternative.me/v2/ticker/Bitcoin/?convert=USD\"\n",
    "eth_url = \"https://api.alternative.me/v2/ticker/Ethereum/?convert=USD\""
   ]
  },
  {
   "cell_type": "markdown",
   "metadata": {},
   "source": [
    "#### Step 2. Use the Requests library to get the current price (in US dollars) of Bitcoin (BTC) and Ethereum (ETH) by using the API endpoints that the starter code supplied."
   ]
  },
  {
   "cell_type": "code",
   "execution_count": 6,
   "metadata": {},
   "outputs": [
    {
     "name": "stdout",
     "output_type": "stream",
     "text": [
      "{\n",
      "  \"data\": {\n",
      "    \"1\": {\n",
      "      \"circulating_supply\": 18950812,\n",
      "      \"id\": 1,\n",
      "      \"last_updated\": 1644198737,\n",
      "      \"max_supply\": 21000000,\n",
      "      \"name\": \"Bitcoin\",\n",
      "      \"quotes\": {\n",
      "        \"USD\": {\n",
      "          \"market_cap\": 800290578885,\n",
      "          \"percent_change_1h\": 1.0448482959007,\n",
      "          \"percent_change_24h\": 1.42256934664075,\n",
      "          \"percent_change_7d\": 11.2065471615246,\n",
      "          \"percentage_change_1h\": 1.0448482959007,\n",
      "          \"percentage_change_24h\": 1.42256934664075,\n",
      "          \"percentage_change_7d\": 11.2065471615246,\n",
      "          \"price\": 42240.0,\n",
      "          \"volume_24h\": 14050846624\n",
      "        }\n",
      "      },\n",
      "      \"rank\": 1,\n",
      "      \"symbol\": \"BTC\",\n",
      "      \"total_supply\": 18950812,\n",
      "      \"website_slug\": \"bitcoin\"\n",
      "    }\n",
      "  },\n",
      "  \"metadata\": {\n",
      "    \"error\": null,\n",
      "    \"num_cryptocurrencies\": 3105,\n",
      "    \"timestamp\": 1644198737\n",
      "  }\n",
      "}\n"
     ]
    }
   ],
   "source": [
    "# Using the Python requests library, make an API call to access the current price of BTC\n",
    "btc_response = requests.get(btc_url).json()\n",
    "\n",
    "# Use the json.dumps function to review the response data from the API call\n",
    "# Use the indent and sort_keys parameters to make the response object readable\n",
    "print(json.dumps(btc_response, indent=2, sort_keys=True))\n"
   ]
  },
  {
   "cell_type": "code",
   "execution_count": 7,
   "metadata": {},
   "outputs": [
    {
     "name": "stdout",
     "output_type": "stream",
     "text": [
      "{\n",
      "  \"data\": {\n",
      "    \"1027\": {\n",
      "      \"circulating_supply\": 119475782,\n",
      "      \"id\": 1027,\n",
      "      \"last_updated\": 1644198773,\n",
      "      \"max_supply\": 0,\n",
      "      \"name\": \"Ethereum\",\n",
      "      \"quotes\": {\n",
      "        \"USD\": {\n",
      "          \"market_cap\": 362129362406,\n",
      "          \"percent_change_1h\": 0.764170518796511,\n",
      "          \"percent_change_24h\": -0.147765385962784,\n",
      "          \"percent_change_7d\": 16.1340465621936,\n",
      "          \"percentage_change_1h\": 0.764170518796511,\n",
      "          \"percentage_change_24h\": -0.147765385962784,\n",
      "          \"percentage_change_7d\": 16.1340465621936,\n",
      "          \"price\": 3031.31,\n",
      "          \"volume_24h\": 9520392639\n",
      "        }\n",
      "      },\n",
      "      \"rank\": 2,\n",
      "      \"symbol\": \"ETH\",\n",
      "      \"total_supply\": 119475782,\n",
      "      \"website_slug\": \"ethereum\"\n",
      "    }\n",
      "  },\n",
      "  \"metadata\": {\n",
      "    \"error\": null,\n",
      "    \"num_cryptocurrencies\": 3105,\n",
      "    \"timestamp\": 1644198773\n",
      "  }\n",
      "}\n"
     ]
    }
   ],
   "source": [
    "# Using the Python requests library, make an API call to access the current price ETH\n",
    "eth_response = requests.get(eth_url).json()\n",
    "\n",
    "# Use the json.dumps function to review the response data from the API call\n",
    "# Use the indent and sort_keys parameters to make the response object readable\n",
    "print(json.dumps(eth_response, indent=2, sort_keys=True))\n"
   ]
  },
  {
   "cell_type": "markdown",
   "metadata": {},
   "source": [
    "#### Step 3: Navigate the JSON response object to access the current price of each coin, and store each in a variable."
   ]
  },
  {
   "cell_type": "code",
   "execution_count": 8,
   "metadata": {},
   "outputs": [
    {
     "name": "stdout",
     "output_type": "stream",
     "text": [
      "The current price of BTC is $42240.0 USD.\n"
     ]
    }
   ],
   "source": [
    "# Navigate the BTC response object to access the current price of BTC\n",
    "btc_price = btc_response[\"data\"][\"1\"][\"quotes\"][\"USD\"][\"price\"]\n",
    "\n",
    "# Print the current price of BTC\n",
    "print(f\"The current price of BTC is ${btc_price} USD.\")\n"
   ]
  },
  {
   "cell_type": "code",
   "execution_count": 9,
   "metadata": {},
   "outputs": [
    {
     "name": "stdout",
     "output_type": "stream",
     "text": [
      "The current price of ETH is $3031.31 USD.\n"
     ]
    }
   ],
   "source": [
    "# Navigate the BTC response object to access the current price of ETH\n",
    "eth_price = eth_response[\"data\"][\"1027\"][\"quotes\"][\"USD\"][\"price\"]\n",
    "\n",
    "# Print the current price of ETH\n",
    "print(f\"The current price of ETH is ${eth_price} USD.\")\n"
   ]
  },
  {
   "cell_type": "markdown",
   "metadata": {},
   "source": [
    "### Step 4: Calculate the value, in US dollars, of the current amount of each cryptocurrency and of the entire cryptocurrency wallet."
   ]
  },
  {
   "cell_type": "code",
   "execution_count": 10,
   "metadata": {},
   "outputs": [
    {
     "name": "stdout",
     "output_type": "stream",
     "text": [
      "The current value of your BTC holdings is $ 50688.00 USD.\n"
     ]
    }
   ],
   "source": [
    "# Compute the current value of the BTC holding \n",
    "btc_value = btc_coins * btc_price\n",
    "\n",
    "# Print current value of your holding in BTC\n",
    "print(f\"The current value of your BTC holdings is ${btc_value: .2f} USD.\")\n"
   ]
  },
  {
   "cell_type": "code",
   "execution_count": 11,
   "metadata": {},
   "outputs": [
    {
     "name": "stdout",
     "output_type": "stream",
     "text": [
      "The current value of your ETH holdings is $ 16065.94 USD.\n"
     ]
    }
   ],
   "source": [
    "# Compute the current value of the ETH holding \n",
    "eth_value = eth_coins * eth_price\n",
    "\n",
    "# Print current value of your holding in ETH\n",
    "print(f\"The current value of your ETH holdings is ${eth_value: .2f} USD.\")\n"
   ]
  },
  {
   "cell_type": "code",
   "execution_count": 12,
   "metadata": {},
   "outputs": [
    {
     "name": "stdout",
     "output_type": "stream",
     "text": [
      "The current cryptocurrency wallet balance is $ 66753.94 USD.\n"
     ]
    }
   ],
   "source": [
    "# Compute the total value of the cryptocurrency wallet\n",
    "# Add the value of the BTC holding to the value of the ETH holding\n",
    "total_crypto_wallet = btc_value + eth_value\n",
    "\n",
    "# Print current cryptocurrency wallet balance\n",
    "print(f\"The current cryptocurrency wallet balance is ${total_crypto_wallet: .2f} USD.\")\n"
   ]
  },
  {
   "cell_type": "markdown",
   "metadata": {},
   "source": [
    "### Evaluate the Stock and Bond Holdings by Using the Alpaca SDK\n",
    "\n",
    "In this section, you’ll determine the current value of a member’s stock and bond holdings. You’ll make an API call to Alpaca via the Alpaca SDK to get the current closing prices of the SPDR S&P 500 ETF Trust (ticker: SPY) and of the iShares Core US Aggregate Bond ETF (ticker: AGG). For the prototype, assume that the member holds 110 shares of SPY, which represents the stock portion of their portfolio, and 200 shares of AGG, which represents the bond portion. To do all this, complete the following steps:\n",
    "\n",
    "1. In the `Starter_Code` folder, create an environment file (`.env`) to store the values of your Alpaca API key and Alpaca secret key.\n",
    "\n",
    "2. Set the variables for the Alpaca API and secret keys. Using the Alpaca SDK, create the Alpaca `tradeapi.REST` object. In this object, include the parameters for the Alpaca API key, the secret key, and the version number.\n",
    "\n",
    "3. Set the following parameters for the Alpaca API call:\n",
    "\n",
    "    - `tickers`: Use the tickers for the member’s stock and bond holdings.\n",
    "\n",
    "    - `timeframe`: Use a time frame of one day.\n",
    "\n",
    "    - `start_date` and `end_date`: Use the same date for these parameters, and format them with the date of the previous weekday (or `2020-08-07`). This is because you want the one closing price for the most-recent trading day.\n",
    "\n",
    "4. Get the current closing prices for `SPY` and `AGG` by using the Alpaca `get_barset` function. Format the response as a Pandas DataFrame by including the `df` property at the end of the `get_barset` function.\n",
    "\n",
    "5. Navigating the Alpaca response DataFrame, select the `SPY` and `AGG` closing prices, and store them as variables.\n",
    "\n",
    "6. Calculate the value, in US dollars, of the current amount of shares in each of the stock and bond portions of the portfolio, and print the results.\n"
   ]
  },
  {
   "cell_type": "markdown",
   "metadata": {},
   "source": [
    "#### Review the total number of shares held in both (SPY) and (AGG)."
   ]
  },
  {
   "cell_type": "code",
   "execution_count": 13,
   "metadata": {},
   "outputs": [],
   "source": [
    "# Current amount of shares held in both the stock (SPY) and bond (AGG) portion of the portfolio.\n",
    "spy_shares = 110\n",
    "agg_shares = 200\n"
   ]
  },
  {
   "cell_type": "markdown",
   "metadata": {},
   "source": [
    "#### Step 1: In the `Starter_Code` folder, create an environment file (`.env`) to store the values of your Alpaca API key and Alpaca secret key."
   ]
  },
  {
   "cell_type": "markdown",
   "metadata": {},
   "source": [
    "#### Step 2: Set the variables for the Alpaca API and secret keys. Using the Alpaca SDK, create the Alpaca `tradeapi.REST` object. In this object, include the parameters for the Alpaca API key, the secret key, and the version number."
   ]
  },
  {
   "cell_type": "code",
   "execution_count": 14,
   "metadata": {},
   "outputs": [
    {
     "data": {
      "text/plain": [
       "str"
      ]
     },
     "metadata": {},
     "output_type": "display_data"
    },
    {
     "data": {
      "text/plain": [
       "str"
      ]
     },
     "metadata": {},
     "output_type": "display_data"
    }
   ],
   "source": [
    "# Set the variables for the Alpaca API and secret keys\n",
    "alpaca_api_key = os.getenv(\"ALPACA_API_KEY\")\n",
    "alpaca_secret_key = os.getenv(\"ALPACA_SECRET_KEY\")\n",
    "\n",
    "# Create the Alpaca tradeapi.REST object\n",
    "alpaca = tradeapi.REST(\n",
    "    alpaca_api_key,\n",
    "    alpaca_secret_key,\n",
    "    api_version = \"v2\"\n",
    "    )\n",
    "\n",
    "display(type(alpaca_api_key))\n",
    "display(type(alpaca_secret_key))\n"
   ]
  },
  {
   "cell_type": "markdown",
   "metadata": {},
   "source": [
    "#### Step 3: Set the following parameters for the Alpaca API call:\n",
    "\n",
    "- `tickers`: Use the tickers for the member’s stock and bond holdings.\n",
    "\n",
    "- `timeframe`: Use a time frame of one day.\n",
    "\n",
    "- `start_date` and `end_date`: Use the same date for these parameters, and format them with the date of the previous weekday (or `2020-08-07`). This is because you want the one closing price for the most-recent trading day.\n"
   ]
  },
  {
   "cell_type": "code",
   "execution_count": 15,
   "metadata": {},
   "outputs": [],
   "source": [
    "# Set the tickers for both the bond and stock portion of the portfolio\n",
    "tickers = [\"SPY\", \"AGG\"]\n",
    "\n",
    "# Set timeframe to 1D \n",
    "timeframe = \"1D\"\n",
    "\n",
    "# Format current date as ISO format\n",
    "# Set both the start and end date at the date of your prior weekday \n",
    "# This will give you the closing price of the previous trading day\n",
    "# Alternatively you can use a start and end date of 2020-08-07\n",
    "start_date = pd.Timestamp(\"2022-02-02\", tz=\"America/New_York\").isoformat()\n",
    "end_date = pd.Timestamp(\"2022-02-02\", tz=\"America/New_York\").isoformat()"
   ]
  },
  {
   "cell_type": "markdown",
   "metadata": {},
   "source": [
    "#### Step 4: Get the current closing prices for `SPY` and `AGG` by using the Alpaca `get_barset` function. Format the response as a Pandas DataFrame by including the `df` property at the end of the `get_barset` function."
   ]
  },
  {
   "cell_type": "code",
   "execution_count": 16,
   "metadata": {},
   "outputs": [
    {
     "name": "stderr",
     "output_type": "stream",
     "text": [
      "/var/folders/26/kgl4kmyd0h189pf049s58nwh0000gn/T/ipykernel_10631/3895972734.py:3: DeprecatedWarning: get_barset is deprecated as of v1.0.0. Use get_bars instead\n",
      "  portfolio_df = alpaca.get_barset(\n"
     ]
    },
    {
     "data": {
      "text/html": [
       "<div>\n",
       "<style scoped>\n",
       "    .dataframe tbody tr th:only-of-type {\n",
       "        vertical-align: middle;\n",
       "    }\n",
       "\n",
       "    .dataframe tbody tr th {\n",
       "        vertical-align: top;\n",
       "    }\n",
       "\n",
       "    .dataframe thead tr th {\n",
       "        text-align: left;\n",
       "    }\n",
       "\n",
       "    .dataframe thead tr:last-of-type th {\n",
       "        text-align: right;\n",
       "    }\n",
       "</style>\n",
       "<table border=\"1\" class=\"dataframe\">\n",
       "  <thead>\n",
       "    <tr>\n",
       "      <th></th>\n",
       "      <th colspan=\"5\" halign=\"left\">AGG</th>\n",
       "      <th colspan=\"5\" halign=\"left\">SPY</th>\n",
       "    </tr>\n",
       "    <tr>\n",
       "      <th></th>\n",
       "      <th>open</th>\n",
       "      <th>high</th>\n",
       "      <th>low</th>\n",
       "      <th>close</th>\n",
       "      <th>volume</th>\n",
       "      <th>open</th>\n",
       "      <th>high</th>\n",
       "      <th>low</th>\n",
       "      <th>close</th>\n",
       "      <th>volume</th>\n",
       "    </tr>\n",
       "    <tr>\n",
       "      <th>time</th>\n",
       "      <th></th>\n",
       "      <th></th>\n",
       "      <th></th>\n",
       "      <th></th>\n",
       "      <th></th>\n",
       "      <th></th>\n",
       "      <th></th>\n",
       "      <th></th>\n",
       "      <th></th>\n",
       "      <th></th>\n",
       "    </tr>\n",
       "  </thead>\n",
       "  <tbody>\n",
       "    <tr>\n",
       "      <th>2022-02-02 00:00:00-05:00</th>\n",
       "      <td>111.7</td>\n",
       "      <td>111.97</td>\n",
       "      <td>111.6744</td>\n",
       "      <td>111.72</td>\n",
       "      <td>7424696</td>\n",
       "      <td>455.5</td>\n",
       "      <td>458.12</td>\n",
       "      <td>453.05</td>\n",
       "      <td>457.3</td>\n",
       "      <td>97807976</td>\n",
       "    </tr>\n",
       "  </tbody>\n",
       "</table>\n",
       "</div>"
      ],
      "text/plain": [
       "                             AGG                                       SPY  \\\n",
       "                            open    high       low   close   volume   open   \n",
       "time                                                                         \n",
       "2022-02-02 00:00:00-05:00  111.7  111.97  111.6744  111.72  7424696  455.5   \n",
       "\n",
       "                                                            \n",
       "                             high     low  close    volume  \n",
       "time                                                        \n",
       "2022-02-02 00:00:00-05:00  458.12  453.05  457.3  97807976  "
      ]
     },
     "execution_count": 16,
     "metadata": {},
     "output_type": "execute_result"
    }
   ],
   "source": [
    "# Use the Alpaca get_barset function to get current closing prices the portfolio\n",
    "# Be sure to set the `df` property after the function to format the response object as a DataFrame\n",
    "portfolio_df = alpaca.get_barset(\n",
    "    tickers,\n",
    "    timeframe,\n",
    "    start = start_date, \n",
    "    end = end_date,\n",
    "    ).df\n",
    "\n",
    "# Review the first 5 rows of the Alpaca DataFrame\n",
    "portfolio_df.head()\n"
   ]
  },
  {
   "cell_type": "markdown",
   "metadata": {},
   "source": [
    "#### Step 5: Navigating the Alpaca response DataFrame, select the `SPY` and `AGG` closing prices, and store them as variables."
   ]
  },
  {
   "cell_type": "code",
   "execution_count": 17,
   "metadata": {},
   "outputs": [
    {
     "name": "stdout",
     "output_type": "stream",
     "text": [
      "The AGG closing price is $111.72 USD.\n"
     ]
    }
   ],
   "source": [
    "# Access the closing price for AGG from the Alpaca DataFrame\n",
    "# Converting the value to a floating point number\n",
    "agg_close_price = float(portfolio_df[\"AGG\"][\"close\"])\n",
    "\n",
    "# Print the AGG closing price\n",
    "print(f\"The AGG closing price is ${agg_close_price} USD.\")\n"
   ]
  },
  {
   "cell_type": "code",
   "execution_count": 18,
   "metadata": {},
   "outputs": [
    {
     "name": "stdout",
     "output_type": "stream",
     "text": [
      "The SPY closing price is $457.3 USD.\n"
     ]
    }
   ],
   "source": [
    "# Access the closing price for SPY from the Alpaca DataFrame\n",
    "# Converting the value to a floating point number\n",
    "spy_close_price = float(portfolio_df[\"SPY\"][\"close\"])\n",
    "\n",
    "# Print the SPY closing price\n",
    "print(f\"The SPY closing price is ${spy_close_price} USD.\")\n"
   ]
  },
  {
   "cell_type": "markdown",
   "metadata": {},
   "source": [
    "#### Step 6: Calculate the value, in US dollars, of the current amount of shares in each of the stock and bond portions of the portfolio, and print the results."
   ]
  },
  {
   "cell_type": "code",
   "execution_count": 19,
   "metadata": {},
   "outputs": [
    {
     "name": "stdout",
     "output_type": "stream",
     "text": [
      "The current value of the bond portfolio is $22344.0 USD.\n"
     ]
    }
   ],
   "source": [
    "# Calculate the current value of the bond portion of the portfolio\n",
    "agg_value = agg_close_price * agg_shares\n",
    "\n",
    "# Print the current value of the bond portfolio\n",
    "print(f\"The current value of the bond portfolio is ${agg_value} USD.\")\n"
   ]
  },
  {
   "cell_type": "code",
   "execution_count": 20,
   "metadata": {},
   "outputs": [
    {
     "name": "stdout",
     "output_type": "stream",
     "text": [
      "The current value of the stock portfolio is $50303.0 USD.\n"
     ]
    }
   ],
   "source": [
    "# Calculate the current value of the stock portion of the portfolio\n",
    "spy_value = spy_close_price * spy_shares\n",
    "\n",
    "# Print the current value of the stock portfolio\n",
    "print(f\"The current value of the stock portfolio is ${spy_value} USD.\")\n"
   ]
  },
  {
   "cell_type": "code",
   "execution_count": 21,
   "metadata": {},
   "outputs": [
    {
     "name": "stdout",
     "output_type": "stream",
     "text": [
      "The current balance of the stock and bond portion of the portfolio is $72647.0 USD.\n"
     ]
    }
   ],
   "source": [
    "# Calculate the total value of the stock and bond portion of the portfolio\n",
    "total_stocks_bonds = agg_value + spy_value\n",
    "\n",
    "# Print the current balance of the stock and bond portion of the portfolio\n",
    "print(f\"The current balance of the stock and bond portion of the portfolio is ${total_stocks_bonds} USD.\")\n"
   ]
  },
  {
   "cell_type": "code",
   "execution_count": 22,
   "metadata": {},
   "outputs": [
    {
     "name": "stdout",
     "output_type": "stream",
     "text": [
      "The total value of the entire savings portfolio is $ 139400.94 USD.\n"
     ]
    }
   ],
   "source": [
    "# Calculate the total value of the member's entire savings portfolio\n",
    "# Add the value of the cryptocurrency walled to the value of the total stocks and bonds\n",
    "total_portfolio = total_crypto_wallet + total_stocks_bonds\n",
    "\n",
    "# Print current cryptocurrency wallet balance\n",
    "print(f\"The total value of the entire savings portfolio is ${total_portfolio: .2f} USD.\")\n"
   ]
  },
  {
   "cell_type": "markdown",
   "metadata": {},
   "source": [
    "### Evaluate the Emergency Fund\n",
    "\n",
    "In this section, you’ll use the valuations for the cryptocurrency wallet and for the stock and bond portions of the portfolio to determine if the credit union member has enough savings to build an emergency fund into their financial plan. To do this, complete the following steps:\n",
    "\n",
    "1. Create a Python list named `savings_data` that has two elements. The first element contains the total value of the cryptocurrency wallet. The second element contains the total value of the stock and bond portions of the portfolio.\n",
    "\n",
    "2. Use the `savings_data` list to create a Pandas DataFrame named `savings_df`, and then display this DataFrame. The function to create the DataFrame should take the following three parameters:\n",
    "\n",
    "    - `savings_data`: Use the list that you just created.\n",
    "\n",
    "    - `columns`: Set this parameter equal to a Python list with a single value called `amount`.\n",
    "\n",
    "    - `index`: Set this parameter equal to a Python list with the values of `crypto` and `stock/bond`.\n",
    "\n",
    "3. Use the `savings_df` DataFrame to plot a pie chart that visualizes the composition of the member’s portfolio. The y-axis of the pie chart uses `amount`. Be sure to add a title.\n",
    "\n",
    "4. Using Python, determine if the current portfolio has enough to create an emergency fund as part of the member’s financial plan. Ideally, an emergency fund should equal to three times the member’s monthly income. To do this, implement the following steps:\n",
    "\n",
    "    1. Create a variable named `emergency_fund_value`, and set it equal to three times the value of the member’s `monthly_income` of $12000. (You set this earlier in Part 1).\n",
    "\n",
    "    2. Create a series of three if statements to determine if the member’s total portfolio is large enough to fund the emergency portfolio:\n",
    "\n",
    "        1. If the total portfolio value is greater than the emergency fund value, display a message congratulating the member for having enough money in this fund.\n",
    "\n",
    "        2. Else if the total portfolio value is equal to the emergency fund value, display a message congratulating the member on reaching this important financial goal.\n",
    "\n",
    "        3. Else the total portfolio is less than the emergency fund value, so display a message showing how many dollars away the member is from reaching the goal. (Subtract the total portfolio value from the emergency fund value.)\n"
   ]
  },
  {
   "cell_type": "markdown",
   "metadata": {},
   "source": [
    "#### Step 1: Create a Python list named `savings_data` that has two elements. The first element contains the total value of the cryptocurrency wallet. The second element contains the total value of the stock and bond portions of the portfolio."
   ]
  },
  {
   "cell_type": "code",
   "execution_count": 23,
   "metadata": {},
   "outputs": [
    {
     "data": {
      "text/plain": [
       "[66753.943, 72647.0]"
      ]
     },
     "execution_count": 23,
     "metadata": {},
     "output_type": "execute_result"
    }
   ],
   "source": [
    "# Consolidate financial assets data into a Python list\n",
    "savings_data = [total_crypto_wallet, total_stocks_bonds]\n",
    "\n",
    "# Review the Python list savings_data\n",
    "savings_data\n",
    "    "
   ]
  },
  {
   "cell_type": "markdown",
   "metadata": {},
   "source": [
    "#### Step 2: Use the `savings_data` list to create a Pandas DataFrame named `savings_df`, and then display this DataFrame. The function to create the DataFrame should take the following three parameters:\n",
    "\n",
    "- `savings_data`: Use the list that you just created.\n",
    "\n",
    "- `columns`: Set this parameter equal to a Python list with a single value called `amount`.\n",
    "\n",
    "- `index`: Set this parameter equal to a Python list with the values of `crypto` and `stock/bond`.\n"
   ]
  },
  {
   "cell_type": "code",
   "execution_count": 24,
   "metadata": {},
   "outputs": [
    {
     "data": {
      "text/html": [
       "<div>\n",
       "<style scoped>\n",
       "    .dataframe tbody tr th:only-of-type {\n",
       "        vertical-align: middle;\n",
       "    }\n",
       "\n",
       "    .dataframe tbody tr th {\n",
       "        vertical-align: top;\n",
       "    }\n",
       "\n",
       "    .dataframe thead th {\n",
       "        text-align: right;\n",
       "    }\n",
       "</style>\n",
       "<table border=\"1\" class=\"dataframe\">\n",
       "  <thead>\n",
       "    <tr style=\"text-align: right;\">\n",
       "      <th></th>\n",
       "      <th>amount</th>\n",
       "    </tr>\n",
       "  </thead>\n",
       "  <tbody>\n",
       "    <tr>\n",
       "      <th>crypto</th>\n",
       "      <td>66753.943</td>\n",
       "    </tr>\n",
       "    <tr>\n",
       "      <th>stock/bond</th>\n",
       "      <td>72647.000</td>\n",
       "    </tr>\n",
       "  </tbody>\n",
       "</table>\n",
       "</div>"
      ],
      "text/plain": [
       "               amount\n",
       "crypto      66753.943\n",
       "stock/bond  72647.000"
      ]
     },
     "execution_count": 24,
     "metadata": {},
     "output_type": "execute_result"
    }
   ],
   "source": [
    "# Create a Pandas DataFrame called savings_df \n",
    "savings_df = pd.DataFrame(savings_data, columns=[\"amount\"], index=[\"crypto\",\"stock/bond\"])\n",
    "\n",
    "# Display the savings_df DataFrame\n",
    "savings_df\n"
   ]
  },
  {
   "cell_type": "markdown",
   "metadata": {},
   "source": [
    "#### Step 3: Use the `savings_df` DataFrame to plot a pie chart that visualizes the composition of the member’s portfolio. The y-axis of the pie chart uses `amount`. Be sure to add a title."
   ]
  },
  {
   "cell_type": "code",
   "execution_count": 25,
   "metadata": {},
   "outputs": [
    {
     "data": {
      "text/plain": [
       "<AxesSubplot:title={'center':'Total Portfolio Value - Crypto, Stocks, & Bonds'}, ylabel='amount'>"
      ]
     },
     "execution_count": 25,
     "metadata": {},
     "output_type": "execute_result"
    },
    {
     "data": {
      "image/png": "[encoded data removed]",
      "text/plain": [
       "<Figure size 504x504 with 1 Axes>"
      ]
     },
     "metadata": {},
     "output_type": "display_data"
    }
   ],
   "source": [
    "# Plot the total value of the member's portfolio (crypto and stock/bond) in a pie chart\n",
    "savings_df.plot.pie(y = 'amount', title = \"Total Portfolio Value - Crypto, Stocks, & Bonds\", figsize = (7, 7))"
   ]
  },
  {
   "cell_type": "markdown",
   "metadata": {},
   "source": [
    "#### Step 4: Using Python, determine if the current portfolio has enough to create an emergency fund as part of the member’s financial plan. Ideally, an emergency fund should equal to three times the member’s monthly income. To do this, implement the following steps:\n",
    "\n",
    "Step 1. Create a variable named `emergency_fund_value`, and set it equal to three times the value of the member’s `monthly_income` of 12000. (You set this earlier in Part 1).\n",
    "\n",
    "Step 2. Create a series of three if statements to determine if the member’s total portfolio is large enough to fund the emergency portfolio:\n",
    "\n",
    "* If the total portfolio value is greater than the emergency fund value, display a message congratulating the member for having enough money in this fund.\n",
    "\n",
    "* Else if the total portfolio value is equal to the emergency fund value, display a message congratulating the member on reaching this important financial goal.\n",
    "\n",
    "* Else the total portfolio is less than the emergency fund value, so display a message showing how many dollars away the member is from reaching the goal. (Subtract the total portfolio value from the emergency fund value.)\n"
   ]
  },
  {
   "cell_type": "markdown",
   "metadata": {},
   "source": [
    "##### Step 4-1: Create a variable named `emergency_fund_value`, and set it equal to three times the value of the member’s `monthly_income` of 12000. (You set this earlier in Part 1)."
   ]
  },
  {
   "cell_type": "code",
   "execution_count": 26,
   "metadata": {},
   "outputs": [
    {
     "name": "stdout",
     "output_type": "stream",
     "text": [
      "The value of the emergency fund should be at least $36000 USD.\n"
     ]
    }
   ],
   "source": [
    "# Create a variable named emergency_fund_value\n",
    "emergency_fund_value = 3 * monthly_income\n",
    "\n",
    "# Print the emergency_fund_value\n",
    "print(f\"The value of the emergency fund should be at least ${emergency_fund_value} USD.\")\n"
   ]
  },
  {
   "cell_type": "markdown",
   "metadata": {},
   "source": [
    "##### Step 4-2: Create a series of three if statements to determine if the member’s total portfolio is large enough to fund the emergency portfolio:\n",
    "\n",
    "* If the total portfolio value is greater than the emergency fund value, display a message congratulating the member for having enough money in this fund.\n",
    "\n",
    "* Else if the total portfolio value is equal to the emergency fund value, display a message congratulating the member on reaching this important financial goal.\n",
    "\n",
    "* Else the total portfolio is less than the emergency fund value, so display a message showing how many dollars away the member is from reaching the goal. (Subtract the total portfolio value from the emergency fund value.)"
   ]
  },
  {
   "cell_type": "code",
   "execution_count": 27,
   "metadata": {},
   "outputs": [
    {
     "name": "stdout",
     "output_type": "stream",
     "text": [
      "Congratulations, you have enough money in this portfolio to fund your emergency portfolio!\n"
     ]
    }
   ],
   "source": [
    "# Evaluate the possibility of creating an emergency fund with 3 conditions:\n",
    "if total_portfolio > emergency_fund_value:\n",
    "    print(\"Congratulations, you have enough money in this portfolio to fund your emergency portfolio!\")\n",
    "elif total_portfolio == emergency_fund_value:\n",
    "    print(\"Congratulations! You have reached an important financial goal of having a 3-month emergency fund reserve.\")\n",
    "else:\n",
    "    print(f\"You are ${emergency_fund_value - total_portfolio} away from reaching the goal of having 3-month emergency fund reserve.\") "
   ]
  },
  {
   "cell_type": "markdown",
   "metadata": {},
   "source": [
    "## Part 2: Create a Financial Planner for Retirement"
   ]
  },
  {
   "cell_type": "markdown",
   "metadata": {},
   "source": [
    "### Create the Monte Carlo Simulation\n",
    "\n",
    "In this section, you’ll use the MCForecastTools library to create a Monte Carlo simulation for the member’s savings portfolio. To do this, complete the following steps:\n",
    "\n",
    "1. Make an API call via the Alpaca SDK to get 3 years of historical closing prices for a traditional 60/40 portfolio split: 60% stocks (SPY) and 40% bonds (AGG).\n",
    "\n",
    "2. Run a Monte Carlo simulation of 500 samples and 30 years for the 60/40 portfolio, and then plot the results.The following image shows the overlay line plot resulting from a simulation with these characteristics. However, because a random number generator is used to run each live Monte Carlo simulation, your image will differ slightly from this exact image:\n",
    "\n",
    "![A screenshot depicts the resulting plot.](Images/5-4-monte-carlo-line-plot.png)\n",
    "\n",
    "3. Plot the probability distribution of the Monte Carlo simulation. Plot the probability distribution of the Monte Carlo simulation. The following image shows the histogram plot resulting from a simulation with these characteristics. However, because a random number generator is used to run each live Monte Carlo simulation, your image will differ slightly from this exact image:\n",
    "\n",
    "![A screenshot depicts the histogram plot.](Images/5-4-monte-carlo-histogram.png)\n",
    "\n",
    "4. Generate the summary statistics for the Monte Carlo simulation.\n",
    "\n"
   ]
  },
  {
   "cell_type": "markdown",
   "metadata": {},
   "source": [
    "#### Step 1: Make an API call via the Alpaca SDK to get 3 years of historical closing prices for a traditional 60/40 portfolio split: 60% stocks (SPY) and 40% bonds (AGG)."
   ]
  },
  {
   "cell_type": "code",
   "execution_count": 28,
   "metadata": {},
   "outputs": [],
   "source": [
    "# Set start and end dates of 3 years back from your current date\n",
    "# Alternatively, you can use an end date of 2020-08-07 and work 3 years back from that date \n",
    "start_date_3yrs_back = pd.Timestamp(\"2019-02-02\", tz=\"America/New_York\").isoformat()\n",
    "end_date = pd.Timestamp(\"2022-02-02\", tz=\"America/New_York\").isoformat()\n",
    "\n",
    "# Set number of rows to 1000 to retrieve the maximum amount of rows\n",
    "limit_rows = 1000"
   ]
  },
  {
   "cell_type": "code",
   "execution_count": 29,
   "metadata": {},
   "outputs": [
    {
     "name": "stderr",
     "output_type": "stream",
     "text": [
      "/var/folders/26/kgl4kmyd0h189pf049s58nwh0000gn/T/ipykernel_10631/1180840155.py:5: DeprecatedWarning: get_barset is deprecated as of v1.0.0. Use get_bars instead\n",
      "  prices_3_years_df = alpaca.get_barset(\n"
     ]
    },
    {
     "data": {
      "text/html": [
       "<div>\n",
       "<style scoped>\n",
       "    .dataframe tbody tr th:only-of-type {\n",
       "        vertical-align: middle;\n",
       "    }\n",
       "\n",
       "    .dataframe tbody tr th {\n",
       "        vertical-align: top;\n",
       "    }\n",
       "\n",
       "    .dataframe thead tr th {\n",
       "        text-align: left;\n",
       "    }\n",
       "\n",
       "    .dataframe thead tr:last-of-type th {\n",
       "        text-align: right;\n",
       "    }\n",
       "</style>\n",
       "<table border=\"1\" class=\"dataframe\">\n",
       "  <thead>\n",
       "    <tr>\n",
       "      <th></th>\n",
       "      <th colspan=\"5\" halign=\"left\">AGG</th>\n",
       "      <th colspan=\"5\" halign=\"left\">SPY</th>\n",
       "    </tr>\n",
       "    <tr>\n",
       "      <th></th>\n",
       "      <th>open</th>\n",
       "      <th>high</th>\n",
       "      <th>low</th>\n",
       "      <th>close</th>\n",
       "      <th>volume</th>\n",
       "      <th>open</th>\n",
       "      <th>high</th>\n",
       "      <th>low</th>\n",
       "      <th>close</th>\n",
       "      <th>volume</th>\n",
       "    </tr>\n",
       "    <tr>\n",
       "      <th>time</th>\n",
       "      <th></th>\n",
       "      <th></th>\n",
       "      <th></th>\n",
       "      <th></th>\n",
       "      <th></th>\n",
       "      <th></th>\n",
       "      <th></th>\n",
       "      <th></th>\n",
       "      <th></th>\n",
       "      <th></th>\n",
       "    </tr>\n",
       "  </thead>\n",
       "  <tbody>\n",
       "    <tr>\n",
       "      <th>2019-02-04 00:00:00-05:00</th>\n",
       "      <td>106.83</td>\n",
       "      <td>106.9000</td>\n",
       "      <td>106.770</td>\n",
       "      <td>106.8950</td>\n",
       "      <td>9790488.0</td>\n",
       "      <td>270.11</td>\n",
       "      <td>271.8000</td>\n",
       "      <td>269.36</td>\n",
       "      <td>271.78</td>\n",
       "      <td>46985797</td>\n",
       "    </tr>\n",
       "    <tr>\n",
       "      <th>2019-02-05 00:00:00-05:00</th>\n",
       "      <td>106.95</td>\n",
       "      <td>107.1400</td>\n",
       "      <td>106.950</td>\n",
       "      <td>107.0900</td>\n",
       "      <td>4918385.0</td>\n",
       "      <td>272.44</td>\n",
       "      <td>273.4400</td>\n",
       "      <td>271.88</td>\n",
       "      <td>273.13</td>\n",
       "      <td>61540042</td>\n",
       "    </tr>\n",
       "    <tr>\n",
       "      <th>2019-02-06 00:00:00-05:00</th>\n",
       "      <td>107.20</td>\n",
       "      <td>107.2200</td>\n",
       "      <td>106.985</td>\n",
       "      <td>107.0441</td>\n",
       "      <td>6022187.0</td>\n",
       "      <td>272.79</td>\n",
       "      <td>273.3400</td>\n",
       "      <td>271.92</td>\n",
       "      <td>272.70</td>\n",
       "      <td>43446324</td>\n",
       "    </tr>\n",
       "    <tr>\n",
       "      <th>2019-02-07 00:00:00-05:00</th>\n",
       "      <td>107.15</td>\n",
       "      <td>107.1983</td>\n",
       "      <td>107.030</td>\n",
       "      <td>107.1500</td>\n",
       "      <td>3080898.0</td>\n",
       "      <td>270.94</td>\n",
       "      <td>271.5500</td>\n",
       "      <td>268.29</td>\n",
       "      <td>269.97</td>\n",
       "      <td>83380785</td>\n",
       "    </tr>\n",
       "    <tr>\n",
       "      <th>2019-02-08 00:00:00-05:00</th>\n",
       "      <td>107.17</td>\n",
       "      <td>107.3800</td>\n",
       "      <td>107.170</td>\n",
       "      <td>107.3550</td>\n",
       "      <td>2988674.0</td>\n",
       "      <td>268.75</td>\n",
       "      <td>270.2874</td>\n",
       "      <td>267.83</td>\n",
       "      <td>270.08</td>\n",
       "      <td>63409417</td>\n",
       "    </tr>\n",
       "  </tbody>\n",
       "</table>\n",
       "</div>"
      ],
      "text/plain": [
       "                              AGG                                          \\\n",
       "                             open      high      low     close     volume   \n",
       "time                                                                        \n",
       "2019-02-04 00:00:00-05:00  106.83  106.9000  106.770  106.8950  9790488.0   \n",
       "2019-02-05 00:00:00-05:00  106.95  107.1400  106.950  107.0900  4918385.0   \n",
       "2019-02-06 00:00:00-05:00  107.20  107.2200  106.985  107.0441  6022187.0   \n",
       "2019-02-07 00:00:00-05:00  107.15  107.1983  107.030  107.1500  3080898.0   \n",
       "2019-02-08 00:00:00-05:00  107.17  107.3800  107.170  107.3550  2988674.0   \n",
       "\n",
       "                              SPY                                      \n",
       "                             open      high     low   close    volume  \n",
       "time                                                                   \n",
       "2019-02-04 00:00:00-05:00  270.11  271.8000  269.36  271.78  46985797  \n",
       "2019-02-05 00:00:00-05:00  272.44  273.4400  271.88  273.13  61540042  \n",
       "2019-02-06 00:00:00-05:00  272.79  273.3400  271.92  272.70  43446324  \n",
       "2019-02-07 00:00:00-05:00  270.94  271.5500  268.29  269.97  83380785  \n",
       "2019-02-08 00:00:00-05:00  268.75  270.2874  267.83  270.08  63409417  "
      ]
     },
     "metadata": {},
     "output_type": "display_data"
    },
    {
     "data": {
      "text/html": [
       "<div>\n",
       "<style scoped>\n",
       "    .dataframe tbody tr th:only-of-type {\n",
       "        vertical-align: middle;\n",
       "    }\n",
       "\n",
       "    .dataframe tbody tr th {\n",
       "        vertical-align: top;\n",
       "    }\n",
       "\n",
       "    .dataframe thead tr th {\n",
       "        text-align: left;\n",
       "    }\n",
       "\n",
       "    .dataframe thead tr:last-of-type th {\n",
       "        text-align: right;\n",
       "    }\n",
       "</style>\n",
       "<table border=\"1\" class=\"dataframe\">\n",
       "  <thead>\n",
       "    <tr>\n",
       "      <th></th>\n",
       "      <th colspan=\"5\" halign=\"left\">AGG</th>\n",
       "      <th colspan=\"5\" halign=\"left\">SPY</th>\n",
       "    </tr>\n",
       "    <tr>\n",
       "      <th></th>\n",
       "      <th>open</th>\n",
       "      <th>high</th>\n",
       "      <th>low</th>\n",
       "      <th>close</th>\n",
       "      <th>volume</th>\n",
       "      <th>open</th>\n",
       "      <th>high</th>\n",
       "      <th>low</th>\n",
       "      <th>close</th>\n",
       "      <th>volume</th>\n",
       "    </tr>\n",
       "    <tr>\n",
       "      <th>time</th>\n",
       "      <th></th>\n",
       "      <th></th>\n",
       "      <th></th>\n",
       "      <th></th>\n",
       "      <th></th>\n",
       "      <th></th>\n",
       "      <th></th>\n",
       "      <th></th>\n",
       "      <th></th>\n",
       "      <th></th>\n",
       "    </tr>\n",
       "  </thead>\n",
       "  <tbody>\n",
       "    <tr>\n",
       "      <th>2022-01-27 00:00:00-05:00</th>\n",
       "      <td>111.62</td>\n",
       "      <td>111.8800</td>\n",
       "      <td>111.6200</td>\n",
       "      <td>111.72</td>\n",
       "      <td>5836124.0</td>\n",
       "      <td>438.26</td>\n",
       "      <td>441.58</td>\n",
       "      <td>429.4500</td>\n",
       "      <td>431.270</td>\n",
       "      <td>136251597</td>\n",
       "    </tr>\n",
       "    <tr>\n",
       "      <th>2022-01-28 00:00:00-05:00</th>\n",
       "      <td>111.46</td>\n",
       "      <td>111.8600</td>\n",
       "      <td>111.4400</td>\n",
       "      <td>111.81</td>\n",
       "      <td>10400422.0</td>\n",
       "      <td>432.70</td>\n",
       "      <td>442.00</td>\n",
       "      <td>427.8200</td>\n",
       "      <td>441.920</td>\n",
       "      <td>142062305</td>\n",
       "    </tr>\n",
       "    <tr>\n",
       "      <th>2022-01-31 00:00:00-05:00</th>\n",
       "      <td>111.64</td>\n",
       "      <td>111.8900</td>\n",
       "      <td>111.6000</td>\n",
       "      <td>111.78</td>\n",
       "      <td>11437834.0</td>\n",
       "      <td>441.24</td>\n",
       "      <td>450.28</td>\n",
       "      <td>439.8100</td>\n",
       "      <td>449.815</td>\n",
       "      <td>128202383</td>\n",
       "    </tr>\n",
       "    <tr>\n",
       "      <th>2022-02-01 00:00:00-05:00</th>\n",
       "      <td>111.66</td>\n",
       "      <td>111.6764</td>\n",
       "      <td>111.3800</td>\n",
       "      <td>111.59</td>\n",
       "      <td>9477222.0</td>\n",
       "      <td>450.72</td>\n",
       "      <td>453.63</td>\n",
       "      <td>446.9384</td>\n",
       "      <td>452.960</td>\n",
       "      <td>106515279</td>\n",
       "    </tr>\n",
       "    <tr>\n",
       "      <th>2022-02-02 00:00:00-05:00</th>\n",
       "      <td>111.70</td>\n",
       "      <td>111.9700</td>\n",
       "      <td>111.6744</td>\n",
       "      <td>111.72</td>\n",
       "      <td>7424696.0</td>\n",
       "      <td>455.50</td>\n",
       "      <td>458.12</td>\n",
       "      <td>453.0500</td>\n",
       "      <td>457.300</td>\n",
       "      <td>97807976</td>\n",
       "    </tr>\n",
       "  </tbody>\n",
       "</table>\n",
       "</div>"
      ],
      "text/plain": [
       "                              AGG                                          \\\n",
       "                             open      high       low   close      volume   \n",
       "time                                                                        \n",
       "2022-01-27 00:00:00-05:00  111.62  111.8800  111.6200  111.72   5836124.0   \n",
       "2022-01-28 00:00:00-05:00  111.46  111.8600  111.4400  111.81  10400422.0   \n",
       "2022-01-31 00:00:00-05:00  111.64  111.8900  111.6000  111.78  11437834.0   \n",
       "2022-02-01 00:00:00-05:00  111.66  111.6764  111.3800  111.59   9477222.0   \n",
       "2022-02-02 00:00:00-05:00  111.70  111.9700  111.6744  111.72   7424696.0   \n",
       "\n",
       "                              SPY                                        \n",
       "                             open    high       low    close     volume  \n",
       "time                                                                     \n",
       "2022-01-27 00:00:00-05:00  438.26  441.58  429.4500  431.270  136251597  \n",
       "2022-01-28 00:00:00-05:00  432.70  442.00  427.8200  441.920  142062305  \n",
       "2022-01-31 00:00:00-05:00  441.24  450.28  439.8100  449.815  128202383  \n",
       "2022-02-01 00:00:00-05:00  450.72  453.63  446.9384  452.960  106515279  \n",
       "2022-02-02 00:00:00-05:00  455.50  458.12  453.0500  457.300   97807976  "
      ]
     },
     "metadata": {},
     "output_type": "display_data"
    }
   ],
   "source": [
    "# Use the Alpaca get_barset function to make the API call to get the 3 years worth of pricing data\n",
    "# The tickers and timeframe parameters should have been set in Part 1 of this activity \n",
    "# The start and end dates should be updated with the information set above\n",
    "# Remember to add the df property to the end of the call so the response is returned as a DataFrame\n",
    "prices_3_years_df = alpaca.get_barset(\n",
    "    tickers, \n",
    "    timeframe,\n",
    "    start=start_date_3yrs_back,\n",
    "    end=end_date,\n",
    "    limit=limit_rows\n",
    "    ).df\n",
    "\n",
    "\n",
    "# Display both the first and last five rows of the DataFrame\n",
    "display(prices_3_years_df.head())\n",
    "display(prices_3_years_df.tail())\n"
   ]
  },
  {
   "cell_type": "markdown",
   "metadata": {},
   "source": [
    "#### Step 2: Run a Monte Carlo simulation of 500 samples and 30 years for the 60/40 portfolio, and then plot the results."
   ]
  },
  {
   "cell_type": "code",
   "execution_count": 30,
   "metadata": {},
   "outputs": [
    {
     "data": {
      "text/html": [
       "<div>\n",
       "<style scoped>\n",
       "    .dataframe tbody tr th:only-of-type {\n",
       "        vertical-align: middle;\n",
       "    }\n",
       "\n",
       "    .dataframe tbody tr th {\n",
       "        vertical-align: top;\n",
       "    }\n",
       "\n",
       "    .dataframe thead tr th {\n",
       "        text-align: left;\n",
       "    }\n",
       "\n",
       "    .dataframe thead tr:last-of-type th {\n",
       "        text-align: right;\n",
       "    }\n",
       "</style>\n",
       "<table border=\"1\" class=\"dataframe\">\n",
       "  <thead>\n",
       "    <tr>\n",
       "      <th></th>\n",
       "      <th colspan=\"6\" halign=\"left\">AGG</th>\n",
       "      <th colspan=\"6\" halign=\"left\">SPY</th>\n",
       "    </tr>\n",
       "    <tr>\n",
       "      <th></th>\n",
       "      <th>open</th>\n",
       "      <th>high</th>\n",
       "      <th>low</th>\n",
       "      <th>close</th>\n",
       "      <th>volume</th>\n",
       "      <th>daily_return</th>\n",
       "      <th>open</th>\n",
       "      <th>high</th>\n",
       "      <th>low</th>\n",
       "      <th>close</th>\n",
       "      <th>volume</th>\n",
       "      <th>daily_return</th>\n",
       "    </tr>\n",
       "    <tr>\n",
       "      <th>time</th>\n",
       "      <th></th>\n",
       "      <th></th>\n",
       "      <th></th>\n",
       "      <th></th>\n",
       "      <th></th>\n",
       "      <th></th>\n",
       "      <th></th>\n",
       "      <th></th>\n",
       "      <th></th>\n",
       "      <th></th>\n",
       "      <th></th>\n",
       "      <th></th>\n",
       "    </tr>\n",
       "  </thead>\n",
       "  <tbody>\n",
       "    <tr>\n",
       "      <th>2019-02-04 00:00:00-05:00</th>\n",
       "      <td>106.83</td>\n",
       "      <td>106.9000</td>\n",
       "      <td>106.770</td>\n",
       "      <td>106.8950</td>\n",
       "      <td>9790488.0</td>\n",
       "      <td>NaN</td>\n",
       "      <td>270.11</td>\n",
       "      <td>271.8000</td>\n",
       "      <td>269.36</td>\n",
       "      <td>271.78</td>\n",
       "      <td>46985797</td>\n",
       "      <td>NaN</td>\n",
       "    </tr>\n",
       "    <tr>\n",
       "      <th>2019-02-05 00:00:00-05:00</th>\n",
       "      <td>106.95</td>\n",
       "      <td>107.1400</td>\n",
       "      <td>106.950</td>\n",
       "      <td>107.0900</td>\n",
       "      <td>4918385.0</td>\n",
       "      <td>0.001824</td>\n",
       "      <td>272.44</td>\n",
       "      <td>273.4400</td>\n",
       "      <td>271.88</td>\n",
       "      <td>273.13</td>\n",
       "      <td>61540042</td>\n",
       "      <td>0.004967</td>\n",
       "    </tr>\n",
       "    <tr>\n",
       "      <th>2019-02-06 00:00:00-05:00</th>\n",
       "      <td>107.20</td>\n",
       "      <td>107.2200</td>\n",
       "      <td>106.985</td>\n",
       "      <td>107.0441</td>\n",
       "      <td>6022187.0</td>\n",
       "      <td>-0.000429</td>\n",
       "      <td>272.79</td>\n",
       "      <td>273.3400</td>\n",
       "      <td>271.92</td>\n",
       "      <td>272.70</td>\n",
       "      <td>43446324</td>\n",
       "      <td>-0.001574</td>\n",
       "    </tr>\n",
       "    <tr>\n",
       "      <th>2019-02-07 00:00:00-05:00</th>\n",
       "      <td>107.15</td>\n",
       "      <td>107.1983</td>\n",
       "      <td>107.030</td>\n",
       "      <td>107.1500</td>\n",
       "      <td>3080898.0</td>\n",
       "      <td>0.000989</td>\n",
       "      <td>270.94</td>\n",
       "      <td>271.5500</td>\n",
       "      <td>268.29</td>\n",
       "      <td>269.97</td>\n",
       "      <td>83380785</td>\n",
       "      <td>-0.010011</td>\n",
       "    </tr>\n",
       "    <tr>\n",
       "      <th>2019-02-08 00:00:00-05:00</th>\n",
       "      <td>107.17</td>\n",
       "      <td>107.3800</td>\n",
       "      <td>107.170</td>\n",
       "      <td>107.3550</td>\n",
       "      <td>2988674.0</td>\n",
       "      <td>0.001913</td>\n",
       "      <td>268.75</td>\n",
       "      <td>270.2874</td>\n",
       "      <td>267.83</td>\n",
       "      <td>270.08</td>\n",
       "      <td>63409417</td>\n",
       "      <td>0.000407</td>\n",
       "    </tr>\n",
       "  </tbody>\n",
       "</table>\n",
       "</div>"
      ],
      "text/plain": [
       "                              AGG                                          \\\n",
       "                             open      high      low     close     volume   \n",
       "time                                                                        \n",
       "2019-02-04 00:00:00-05:00  106.83  106.9000  106.770  106.8950  9790488.0   \n",
       "2019-02-05 00:00:00-05:00  106.95  107.1400  106.950  107.0900  4918385.0   \n",
       "2019-02-06 00:00:00-05:00  107.20  107.2200  106.985  107.0441  6022187.0   \n",
       "2019-02-07 00:00:00-05:00  107.15  107.1983  107.030  107.1500  3080898.0   \n",
       "2019-02-08 00:00:00-05:00  107.17  107.3800  107.170  107.3550  2988674.0   \n",
       "\n",
       "                                           SPY                            \\\n",
       "                          daily_return    open      high     low   close   \n",
       "time                                                                       \n",
       "2019-02-04 00:00:00-05:00          NaN  270.11  271.8000  269.36  271.78   \n",
       "2019-02-05 00:00:00-05:00     0.001824  272.44  273.4400  271.88  273.13   \n",
       "2019-02-06 00:00:00-05:00    -0.000429  272.79  273.3400  271.92  272.70   \n",
       "2019-02-07 00:00:00-05:00     0.000989  270.94  271.5500  268.29  269.97   \n",
       "2019-02-08 00:00:00-05:00     0.001913  268.75  270.2874  267.83  270.08   \n",
       "\n",
       "                                                  \n",
       "                             volume daily_return  \n",
       "time                                              \n",
       "2019-02-04 00:00:00-05:00  46985797          NaN  \n",
       "2019-02-05 00:00:00-05:00  61540042     0.004967  \n",
       "2019-02-06 00:00:00-05:00  43446324    -0.001574  \n",
       "2019-02-07 00:00:00-05:00  83380785    -0.010011  \n",
       "2019-02-08 00:00:00-05:00  63409417     0.000407  "
      ]
     },
     "execution_count": 30,
     "metadata": {},
     "output_type": "execute_result"
    }
   ],
   "source": [
    "# Configure the Monte Carlo simulation to forecast 30 years cumulative returns\n",
    "# The weights should be split 40% to AGG and 60% to SPY.\n",
    "# Run 500 samples.\n",
    "MC_30_year_sim=MCSimulation(\n",
    "    portfolio_data=prices_3_years_df,\n",
    "    weights=[.40, .60],\n",
    "    num_simulation=500,\n",
    "    num_trading_days=252*30)\n",
    "\n",
    "# Review the simulation input data\n",
    "MC_30_year_sim.portfolio_data.head()"
   ]
  },
  {
   "cell_type": "code",
   "execution_count": 31,
   "metadata": {},
   "outputs": [
    {
     "name": "stdout",
     "output_type": "stream",
     "text": [
      "Running Monte Carlo simulation number 0.\n",
      "Running Monte Carlo simulation number 10.\n",
      "Running Monte Carlo simulation number 20.\n",
      "Running Monte Carlo simulation number 30.\n",
      "Running Monte Carlo simulation number 40.\n",
      "Running Monte Carlo simulation number 50.\n",
      "Running Monte Carlo simulation number 60.\n",
      "Running Monte Carlo simulation number 70.\n",
      "Running Monte Carlo simulation number 80.\n",
      "Running Monte Carlo simulation number 90.\n",
      "Running Monte Carlo simulation number 100.\n"
     ]
    },
    {
     "name": "stderr",
     "output_type": "stream",
     "text": [
      "/Users/thomasbrierton/Desktop/Financial_Planning_Simulation/MCForecastTools.py:117: PerformanceWarning: DataFrame is highly fragmented.  This is usually the result of calling `frame.insert` many times, which has poor performance.  Consider joining all columns at once using pd.concat(axis=1) instead.  To get a de-fragmented frame, use `newframe = frame.copy()`\n",
      "  portfolio_cumulative_returns[n] = (1 + sim_df.fillna(0)).cumprod()\n"
     ]
    },
    {
     "name": "stdout",
     "output_type": "stream",
     "text": [
      "Running Monte Carlo simulation number 110.\n",
      "Running Monte Carlo simulation number 120.\n",
      "Running Monte Carlo simulation number 130.\n",
      "Running Monte Carlo simulation number 140.\n",
      "Running Monte Carlo simulation number 150.\n",
      "Running Monte Carlo simulation number 160.\n",
      "Running Monte Carlo simulation number 170.\n",
      "Running Monte Carlo simulation number 180.\n",
      "Running Monte Carlo simulation number 190.\n",
      "Running Monte Carlo simulation number 200.\n",
      "Running Monte Carlo simulation number 210.\n",
      "Running Monte Carlo simulation number 220.\n",
      "Running Monte Carlo simulation number 230.\n",
      "Running Monte Carlo simulation number 240.\n",
      "Running Monte Carlo simulation number 250.\n",
      "Running Monte Carlo simulation number 260.\n",
      "Running Monte Carlo simulation number 270.\n",
      "Running Monte Carlo simulation number 280.\n",
      "Running Monte Carlo simulation number 290.\n",
      "Running Monte Carlo simulation number 300.\n",
      "Running Monte Carlo simulation number 310.\n",
      "Running Monte Carlo simulation number 320.\n",
      "Running Monte Carlo simulation number 330.\n",
      "Running Monte Carlo simulation number 340.\n",
      "Running Monte Carlo simulation number 350.\n",
      "Running Monte Carlo simulation number 360.\n",
      "Running Monte Carlo simulation number 370.\n",
      "Running Monte Carlo simulation number 380.\n",
      "Running Monte Carlo simulation number 390.\n",
      "Running Monte Carlo simulation number 400.\n",
      "Running Monte Carlo simulation number 410.\n",
      "Running Monte Carlo simulation number 420.\n",
      "Running Monte Carlo simulation number 430.\n",
      "Running Monte Carlo simulation number 440.\n",
      "Running Monte Carlo simulation number 450.\n",
      "Running Monte Carlo simulation number 460.\n",
      "Running Monte Carlo simulation number 470.\n",
      "Running Monte Carlo simulation number 480.\n",
      "Running Monte Carlo simulation number 490.\n"
     ]
    },
    {
     "data": {
      "text/html": [
       "<div>\n",
       "<style scoped>\n",
       "    .dataframe tbody tr th:only-of-type {\n",
       "        vertical-align: middle;\n",
       "    }\n",
       "\n",
       "    .dataframe tbody tr th {\n",
       "        vertical-align: top;\n",
       "    }\n",
       "\n",
       "    .dataframe thead th {\n",
       "        text-align: right;\n",
       "    }\n",
       "</style>\n",
       "<table border=\"1\" class=\"dataframe\">\n",
       "  <thead>\n",
       "    <tr style=\"text-align: right;\">\n",
       "      <th></th>\n",
       "      <th>0</th>\n",
       "      <th>1</th>\n",
       "      <th>2</th>\n",
       "      <th>3</th>\n",
       "      <th>4</th>\n",
       "      <th>5</th>\n",
       "      <th>6</th>\n",
       "      <th>7</th>\n",
       "      <th>8</th>\n",
       "      <th>9</th>\n",
       "      <th>...</th>\n",
       "      <th>490</th>\n",
       "      <th>491</th>\n",
       "      <th>492</th>\n",
       "      <th>493</th>\n",
       "      <th>494</th>\n",
       "      <th>495</th>\n",
       "      <th>496</th>\n",
       "      <th>497</th>\n",
       "      <th>498</th>\n",
       "      <th>499</th>\n",
       "    </tr>\n",
       "  </thead>\n",
       "  <tbody>\n",
       "    <tr>\n",
       "      <th>0</th>\n",
       "      <td>1.000000</td>\n",
       "      <td>1.000000</td>\n",
       "      <td>1.000000</td>\n",
       "      <td>1.000000</td>\n",
       "      <td>1.000000</td>\n",
       "      <td>1.000000</td>\n",
       "      <td>1.000000</td>\n",
       "      <td>1.000000</td>\n",
       "      <td>1.000000</td>\n",
       "      <td>1.000000</td>\n",
       "      <td>...</td>\n",
       "      <td>1.000000</td>\n",
       "      <td>1.000000</td>\n",
       "      <td>1.000000</td>\n",
       "      <td>1.000000</td>\n",
       "      <td>1.000000</td>\n",
       "      <td>1.000000</td>\n",
       "      <td>1.000000</td>\n",
       "      <td>1.000000</td>\n",
       "      <td>1.000000</td>\n",
       "      <td>1.000000</td>\n",
       "    </tr>\n",
       "    <tr>\n",
       "      <th>1</th>\n",
       "      <td>0.993398</td>\n",
       "      <td>0.998405</td>\n",
       "      <td>1.017279</td>\n",
       "      <td>1.016119</td>\n",
       "      <td>0.997203</td>\n",
       "      <td>0.989400</td>\n",
       "      <td>0.997481</td>\n",
       "      <td>0.996953</td>\n",
       "      <td>1.011920</td>\n",
       "      <td>0.990767</td>\n",
       "      <td>...</td>\n",
       "      <td>1.016687</td>\n",
       "      <td>0.997816</td>\n",
       "      <td>0.995912</td>\n",
       "      <td>1.000365</td>\n",
       "      <td>1.002789</td>\n",
       "      <td>1.006045</td>\n",
       "      <td>1.004166</td>\n",
       "      <td>0.991140</td>\n",
       "      <td>1.002911</td>\n",
       "      <td>1.009663</td>\n",
       "    </tr>\n",
       "    <tr>\n",
       "      <th>2</th>\n",
       "      <td>0.991808</td>\n",
       "      <td>0.997051</td>\n",
       "      <td>1.037192</td>\n",
       "      <td>1.014372</td>\n",
       "      <td>0.994803</td>\n",
       "      <td>0.970562</td>\n",
       "      <td>0.993915</td>\n",
       "      <td>1.009043</td>\n",
       "      <td>1.022783</td>\n",
       "      <td>0.989494</td>\n",
       "      <td>...</td>\n",
       "      <td>1.015208</td>\n",
       "      <td>1.003620</td>\n",
       "      <td>1.003656</td>\n",
       "      <td>1.009774</td>\n",
       "      <td>0.995193</td>\n",
       "      <td>1.000477</td>\n",
       "      <td>1.013762</td>\n",
       "      <td>0.988167</td>\n",
       "      <td>1.000314</td>\n",
       "      <td>1.013327</td>\n",
       "    </tr>\n",
       "    <tr>\n",
       "      <th>3</th>\n",
       "      <td>0.995569</td>\n",
       "      <td>0.990802</td>\n",
       "      <td>1.042407</td>\n",
       "      <td>1.027552</td>\n",
       "      <td>1.001064</td>\n",
       "      <td>0.969300</td>\n",
       "      <td>0.981486</td>\n",
       "      <td>1.017486</td>\n",
       "      <td>1.023452</td>\n",
       "      <td>0.987121</td>\n",
       "      <td>...</td>\n",
       "      <td>1.002830</td>\n",
       "      <td>1.007633</td>\n",
       "      <td>1.016467</td>\n",
       "      <td>1.005300</td>\n",
       "      <td>1.000302</td>\n",
       "      <td>0.996475</td>\n",
       "      <td>1.014819</td>\n",
       "      <td>0.963135</td>\n",
       "      <td>0.998384</td>\n",
       "      <td>1.020604</td>\n",
       "    </tr>\n",
       "    <tr>\n",
       "      <th>4</th>\n",
       "      <td>0.995998</td>\n",
       "      <td>1.005309</td>\n",
       "      <td>1.043989</td>\n",
       "      <td>1.043327</td>\n",
       "      <td>1.013694</td>\n",
       "      <td>0.978276</td>\n",
       "      <td>0.969819</td>\n",
       "      <td>1.025627</td>\n",
       "      <td>1.022637</td>\n",
       "      <td>0.996244</td>\n",
       "      <td>...</td>\n",
       "      <td>1.014157</td>\n",
       "      <td>1.008607</td>\n",
       "      <td>1.018196</td>\n",
       "      <td>1.011285</td>\n",
       "      <td>1.018956</td>\n",
       "      <td>0.991263</td>\n",
       "      <td>1.017388</td>\n",
       "      <td>0.957512</td>\n",
       "      <td>0.990637</td>\n",
       "      <td>1.000557</td>\n",
       "    </tr>\n",
       "    <tr>\n",
       "      <th>...</th>\n",
       "      <td>...</td>\n",
       "      <td>...</td>\n",
       "      <td>...</td>\n",
       "      <td>...</td>\n",
       "      <td>...</td>\n",
       "      <td>...</td>\n",
       "      <td>...</td>\n",
       "      <td>...</td>\n",
       "      <td>...</td>\n",
       "      <td>...</td>\n",
       "      <td>...</td>\n",
       "      <td>...</td>\n",
       "      <td>...</td>\n",
       "      <td>...</td>\n",
       "      <td>...</td>\n",
       "      <td>...</td>\n",
       "      <td>...</td>\n",
       "      <td>...</td>\n",
       "      <td>...</td>\n",
       "      <td>...</td>\n",
       "      <td>...</td>\n",
       "    </tr>\n",
       "    <tr>\n",
       "      <th>7556</th>\n",
       "      <td>52.321161</td>\n",
       "      <td>29.678665</td>\n",
       "      <td>9.594987</td>\n",
       "      <td>30.467678</td>\n",
       "      <td>24.965421</td>\n",
       "      <td>63.789228</td>\n",
       "      <td>156.284497</td>\n",
       "      <td>20.283898</td>\n",
       "      <td>38.853587</td>\n",
       "      <td>32.904458</td>\n",
       "      <td>...</td>\n",
       "      <td>65.540193</td>\n",
       "      <td>18.768493</td>\n",
       "      <td>19.708741</td>\n",
       "      <td>34.730556</td>\n",
       "      <td>60.587675</td>\n",
       "      <td>12.787037</td>\n",
       "      <td>69.890920</td>\n",
       "      <td>51.746103</td>\n",
       "      <td>143.505687</td>\n",
       "      <td>33.933280</td>\n",
       "    </tr>\n",
       "    <tr>\n",
       "      <th>7557</th>\n",
       "      <td>52.568183</td>\n",
       "      <td>30.131306</td>\n",
       "      <td>9.510318</td>\n",
       "      <td>30.330086</td>\n",
       "      <td>24.534658</td>\n",
       "      <td>62.804875</td>\n",
       "      <td>157.714095</td>\n",
       "      <td>20.243996</td>\n",
       "      <td>38.520673</td>\n",
       "      <td>33.151804</td>\n",
       "      <td>...</td>\n",
       "      <td>65.560148</td>\n",
       "      <td>18.776377</td>\n",
       "      <td>19.745803</td>\n",
       "      <td>34.517777</td>\n",
       "      <td>60.718628</td>\n",
       "      <td>12.725349</td>\n",
       "      <td>70.092165</td>\n",
       "      <td>50.787796</td>\n",
       "      <td>143.303448</td>\n",
       "      <td>33.602302</td>\n",
       "    </tr>\n",
       "    <tr>\n",
       "      <th>7558</th>\n",
       "      <td>52.787438</td>\n",
       "      <td>30.033242</td>\n",
       "      <td>9.459430</td>\n",
       "      <td>30.254840</td>\n",
       "      <td>24.580011</td>\n",
       "      <td>61.741422</td>\n",
       "      <td>159.191053</td>\n",
       "      <td>20.382190</td>\n",
       "      <td>38.183001</td>\n",
       "      <td>33.127413</td>\n",
       "      <td>...</td>\n",
       "      <td>65.522105</td>\n",
       "      <td>18.799746</td>\n",
       "      <td>19.630257</td>\n",
       "      <td>34.794295</td>\n",
       "      <td>61.495018</td>\n",
       "      <td>12.491965</td>\n",
       "      <td>70.577093</td>\n",
       "      <td>51.670404</td>\n",
       "      <td>146.210150</td>\n",
       "      <td>33.476851</td>\n",
       "    </tr>\n",
       "    <tr>\n",
       "      <th>7559</th>\n",
       "      <td>53.302070</td>\n",
       "      <td>29.825604</td>\n",
       "      <td>9.578342</td>\n",
       "      <td>30.323212</td>\n",
       "      <td>24.367923</td>\n",
       "      <td>61.350776</td>\n",
       "      <td>160.234901</td>\n",
       "      <td>20.340547</td>\n",
       "      <td>38.418914</td>\n",
       "      <td>32.885624</td>\n",
       "      <td>...</td>\n",
       "      <td>65.687474</td>\n",
       "      <td>19.038214</td>\n",
       "      <td>19.560863</td>\n",
       "      <td>34.639488</td>\n",
       "      <td>61.109363</td>\n",
       "      <td>12.385958</td>\n",
       "      <td>70.723121</td>\n",
       "      <td>52.458986</td>\n",
       "      <td>147.873767</td>\n",
       "      <td>33.393440</td>\n",
       "    </tr>\n",
       "    <tr>\n",
       "      <th>7560</th>\n",
       "      <td>53.838203</td>\n",
       "      <td>30.094869</td>\n",
       "      <td>9.724804</td>\n",
       "      <td>30.266665</td>\n",
       "      <td>23.851903</td>\n",
       "      <td>61.159360</td>\n",
       "      <td>162.264756</td>\n",
       "      <td>19.973315</td>\n",
       "      <td>38.199694</td>\n",
       "      <td>32.535889</td>\n",
       "      <td>...</td>\n",
       "      <td>66.165461</td>\n",
       "      <td>19.243713</td>\n",
       "      <td>19.564081</td>\n",
       "      <td>34.613215</td>\n",
       "      <td>60.689767</td>\n",
       "      <td>12.450872</td>\n",
       "      <td>71.225961</td>\n",
       "      <td>52.309393</td>\n",
       "      <td>146.993341</td>\n",
       "      <td>33.161063</td>\n",
       "    </tr>\n",
       "  </tbody>\n",
       "</table>\n",
       "<p>7561 rows × 500 columns</p>\n",
       "</div>"
      ],
      "text/plain": [
       "            0          1         2          3          4          5    \\\n",
       "0      1.000000   1.000000  1.000000   1.000000   1.000000   1.000000   \n",
       "1      0.993398   0.998405  1.017279   1.016119   0.997203   0.989400   \n",
       "2      0.991808   0.997051  1.037192   1.014372   0.994803   0.970562   \n",
       "3      0.995569   0.990802  1.042407   1.027552   1.001064   0.969300   \n",
       "4      0.995998   1.005309  1.043989   1.043327   1.013694   0.978276   \n",
       "...         ...        ...       ...        ...        ...        ...   \n",
       "7556  52.321161  29.678665  9.594987  30.467678  24.965421  63.789228   \n",
       "7557  52.568183  30.131306  9.510318  30.330086  24.534658  62.804875   \n",
       "7558  52.787438  30.033242  9.459430  30.254840  24.580011  61.741422   \n",
       "7559  53.302070  29.825604  9.578342  30.323212  24.367923  61.350776   \n",
       "7560  53.838203  30.094869  9.724804  30.266665  23.851903  61.159360   \n",
       "\n",
       "             6          7          8          9    ...        490        491  \\\n",
       "0       1.000000   1.000000   1.000000   1.000000  ...   1.000000   1.000000   \n",
       "1       0.997481   0.996953   1.011920   0.990767  ...   1.016687   0.997816   \n",
       "2       0.993915   1.009043   1.022783   0.989494  ...   1.015208   1.003620   \n",
       "3       0.981486   1.017486   1.023452   0.987121  ...   1.002830   1.007633   \n",
       "4       0.969819   1.025627   1.022637   0.996244  ...   1.014157   1.008607   \n",
       "...          ...        ...        ...        ...  ...        ...        ...   \n",
       "7556  156.284497  20.283898  38.853587  32.904458  ...  65.540193  18.768493   \n",
       "7557  157.714095  20.243996  38.520673  33.151804  ...  65.560148  18.776377   \n",
       "7558  159.191053  20.382190  38.183001  33.127413  ...  65.522105  18.799746   \n",
       "7559  160.234901  20.340547  38.418914  32.885624  ...  65.687474  19.038214   \n",
       "7560  162.264756  19.973315  38.199694  32.535889  ...  66.165461  19.243713   \n",
       "\n",
       "            492        493        494        495        496        497  \\\n",
       "0      1.000000   1.000000   1.000000   1.000000   1.000000   1.000000   \n",
       "1      0.995912   1.000365   1.002789   1.006045   1.004166   0.991140   \n",
       "2      1.003656   1.009774   0.995193   1.000477   1.013762   0.988167   \n",
       "3      1.016467   1.005300   1.000302   0.996475   1.014819   0.963135   \n",
       "4      1.018196   1.011285   1.018956   0.991263   1.017388   0.957512   \n",
       "...         ...        ...        ...        ...        ...        ...   \n",
       "7556  19.708741  34.730556  60.587675  12.787037  69.890920  51.746103   \n",
       "7557  19.745803  34.517777  60.718628  12.725349  70.092165  50.787796   \n",
       "7558  19.630257  34.794295  61.495018  12.491965  70.577093  51.670404   \n",
       "7559  19.560863  34.639488  61.109363  12.385958  70.723121  52.458986   \n",
       "7560  19.564081  34.613215  60.689767  12.450872  71.225961  52.309393   \n",
       "\n",
       "             498        499  \n",
       "0       1.000000   1.000000  \n",
       "1       1.002911   1.009663  \n",
       "2       1.000314   1.013327  \n",
       "3       0.998384   1.020604  \n",
       "4       0.990637   1.000557  \n",
       "...          ...        ...  \n",
       "7556  143.505687  33.933280  \n",
       "7557  143.303448  33.602302  \n",
       "7558  146.210150  33.476851  \n",
       "7559  147.873767  33.393440  \n",
       "7560  146.993341  33.161063  \n",
       "\n",
       "[7561 rows x 500 columns]"
      ]
     },
     "execution_count": 31,
     "metadata": {},
     "output_type": "execute_result"
    }
   ],
   "source": [
    "# Run the Monte Carlo simulation to forecast 30 years cumulative returns\n",
    "MC_30_year_sim.calc_cumulative_return()\n"
   ]
  },
  {
   "cell_type": "code",
   "execution_count": 32,
   "metadata": {},
   "outputs": [
    {
     "data": {
      "image/png": "[encoded data removed]",
      "text/plain": [
       "<Figure size 432x288 with 1 Axes>"
      ]
     },
     "metadata": {
      "needs_background": "light"
     },
     "output_type": "display_data"
    }
   ],
   "source": [
    "# Visualize the 30-year Monte Carlo simulation by creating an\n",
    "# overlay line plot\n",
    "MC_30_year_sim_line_plot = MC_30_year_sim.plot_simulation()\n"
   ]
  },
  {
   "cell_type": "markdown",
   "metadata": {},
   "source": [
    "#### Step 3: Plot the probability distribution of the Monte Carlo simulation."
   ]
  },
  {
   "cell_type": "code",
   "execution_count": 33,
   "metadata": {},
   "outputs": [
    {
     "data": {
      "image/png": "[encoded data removed]",
      "text/plain": [
       "<Figure size 432x288 with 1 Axes>"
      ]
     },
     "metadata": {
      "needs_background": "light"
     },
     "output_type": "display_data"
    }
   ],
   "source": [
    "# Visualize the probability distribution of the 30-year Monte Carlo simulation \n",
    "# by plotting a histogram\n",
    "MC_30_year_sim_hist_plot = MC_30_year_sim.plot_distribution()\n"
   ]
  },
  {
   "cell_type": "markdown",
   "metadata": {},
   "source": [
    "#### Step 4: Generate the summary statistics for the Monte Carlo simulation."
   ]
  },
  {
   "cell_type": "code",
   "execution_count": 34,
   "metadata": {},
   "outputs": [
    {
     "data": {
      "text/plain": [
       "count           500.000000\n",
       "mean             42.895795\n",
       "std              32.185686\n",
       "min               1.999195\n",
       "25%              20.107202\n",
       "50%              33.968470\n",
       "75%              56.175256\n",
       "max             192.125559\n",
       "95% CI Lower      8.772154\n",
       "95% CI Upper    135.492983\n",
       "Name: 7560, dtype: float64"
      ]
     },
     "execution_count": 34,
     "metadata": {},
     "output_type": "execute_result"
    }
   ],
   "source": [
    "# Generate summary statistics from the 30-year Monte Carlo simulation results\n",
    "# Save the results as a variable\n",
    "MC_30_year_sim_stats = MC_30_year_sim.summarize_cumulative_return()\n",
    "\n",
    "\n",
    "# Review the 30-year Monte Carlo summary statistics\n",
    "MC_30_year_sim_stats"
   ]
  },
  {
   "cell_type": "markdown",
   "metadata": {},
   "source": [
    "### Analyze the Retirement Portfolio Forecasts\n",
    "\n",
    "Using the current value of only the stock and bond portion of the member's portfolio and the summary statistics that you generated from the Monte Carlo simulation, answer the following question in your Jupyter notebook:\n",
    "\n",
    "-  What are the lower and upper bounds for the expected value of the portfolio with a 95% confidence interval?\n"
   ]
  },
  {
   "cell_type": "code",
   "execution_count": 35,
   "metadata": {},
   "outputs": [
    {
     "name": "stdout",
     "output_type": "stream",
     "text": [
      "The current balance of the stock and bond portion of the portfolio is $ 72647.00 USD.\n"
     ]
    }
   ],
   "source": [
    "# Print the current balance of the stock and bond portion of the members portfolio\n",
    "print(f\"The current balance of the stock and bond portion of the portfolio is ${total_stocks_bonds: .2f} USD.\")\n"
   ]
  },
  {
   "cell_type": "code",
   "execution_count": 36,
   "metadata": {},
   "outputs": [
    {
     "name": "stdout",
     "output_type": "stream",
     "text": [
      "There is a 95% chance that the current value of the stock/bond portion of the portfolio ($72,647), weighted 60% in SPY and 40% in AGG, will be in the range of $637,270.64 and $9,843,158.72 over the next 30 years.\n"
     ]
    }
   ],
   "source": [
    "# Use the lower and upper `95%` confidence intervals to calculate the range of the possible outcomes for the current stock/bond portfolio\n",
    "ci_lower_thirty_cumulative_return = round(MC_30_year_sim_stats[8] * total_stocks_bonds, 2)\n",
    "ci_upper_thirty_cumulative_return = round(MC_30_year_sim_stats[9] * total_stocks_bonds, 2)\n",
    "\n",
    "# Print the result of your calculations\n",
    "print(f\"There is a 95% chance that the current value of the stock/bond portion of the portfolio ($72,647),\"\n",
    "      f\" weighted 60% in SPY and 40% in AGG, will be in the range of\"\n",
    "      f\" ${ci_lower_thirty_cumulative_return:,.2f} and ${ci_upper_thirty_cumulative_return:,.2f}\"\n",
    "      f\" over the next 30 years.\")\n"
   ]
  },
  {
   "cell_type": "markdown",
   "metadata": {},
   "source": [
    "### Forecast Cumulative Returns in 10 Years\n",
    "\n",
    "The CTO of the credit union is impressed with your work on these planning tools but wonders if 30 years is a long time to wait until retirement. So, your next task is to adjust the retirement portfolio and run a new Monte Carlo simulation to find out if the changes will allow members to retire earlier.\n",
    "\n",
    "For this new Monte Carlo simulation, do the following: \n",
    "\n",
    "- Forecast the cumulative returns for 10 years from now. Because of the shortened investment horizon (30 years to 10 years), the portfolio needs to invest more heavily in the riskier asset&mdash;that is, stock&mdash;to help accumulate wealth for retirement. \n",
    "\n",
    "- Adjust the weights of the retirement portfolio so that the composition for the Monte Carlo simulation consists of 20% bonds and 80% stocks. \n",
    "\n",
    "- Run the simulation over 500 samples, and use the same data that the API call to Alpaca generated.\n",
    "\n",
    "- Based on the new Monte Carlo simulation, answer the following questions in your Jupyter notebook:\n",
    "\n",
    "    - Using the current value of only the stock and bond portion of the member's portfolio and the summary statistics that you generated from the new Monte Carlo simulation, what are the lower and upper bounds for the expected value of the portfolio (with the new weights) with a 95% confidence interval?\n",
    "\n",
    "    - Will weighting the portfolio more heavily toward stocks allow the credit union members to retire after only 10 years?\n"
   ]
  },
  {
   "cell_type": "code",
   "execution_count": 37,
   "metadata": {},
   "outputs": [
    {
     "data": {
      "text/html": [
       "<div>\n",
       "<style scoped>\n",
       "    .dataframe tbody tr th:only-of-type {\n",
       "        vertical-align: middle;\n",
       "    }\n",
       "\n",
       "    .dataframe tbody tr th {\n",
       "        vertical-align: top;\n",
       "    }\n",
       "\n",
       "    .dataframe thead tr th {\n",
       "        text-align: left;\n",
       "    }\n",
       "\n",
       "    .dataframe thead tr:last-of-type th {\n",
       "        text-align: right;\n",
       "    }\n",
       "</style>\n",
       "<table border=\"1\" class=\"dataframe\">\n",
       "  <thead>\n",
       "    <tr>\n",
       "      <th></th>\n",
       "      <th colspan=\"6\" halign=\"left\">AGG</th>\n",
       "      <th colspan=\"6\" halign=\"left\">SPY</th>\n",
       "    </tr>\n",
       "    <tr>\n",
       "      <th></th>\n",
       "      <th>open</th>\n",
       "      <th>high</th>\n",
       "      <th>low</th>\n",
       "      <th>close</th>\n",
       "      <th>volume</th>\n",
       "      <th>daily_return</th>\n",
       "      <th>open</th>\n",
       "      <th>high</th>\n",
       "      <th>low</th>\n",
       "      <th>close</th>\n",
       "      <th>volume</th>\n",
       "      <th>daily_return</th>\n",
       "    </tr>\n",
       "    <tr>\n",
       "      <th>time</th>\n",
       "      <th></th>\n",
       "      <th></th>\n",
       "      <th></th>\n",
       "      <th></th>\n",
       "      <th></th>\n",
       "      <th></th>\n",
       "      <th></th>\n",
       "      <th></th>\n",
       "      <th></th>\n",
       "      <th></th>\n",
       "      <th></th>\n",
       "      <th></th>\n",
       "    </tr>\n",
       "  </thead>\n",
       "  <tbody>\n",
       "    <tr>\n",
       "      <th>2019-02-04 00:00:00-05:00</th>\n",
       "      <td>106.83</td>\n",
       "      <td>106.9000</td>\n",
       "      <td>106.770</td>\n",
       "      <td>106.8950</td>\n",
       "      <td>9790488.0</td>\n",
       "      <td>NaN</td>\n",
       "      <td>270.11</td>\n",
       "      <td>271.8000</td>\n",
       "      <td>269.36</td>\n",
       "      <td>271.78</td>\n",
       "      <td>46985797</td>\n",
       "      <td>NaN</td>\n",
       "    </tr>\n",
       "    <tr>\n",
       "      <th>2019-02-05 00:00:00-05:00</th>\n",
       "      <td>106.95</td>\n",
       "      <td>107.1400</td>\n",
       "      <td>106.950</td>\n",
       "      <td>107.0900</td>\n",
       "      <td>4918385.0</td>\n",
       "      <td>0.001824</td>\n",
       "      <td>272.44</td>\n",
       "      <td>273.4400</td>\n",
       "      <td>271.88</td>\n",
       "      <td>273.13</td>\n",
       "      <td>61540042</td>\n",
       "      <td>0.004967</td>\n",
       "    </tr>\n",
       "    <tr>\n",
       "      <th>2019-02-06 00:00:00-05:00</th>\n",
       "      <td>107.20</td>\n",
       "      <td>107.2200</td>\n",
       "      <td>106.985</td>\n",
       "      <td>107.0441</td>\n",
       "      <td>6022187.0</td>\n",
       "      <td>-0.000429</td>\n",
       "      <td>272.79</td>\n",
       "      <td>273.3400</td>\n",
       "      <td>271.92</td>\n",
       "      <td>272.70</td>\n",
       "      <td>43446324</td>\n",
       "      <td>-0.001574</td>\n",
       "    </tr>\n",
       "    <tr>\n",
       "      <th>2019-02-07 00:00:00-05:00</th>\n",
       "      <td>107.15</td>\n",
       "      <td>107.1983</td>\n",
       "      <td>107.030</td>\n",
       "      <td>107.1500</td>\n",
       "      <td>3080898.0</td>\n",
       "      <td>0.000989</td>\n",
       "      <td>270.94</td>\n",
       "      <td>271.5500</td>\n",
       "      <td>268.29</td>\n",
       "      <td>269.97</td>\n",
       "      <td>83380785</td>\n",
       "      <td>-0.010011</td>\n",
       "    </tr>\n",
       "    <tr>\n",
       "      <th>2019-02-08 00:00:00-05:00</th>\n",
       "      <td>107.17</td>\n",
       "      <td>107.3800</td>\n",
       "      <td>107.170</td>\n",
       "      <td>107.3550</td>\n",
       "      <td>2988674.0</td>\n",
       "      <td>0.001913</td>\n",
       "      <td>268.75</td>\n",
       "      <td>270.2874</td>\n",
       "      <td>267.83</td>\n",
       "      <td>270.08</td>\n",
       "      <td>63409417</td>\n",
       "      <td>0.000407</td>\n",
       "    </tr>\n",
       "  </tbody>\n",
       "</table>\n",
       "</div>"
      ],
      "text/plain": [
       "                              AGG                                          \\\n",
       "                             open      high      low     close     volume   \n",
       "time                                                                        \n",
       "2019-02-04 00:00:00-05:00  106.83  106.9000  106.770  106.8950  9790488.0   \n",
       "2019-02-05 00:00:00-05:00  106.95  107.1400  106.950  107.0900  4918385.0   \n",
       "2019-02-06 00:00:00-05:00  107.20  107.2200  106.985  107.0441  6022187.0   \n",
       "2019-02-07 00:00:00-05:00  107.15  107.1983  107.030  107.1500  3080898.0   \n",
       "2019-02-08 00:00:00-05:00  107.17  107.3800  107.170  107.3550  2988674.0   \n",
       "\n",
       "                                           SPY                            \\\n",
       "                          daily_return    open      high     low   close   \n",
       "time                                                                       \n",
       "2019-02-04 00:00:00-05:00          NaN  270.11  271.8000  269.36  271.78   \n",
       "2019-02-05 00:00:00-05:00     0.001824  272.44  273.4400  271.88  273.13   \n",
       "2019-02-06 00:00:00-05:00    -0.000429  272.79  273.3400  271.92  272.70   \n",
       "2019-02-07 00:00:00-05:00     0.000989  270.94  271.5500  268.29  269.97   \n",
       "2019-02-08 00:00:00-05:00     0.001913  268.75  270.2874  267.83  270.08   \n",
       "\n",
       "                                                  \n",
       "                             volume daily_return  \n",
       "time                                              \n",
       "2019-02-04 00:00:00-05:00  46985797          NaN  \n",
       "2019-02-05 00:00:00-05:00  61540042     0.004967  \n",
       "2019-02-06 00:00:00-05:00  43446324    -0.001574  \n",
       "2019-02-07 00:00:00-05:00  83380785    -0.010011  \n",
       "2019-02-08 00:00:00-05:00  63409417     0.000407  "
      ]
     },
     "execution_count": 37,
     "metadata": {},
     "output_type": "execute_result"
    }
   ],
   "source": [
    "# Configure a Monte Carlo simulation to forecast 10 years cumulative returns\n",
    "# The weights should be split 20% to AGG and 80% to SPY.\n",
    "# Run 500 samples.\n",
    "MC_10_year_sim=MCSimulation(\n",
    "    portfolio_data=prices_3_years_df,\n",
    "    weights=[.20, .80],\n",
    "    num_simulation=500,\n",
    "    num_trading_days=252*10)\n",
    "\n",
    "# Review the simulation input data\n",
    "MC_10_year_sim.portfolio_data.head()\n"
   ]
  },
  {
   "cell_type": "code",
   "execution_count": 38,
   "metadata": {},
   "outputs": [
    {
     "name": "stdout",
     "output_type": "stream",
     "text": [
      "Running Monte Carlo simulation number 0.\n",
      "Running Monte Carlo simulation number 10.\n",
      "Running Monte Carlo simulation number 20.\n",
      "Running Monte Carlo simulation number 30.\n",
      "Running Monte Carlo simulation number 40.\n",
      "Running Monte Carlo simulation number 50.\n",
      "Running Monte Carlo simulation number 60.\n",
      "Running Monte Carlo simulation number 70.\n",
      "Running Monte Carlo simulation number 80.\n",
      "Running Monte Carlo simulation number 90.\n",
      "Running Monte Carlo simulation number 100.\n"
     ]
    },
    {
     "name": "stderr",
     "output_type": "stream",
     "text": [
      "/Users/thomasbrierton/Desktop/Financial_Planning_Simulation/MCForecastTools.py:117: PerformanceWarning: DataFrame is highly fragmented.  This is usually the result of calling `frame.insert` many times, which has poor performance.  Consider joining all columns at once using pd.concat(axis=1) instead.  To get a de-fragmented frame, use `newframe = frame.copy()`\n",
      "  portfolio_cumulative_returns[n] = (1 + sim_df.fillna(0)).cumprod()\n"
     ]
    },
    {
     "name": "stdout",
     "output_type": "stream",
     "text": [
      "Running Monte Carlo simulation number 110.\n",
      "Running Monte Carlo simulation number 120.\n",
      "Running Monte Carlo simulation number 130.\n",
      "Running Monte Carlo simulation number 140.\n",
      "Running Monte Carlo simulation number 150.\n",
      "Running Monte Carlo simulation number 160.\n",
      "Running Monte Carlo simulation number 170.\n",
      "Running Monte Carlo simulation number 180.\n",
      "Running Monte Carlo simulation number 190.\n",
      "Running Monte Carlo simulation number 200.\n",
      "Running Monte Carlo simulation number 210.\n",
      "Running Monte Carlo simulation number 220.\n",
      "Running Monte Carlo simulation number 230.\n",
      "Running Monte Carlo simulation number 240.\n",
      "Running Monte Carlo simulation number 250.\n",
      "Running Monte Carlo simulation number 260.\n",
      "Running Monte Carlo simulation number 270.\n",
      "Running Monte Carlo simulation number 280.\n",
      "Running Monte Carlo simulation number 290.\n",
      "Running Monte Carlo simulation number 300.\n",
      "Running Monte Carlo simulation number 310.\n",
      "Running Monte Carlo simulation number 320.\n",
      "Running Monte Carlo simulation number 330.\n",
      "Running Monte Carlo simulation number 340.\n",
      "Running Monte Carlo simulation number 350.\n",
      "Running Monte Carlo simulation number 360.\n",
      "Running Monte Carlo simulation number 370.\n",
      "Running Monte Carlo simulation number 380.\n",
      "Running Monte Carlo simulation number 390.\n",
      "Running Monte Carlo simulation number 400.\n",
      "Running Monte Carlo simulation number 410.\n",
      "Running Monte Carlo simulation number 420.\n",
      "Running Monte Carlo simulation number 430.\n",
      "Running Monte Carlo simulation number 440.\n",
      "Running Monte Carlo simulation number 450.\n",
      "Running Monte Carlo simulation number 460.\n",
      "Running Monte Carlo simulation number 470.\n",
      "Running Monte Carlo simulation number 480.\n",
      "Running Monte Carlo simulation number 490.\n"
     ]
    },
    {
     "data": {
      "text/html": [
       "<div>\n",
       "<style scoped>\n",
       "    .dataframe tbody tr th:only-of-type {\n",
       "        vertical-align: middle;\n",
       "    }\n",
       "\n",
       "    .dataframe tbody tr th {\n",
       "        vertical-align: top;\n",
       "    }\n",
       "\n",
       "    .dataframe thead th {\n",
       "        text-align: right;\n",
       "    }\n",
       "</style>\n",
       "<table border=\"1\" class=\"dataframe\">\n",
       "  <thead>\n",
       "    <tr style=\"text-align: right;\">\n",
       "      <th></th>\n",
       "      <th>0</th>\n",
       "      <th>1</th>\n",
       "      <th>2</th>\n",
       "      <th>3</th>\n",
       "      <th>4</th>\n",
       "      <th>5</th>\n",
       "      <th>6</th>\n",
       "      <th>7</th>\n",
       "      <th>8</th>\n",
       "      <th>9</th>\n",
       "      <th>...</th>\n",
       "      <th>490</th>\n",
       "      <th>491</th>\n",
       "      <th>492</th>\n",
       "      <th>493</th>\n",
       "      <th>494</th>\n",
       "      <th>495</th>\n",
       "      <th>496</th>\n",
       "      <th>497</th>\n",
       "      <th>498</th>\n",
       "      <th>499</th>\n",
       "    </tr>\n",
       "  </thead>\n",
       "  <tbody>\n",
       "    <tr>\n",
       "      <th>0</th>\n",
       "      <td>1.000000</td>\n",
       "      <td>1.000000</td>\n",
       "      <td>1.000000</td>\n",
       "      <td>1.000000</td>\n",
       "      <td>1.000000</td>\n",
       "      <td>1.000000</td>\n",
       "      <td>1.000000</td>\n",
       "      <td>1.000000</td>\n",
       "      <td>1.000000</td>\n",
       "      <td>1.000000</td>\n",
       "      <td>...</td>\n",
       "      <td>1.000000</td>\n",
       "      <td>1.000000</td>\n",
       "      <td>1.000000</td>\n",
       "      <td>1.000000</td>\n",
       "      <td>1.000000</td>\n",
       "      <td>1.000000</td>\n",
       "      <td>1.000000</td>\n",
       "      <td>1.000000</td>\n",
       "      <td>1.000000</td>\n",
       "      <td>1.000000</td>\n",
       "    </tr>\n",
       "    <tr>\n",
       "      <th>1</th>\n",
       "      <td>0.991431</td>\n",
       "      <td>1.018149</td>\n",
       "      <td>0.997645</td>\n",
       "      <td>1.000699</td>\n",
       "      <td>0.980964</td>\n",
       "      <td>1.018068</td>\n",
       "      <td>0.997429</td>\n",
       "      <td>0.989054</td>\n",
       "      <td>1.000091</td>\n",
       "      <td>1.000084</td>\n",
       "      <td>...</td>\n",
       "      <td>0.990490</td>\n",
       "      <td>0.991916</td>\n",
       "      <td>1.001162</td>\n",
       "      <td>0.996915</td>\n",
       "      <td>1.007018</td>\n",
       "      <td>0.996617</td>\n",
       "      <td>0.994579</td>\n",
       "      <td>1.016052</td>\n",
       "      <td>0.997884</td>\n",
       "      <td>0.987868</td>\n",
       "    </tr>\n",
       "    <tr>\n",
       "      <th>2</th>\n",
       "      <td>0.999405</td>\n",
       "      <td>1.015055</td>\n",
       "      <td>1.005447</td>\n",
       "      <td>1.019146</td>\n",
       "      <td>0.962020</td>\n",
       "      <td>1.016497</td>\n",
       "      <td>1.010705</td>\n",
       "      <td>0.996348</td>\n",
       "      <td>0.993457</td>\n",
       "      <td>1.004829</td>\n",
       "      <td>...</td>\n",
       "      <td>0.986594</td>\n",
       "      <td>0.990426</td>\n",
       "      <td>1.009855</td>\n",
       "      <td>0.998517</td>\n",
       "      <td>1.014010</td>\n",
       "      <td>0.991377</td>\n",
       "      <td>0.999235</td>\n",
       "      <td>1.005822</td>\n",
       "      <td>1.007533</td>\n",
       "      <td>0.981073</td>\n",
       "    </tr>\n",
       "    <tr>\n",
       "      <th>3</th>\n",
       "      <td>0.986832</td>\n",
       "      <td>1.014440</td>\n",
       "      <td>1.006043</td>\n",
       "      <td>1.021266</td>\n",
       "      <td>0.972342</td>\n",
       "      <td>1.020666</td>\n",
       "      <td>1.023276</td>\n",
       "      <td>1.020455</td>\n",
       "      <td>0.997887</td>\n",
       "      <td>1.027963</td>\n",
       "      <td>...</td>\n",
       "      <td>0.977165</td>\n",
       "      <td>1.001880</td>\n",
       "      <td>1.045030</td>\n",
       "      <td>1.004053</td>\n",
       "      <td>1.004867</td>\n",
       "      <td>0.978275</td>\n",
       "      <td>1.021610</td>\n",
       "      <td>1.007952</td>\n",
       "      <td>1.019527</td>\n",
       "      <td>0.973470</td>\n",
       "    </tr>\n",
       "    <tr>\n",
       "      <th>4</th>\n",
       "      <td>0.998887</td>\n",
       "      <td>1.000513</td>\n",
       "      <td>1.021892</td>\n",
       "      <td>1.015641</td>\n",
       "      <td>0.958135</td>\n",
       "      <td>1.020484</td>\n",
       "      <td>1.034276</td>\n",
       "      <td>1.008620</td>\n",
       "      <td>1.006952</td>\n",
       "      <td>1.040266</td>\n",
       "      <td>...</td>\n",
       "      <td>0.968986</td>\n",
       "      <td>0.993740</td>\n",
       "      <td>1.043090</td>\n",
       "      <td>1.002941</td>\n",
       "      <td>0.998427</td>\n",
       "      <td>0.980583</td>\n",
       "      <td>1.017639</td>\n",
       "      <td>1.019500</td>\n",
       "      <td>1.031571</td>\n",
       "      <td>0.994108</td>\n",
       "    </tr>\n",
       "    <tr>\n",
       "      <th>...</th>\n",
       "      <td>...</td>\n",
       "      <td>...</td>\n",
       "      <td>...</td>\n",
       "      <td>...</td>\n",
       "      <td>...</td>\n",
       "      <td>...</td>\n",
       "      <td>...</td>\n",
       "      <td>...</td>\n",
       "      <td>...</td>\n",
       "      <td>...</td>\n",
       "      <td>...</td>\n",
       "      <td>...</td>\n",
       "      <td>...</td>\n",
       "      <td>...</td>\n",
       "      <td>...</td>\n",
       "      <td>...</td>\n",
       "      <td>...</td>\n",
       "      <td>...</td>\n",
       "      <td>...</td>\n",
       "      <td>...</td>\n",
       "      <td>...</td>\n",
       "    </tr>\n",
       "    <tr>\n",
       "      <th>2516</th>\n",
       "      <td>2.680121</td>\n",
       "      <td>3.048557</td>\n",
       "      <td>4.921199</td>\n",
       "      <td>10.799291</td>\n",
       "      <td>4.946326</td>\n",
       "      <td>3.683989</td>\n",
       "      <td>4.602997</td>\n",
       "      <td>4.656538</td>\n",
       "      <td>2.923516</td>\n",
       "      <td>3.638643</td>\n",
       "      <td>...</td>\n",
       "      <td>2.814325</td>\n",
       "      <td>6.414577</td>\n",
       "      <td>1.757386</td>\n",
       "      <td>2.052579</td>\n",
       "      <td>2.534749</td>\n",
       "      <td>3.298258</td>\n",
       "      <td>5.744914</td>\n",
       "      <td>20.212593</td>\n",
       "      <td>5.951403</td>\n",
       "      <td>2.036399</td>\n",
       "    </tr>\n",
       "    <tr>\n",
       "      <th>2517</th>\n",
       "      <td>2.657029</td>\n",
       "      <td>3.012929</td>\n",
       "      <td>4.849816</td>\n",
       "      <td>10.695650</td>\n",
       "      <td>4.974207</td>\n",
       "      <td>3.685678</td>\n",
       "      <td>4.589745</td>\n",
       "      <td>4.673580</td>\n",
       "      <td>2.916153</td>\n",
       "      <td>3.684890</td>\n",
       "      <td>...</td>\n",
       "      <td>2.775776</td>\n",
       "      <td>6.457896</td>\n",
       "      <td>1.767856</td>\n",
       "      <td>2.057377</td>\n",
       "      <td>2.533602</td>\n",
       "      <td>3.249315</td>\n",
       "      <td>5.731097</td>\n",
       "      <td>20.460241</td>\n",
       "      <td>5.861994</td>\n",
       "      <td>2.042423</td>\n",
       "    </tr>\n",
       "    <tr>\n",
       "      <th>2518</th>\n",
       "      <td>2.626849</td>\n",
       "      <td>2.972539</td>\n",
       "      <td>4.783876</td>\n",
       "      <td>10.865192</td>\n",
       "      <td>4.959969</td>\n",
       "      <td>3.671061</td>\n",
       "      <td>4.620287</td>\n",
       "      <td>4.635010</td>\n",
       "      <td>2.989015</td>\n",
       "      <td>3.704234</td>\n",
       "      <td>...</td>\n",
       "      <td>2.797183</td>\n",
       "      <td>6.360453</td>\n",
       "      <td>1.763851</td>\n",
       "      <td>2.097885</td>\n",
       "      <td>2.531725</td>\n",
       "      <td>3.255483</td>\n",
       "      <td>5.679870</td>\n",
       "      <td>20.772758</td>\n",
       "      <td>5.765690</td>\n",
       "      <td>2.033846</td>\n",
       "    </tr>\n",
       "    <tr>\n",
       "      <th>2519</th>\n",
       "      <td>2.674493</td>\n",
       "      <td>3.005519</td>\n",
       "      <td>4.809351</td>\n",
       "      <td>11.030208</td>\n",
       "      <td>4.891161</td>\n",
       "      <td>3.690318</td>\n",
       "      <td>4.623137</td>\n",
       "      <td>4.689667</td>\n",
       "      <td>2.968991</td>\n",
       "      <td>3.723125</td>\n",
       "      <td>...</td>\n",
       "      <td>2.757448</td>\n",
       "      <td>6.355944</td>\n",
       "      <td>1.740329</td>\n",
       "      <td>2.098462</td>\n",
       "      <td>2.581598</td>\n",
       "      <td>3.190092</td>\n",
       "      <td>5.653984</td>\n",
       "      <td>20.589629</td>\n",
       "      <td>5.832366</td>\n",
       "      <td>2.040061</td>\n",
       "    </tr>\n",
       "    <tr>\n",
       "      <th>2520</th>\n",
       "      <td>2.620459</td>\n",
       "      <td>3.011883</td>\n",
       "      <td>4.765629</td>\n",
       "      <td>11.087487</td>\n",
       "      <td>4.957489</td>\n",
       "      <td>3.705466</td>\n",
       "      <td>4.638920</td>\n",
       "      <td>4.767119</td>\n",
       "      <td>3.001590</td>\n",
       "      <td>3.722873</td>\n",
       "      <td>...</td>\n",
       "      <td>2.764341</td>\n",
       "      <td>6.304397</td>\n",
       "      <td>1.704485</td>\n",
       "      <td>2.053600</td>\n",
       "      <td>2.552842</td>\n",
       "      <td>3.221395</td>\n",
       "      <td>5.634752</td>\n",
       "      <td>20.753525</td>\n",
       "      <td>5.681433</td>\n",
       "      <td>2.061488</td>\n",
       "    </tr>\n",
       "  </tbody>\n",
       "</table>\n",
       "<p>2521 rows × 500 columns</p>\n",
       "</div>"
      ],
      "text/plain": [
       "           0         1         2          3         4         5         6    \\\n",
       "0     1.000000  1.000000  1.000000   1.000000  1.000000  1.000000  1.000000   \n",
       "1     0.991431  1.018149  0.997645   1.000699  0.980964  1.018068  0.997429   \n",
       "2     0.999405  1.015055  1.005447   1.019146  0.962020  1.016497  1.010705   \n",
       "3     0.986832  1.014440  1.006043   1.021266  0.972342  1.020666  1.023276   \n",
       "4     0.998887  1.000513  1.021892   1.015641  0.958135  1.020484  1.034276   \n",
       "...        ...       ...       ...        ...       ...       ...       ...   \n",
       "2516  2.680121  3.048557  4.921199  10.799291  4.946326  3.683989  4.602997   \n",
       "2517  2.657029  3.012929  4.849816  10.695650  4.974207  3.685678  4.589745   \n",
       "2518  2.626849  2.972539  4.783876  10.865192  4.959969  3.671061  4.620287   \n",
       "2519  2.674493  3.005519  4.809351  11.030208  4.891161  3.690318  4.623137   \n",
       "2520  2.620459  3.011883  4.765629  11.087487  4.957489  3.705466  4.638920   \n",
       "\n",
       "           7         8         9    ...       490       491       492  \\\n",
       "0     1.000000  1.000000  1.000000  ...  1.000000  1.000000  1.000000   \n",
       "1     0.989054  1.000091  1.000084  ...  0.990490  0.991916  1.001162   \n",
       "2     0.996348  0.993457  1.004829  ...  0.986594  0.990426  1.009855   \n",
       "3     1.020455  0.997887  1.027963  ...  0.977165  1.001880  1.045030   \n",
       "4     1.008620  1.006952  1.040266  ...  0.968986  0.993740  1.043090   \n",
       "...        ...       ...       ...  ...       ...       ...       ...   \n",
       "2516  4.656538  2.923516  3.638643  ...  2.814325  6.414577  1.757386   \n",
       "2517  4.673580  2.916153  3.684890  ...  2.775776  6.457896  1.767856   \n",
       "2518  4.635010  2.989015  3.704234  ...  2.797183  6.360453  1.763851   \n",
       "2519  4.689667  2.968991  3.723125  ...  2.757448  6.355944  1.740329   \n",
       "2520  4.767119  3.001590  3.722873  ...  2.764341  6.304397  1.704485   \n",
       "\n",
       "           493       494       495       496        497       498       499  \n",
       "0     1.000000  1.000000  1.000000  1.000000   1.000000  1.000000  1.000000  \n",
       "1     0.996915  1.007018  0.996617  0.994579   1.016052  0.997884  0.987868  \n",
       "2     0.998517  1.014010  0.991377  0.999235   1.005822  1.007533  0.981073  \n",
       "3     1.004053  1.004867  0.978275  1.021610   1.007952  1.019527  0.973470  \n",
       "4     1.002941  0.998427  0.980583  1.017639   1.019500  1.031571  0.994108  \n",
       "...        ...       ...       ...       ...        ...       ...       ...  \n",
       "2516  2.052579  2.534749  3.298258  5.744914  20.212593  5.951403  2.036399  \n",
       "2517  2.057377  2.533602  3.249315  5.731097  20.460241  5.861994  2.042423  \n",
       "2518  2.097885  2.531725  3.255483  5.679870  20.772758  5.765690  2.033846  \n",
       "2519  2.098462  2.581598  3.190092  5.653984  20.589629  5.832366  2.040061  \n",
       "2520  2.053600  2.552842  3.221395  5.634752  20.753525  5.681433  2.061488  \n",
       "\n",
       "[2521 rows x 500 columns]"
      ]
     },
     "execution_count": 38,
     "metadata": {},
     "output_type": "execute_result"
    }
   ],
   "source": [
    "# Run the Monte Carlo simulation to forecast 10 years cumulative returns\n",
    "MC_10_year_sim.calc_cumulative_return()\n"
   ]
  },
  {
   "cell_type": "code",
   "execution_count": 39,
   "metadata": {},
   "outputs": [
    {
     "data": {
      "image/png": "[encoded data removed]",
      "text/plain": [
       "<Figure size 432x288 with 1 Axes>"
      ]
     },
     "metadata": {
      "needs_background": "light"
     },
     "output_type": "display_data"
    }
   ],
   "source": [
    "# Visualize the 10-year Monte Carlo simulation by creating an\n",
    "# overlay line plot\n",
    "MC_10_year_sim_line_plot = MC_10_year_sim.plot_simulation()\n"
   ]
  },
  {
   "cell_type": "code",
   "execution_count": 40,
   "metadata": {},
   "outputs": [
    {
     "data": {
      "image/png": "[encoded data removed]",
      "text/plain": [
       "<Figure size 432x288 with 1 Axes>"
      ]
     },
     "metadata": {
      "needs_background": "light"
     },
     "output_type": "display_data"
    }
   ],
   "source": [
    "# Visualize the probability distribution of the 10-year Monte Carlo simulation \n",
    "# by plotting a histogram\n",
    "MC_10_year_sim_hist_plot = MC_10_year_sim.plot_distribution()\n"
   ]
  },
  {
   "cell_type": "code",
   "execution_count": 41,
   "metadata": {},
   "outputs": [
    {
     "data": {
      "text/plain": [
       "count           500.000000\n",
       "mean              5.046583\n",
       "std               3.082157\n",
       "min               1.005794\n",
       "25%               2.979983\n",
       "50%               4.247748\n",
       "75%               6.268426\n",
       "max              23.023531\n",
       "95% CI Lower      1.561940\n",
       "95% CI Upper     12.414882\n",
       "Name: 2520, dtype: float64"
      ]
     },
     "execution_count": 41,
     "metadata": {},
     "output_type": "execute_result"
    }
   ],
   "source": [
    "# Generate summary statistics from the 10-year Monte Carlo simulation results\n",
    "# Save the results as a variable\n",
    "MC_10_year_sim_stats = MC_10_year_sim.summarize_cumulative_return()\n",
    "\n",
    "\n",
    "# Review the 10-year Monte Carlo summary statistics\n",
    "MC_10_year_sim_stats"
   ]
  },
  {
   "cell_type": "markdown",
   "metadata": {},
   "source": [
    "### Answer the following questions:"
   ]
  },
  {
   "cell_type": "markdown",
   "metadata": {},
   "source": [
    "#### Question: Using the current value of only the stock and bond portion of the member's portfolio and the summary statistics that you generated from the new Monte Carlo simulation, what are the lower and upper bounds for the expected value of the portfolio (with the new weights) with a 95% confidence interval?"
   ]
  },
  {
   "cell_type": "code",
   "execution_count": 42,
   "metadata": {},
   "outputs": [
    {
     "name": "stdout",
     "output_type": "stream",
     "text": [
      "The current balance of the stock and bond portion of the portfolio is $ 72647.00 USD.\n"
     ]
    }
   ],
   "source": [
    "# Print the current balance of the stock and bond portion of the members portfolio\n",
    "print(f\"The current balance of the stock and bond portion of the portfolio is ${total_stocks_bonds: .2f} USD.\")\n"
   ]
  },
  {
   "cell_type": "code",
   "execution_count": 43,
   "metadata": {},
   "outputs": [
    {
     "name": "stdout",
     "output_type": "stream",
     "text": [
      "There is a 95% chance that the current value of the stock/bond portion of the portfolio ($72,647), weighted 80% in SPY and 20% in AGG, will be in the range of $113,470.24 and $901,903.92 over the next 10 years.\n"
     ]
    }
   ],
   "source": [
    "# Use the lower and upper `95%` confidence intervals to calculate the range of the possible outcomes for the current stock/bond portfolio\n",
    "ci_lower_ten_cumulative_return = round(MC_10_year_sim_stats[8] * total_stocks_bonds, 2)\n",
    "ci_upper_ten_cumulative_return = round(MC_10_year_sim_stats[9] * total_stocks_bonds, 2)\n",
    "\n",
    "# Print the result of your calculations\n",
    "print(f\"There is a 95% chance that the current value of the stock/bond portion of the portfolio ($72,647),\"\n",
    "      f\" weighted 80% in SPY and 20% in AGG, will be in the range of\"\n",
    "      f\" ${ci_lower_ten_cumulative_return:,.2f} and ${ci_upper_ten_cumulative_return:,.2f}\"\n",
    "      f\" over the next 10 years.\")\n"
   ]
  },
  {
   "cell_type": "markdown",
   "metadata": {},
   "source": [
    "#### Question: Will weighting the portfolio more heavily to stocks allow the credit union members to retire after only 10 years?"
   ]
  },
  {
   "cell_type": "raw",
   "metadata": {},
   "source": [
    "**Answer** # The portfolio weighted heavier towards stocks produced a range of return between $102,191.81 and $973,812.63 with 95% confidence. This is a good return, but other factors need to be taken into consideration to determine if the client is to retire in 10 years. On the low end of the range, retirement would be very difficult. Knowing the client's lifestyle, health benefits, assets etc would be helpful to determine if the 10 year simulation would be realistic for retirement.\n",
    "\n",
    "The 30 year similation produced better reurns, ranging from $523,310.27 and $9,337,080.01 with 95% confidence. These returns would set the client up better for retirement, especially since the length of retirement would be presumeably shorter. An in depth talk with the client outlining their goals would be needed to make a more conclusive decision. \n"
   ]
  },
  {
   "cell_type": "code",
   "execution_count": null,
   "metadata": {},
   "outputs": [],
   "source": []
  }
 ],
 "metadata": {
  "kernelspec": {
   "display_name": "dev",
   "language": "python",
   "name": "dev"
  },
  "language_info": {
   "codemirror_mode": {
    "name": "ipython",
    "version": 3
   },
   "file_extension": ".py",
   "mimetype": "text/x-python",
   "name": "python",
   "nbconvert_exporter": "python",
   "pygments_lexer": "ipython3",
   "version": "3.9.7"
  }
 },
 "nbformat": 4,
 "nbformat_minor": 4
}
